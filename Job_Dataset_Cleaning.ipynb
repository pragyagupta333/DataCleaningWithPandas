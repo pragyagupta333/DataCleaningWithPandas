{
 "cells": [
  {
   "cell_type": "markdown",
   "id": "7ac871d7",
   "metadata": {},
   "source": [
    "# Importing Necessary Libraries"
   ]
  },
  {
   "cell_type": "code",
   "execution_count": 173,
   "id": "640ba724",
   "metadata": {},
   "outputs": [],
   "source": [
    "import pandas as pd\n",
    "import  re\n",
    "import numpy as np"
   ]
  },
  {
   "cell_type": "code",
   "execution_count": 174,
   "id": "7bf8500c",
   "metadata": {},
   "outputs": [],
   "source": [
    "# Reading CSV file\n",
    "df = pd.read_csv(\"./Job_Dataset.csv\")"
   ]
  },
  {
   "cell_type": "code",
   "execution_count": 175,
   "id": "ad93871f",
   "metadata": {},
   "outputs": [
    {
     "data": {
      "text/html": [
       "<div>\n",
       "<style scoped>\n",
       "    .dataframe tbody tr th:only-of-type {\n",
       "        vertical-align: middle;\n",
       "    }\n",
       "\n",
       "    .dataframe tbody tr th {\n",
       "        vertical-align: top;\n",
       "    }\n",
       "\n",
       "    .dataframe thead th {\n",
       "        text-align: right;\n",
       "    }\n",
       "</style>\n",
       "<table border=\"1\" class=\"dataframe\">\n",
       "  <thead>\n",
       "    <tr style=\"text-align: right;\">\n",
       "      <th></th>\n",
       "      <th>country</th>\n",
       "      <th>country_code</th>\n",
       "      <th>date_added</th>\n",
       "      <th>has_expired</th>\n",
       "      <th>job_board</th>\n",
       "      <th>job_description</th>\n",
       "      <th>job_title</th>\n",
       "      <th>job_type</th>\n",
       "      <th>location</th>\n",
       "      <th>organization</th>\n",
       "      <th>page_url</th>\n",
       "      <th>salary</th>\n",
       "      <th>sector</th>\n",
       "      <th>uniq_id</th>\n",
       "    </tr>\n",
       "  </thead>\n",
       "  <tbody>\n",
       "    <tr>\n",
       "      <th>0</th>\n",
       "      <td>United States of America</td>\n",
       "      <td>US</td>\n",
       "      <td>NaN</td>\n",
       "      <td>No</td>\n",
       "      <td>jobs.monster.com</td>\n",
       "      <td>TeamSoft is seeing an IT Support Specialist to...</td>\n",
       "      <td>IT Support Technician Job in Madison</td>\n",
       "      <td>Full Time Employee</td>\n",
       "      <td>Madison, WI 53702</td>\n",
       "      <td>NaN</td>\n",
       "      <td>http://jobview.monster.com/it-support-technici...</td>\n",
       "      <td>NaN</td>\n",
       "      <td>IT/Software Development</td>\n",
       "      <td>11d599f229a80023d2f40e7c52cd941e</td>\n",
       "    </tr>\n",
       "    <tr>\n",
       "      <th>1</th>\n",
       "      <td>United States of America</td>\n",
       "      <td>US</td>\n",
       "      <td>NaN</td>\n",
       "      <td>No</td>\n",
       "      <td>jobs.monster.com</td>\n",
       "      <td>The Wisconsin State Journal is seeking a flexi...</td>\n",
       "      <td>Business Reporter/Editor Job in Madison</td>\n",
       "      <td>Full Time</td>\n",
       "      <td>Madison, WI 53708</td>\n",
       "      <td>Printing and Publishing</td>\n",
       "      <td>http://jobview.monster.com/business-reporter-e...</td>\n",
       "      <td>NaN</td>\n",
       "      <td>NaN</td>\n",
       "      <td>e4cbb126dabf22159aff90223243ff2a</td>\n",
       "    </tr>\n",
       "  </tbody>\n",
       "</table>\n",
       "</div>"
      ],
      "text/plain": [
       "                    country country_code date_added has_expired  \\\n",
       "0  United States of America           US        NaN          No   \n",
       "1  United States of America           US        NaN          No   \n",
       "\n",
       "          job_board                                    job_description  \\\n",
       "0  jobs.monster.com  TeamSoft is seeing an IT Support Specialist to...   \n",
       "1  jobs.monster.com  The Wisconsin State Journal is seeking a flexi...   \n",
       "\n",
       "                                 job_title            job_type  \\\n",
       "0     IT Support Technician Job in Madison  Full Time Employee   \n",
       "1  Business Reporter/Editor Job in Madison           Full Time   \n",
       "\n",
       "            location             organization  \\\n",
       "0  Madison, WI 53702                      NaN   \n",
       "1  Madison, WI 53708  Printing and Publishing   \n",
       "\n",
       "                                            page_url salary  \\\n",
       "0  http://jobview.monster.com/it-support-technici...    NaN   \n",
       "1  http://jobview.monster.com/business-reporter-e...    NaN   \n",
       "\n",
       "                    sector                           uniq_id  \n",
       "0  IT/Software Development  11d599f229a80023d2f40e7c52cd941e  \n",
       "1                      NaN  e4cbb126dabf22159aff90223243ff2a  "
      ]
     },
     "execution_count": 175,
     "metadata": {},
     "output_type": "execute_result"
    }
   ],
   "source": [
    "df.head(2)"
   ]
  },
  {
   "cell_type": "markdown",
   "id": "7eb1a48e",
   "metadata": {},
   "source": [
    "#### [1] Giving Appropiate DataType To Date_added"
   ]
  },
  {
   "cell_type": "code",
   "execution_count": 176,
   "id": "be49e6c9",
   "metadata": {},
   "outputs": [
    {
     "data": {
      "text/plain": [
       "dtype('O')"
      ]
     },
     "execution_count": 176,
     "metadata": {},
     "output_type": "execute_result"
    }
   ],
   "source": [
    "df.date_added.dtypes"
   ]
  },
  {
   "cell_type": "code",
   "execution_count": 177,
   "id": "e62863e9",
   "metadata": {},
   "outputs": [],
   "source": [
    "df['date_added'] = pd.to_datetime(df['date_added'])"
   ]
  },
  {
   "cell_type": "code",
   "execution_count": 178,
   "id": "ae65f432",
   "metadata": {},
   "outputs": [
    {
     "data": {
      "text/plain": [
       "array([                          'NaT', '2016-05-10T00:00:00.000000000',\n",
       "       '2016-05-13T00:00:00.000000000', '2016-05-09T00:00:00.000000000',\n",
       "       '2016-06-10T00:00:00.000000000', '2017-01-02T00:00:00.000000000',\n",
       "       '2016-06-17T00:00:00.000000000', '2016-06-24T00:00:00.000000000',\n",
       "       '2016-06-23T00:00:00.000000000', '2016-12-20T00:00:00.000000000',\n",
       "       '2016-12-12T00:00:00.000000000', '2016-07-15T00:00:00.000000000',\n",
       "       '2016-07-08T00:00:00.000000000', '2016-10-31T00:00:00.000000000',\n",
       "       '2016-10-28T00:00:00.000000000', '2016-04-28T00:00:00.000000000',\n",
       "       '2016-04-27T00:00:00.000000000', '2016-04-29T00:00:00.000000000',\n",
       "       '2016-09-12T00:00:00.000000000', '2017-01-16T00:00:00.000000000',\n",
       "       '2016-09-22T00:00:00.000000000', '2016-03-25T00:00:00.000000000',\n",
       "       '2016-06-20T00:00:00.000000000', '2016-11-17T00:00:00.000000000',\n",
       "       '2016-07-11T00:00:00.000000000', '2016-12-07T00:00:00.000000000',\n",
       "       '2016-12-14T00:00:00.000000000', '2016-12-29T00:00:00.000000000',\n",
       "       '2016-05-05T00:00:00.000000000', '2016-05-06T00:00:00.000000000',\n",
       "       '2016-08-11T00:00:00.000000000', '2016-03-17T00:00:00.000000000',\n",
       "       '2016-04-04T00:00:00.000000000', '2016-04-07T00:00:00.000000000',\n",
       "       '2016-04-06T00:00:00.000000000', '2016-09-21T00:00:00.000000000',\n",
       "       '2016-05-18T00:00:00.000000000', '2016-03-15T00:00:00.000000000',\n",
       "       '2016-05-19T00:00:00.000000000', '2016-06-08T00:00:00.000000000',\n",
       "       '2016-06-07T00:00:00.000000000', '2016-10-18T00:00:00.000000000',\n",
       "       '2016-12-02T00:00:00.000000000', '2016-11-07T00:00:00.000000000',\n",
       "       '2016-03-29T00:00:00.000000000', '2016-04-08T00:00:00.000000000',\n",
       "       '2016-05-26T00:00:00.000000000', '2016-09-15T00:00:00.000000000',\n",
       "       '2016-08-17T00:00:00.000000000', '2016-11-21T00:00:00.000000000',\n",
       "       '2016-12-15T00:00:00.000000000', '2016-10-27T00:00:00.000000000',\n",
       "       '2016-10-25T00:00:00.000000000', '2016-06-27T00:00:00.000000000',\n",
       "       '2016-07-05T00:00:00.000000000', '2016-07-04T00:00:00.000000000',\n",
       "       '2016-07-07T00:00:00.000000000', '2016-08-25T00:00:00.000000000',\n",
       "       '2016-09-05T00:00:00.000000000', '2016-08-23T00:00:00.000000000',\n",
       "       '2016-09-02T00:00:00.000000000', '2016-09-01T00:00:00.000000000',\n",
       "       '2016-08-31T00:00:00.000000000', '2016-09-26T00:00:00.000000000',\n",
       "       '2016-08-05T00:00:00.000000000', '2016-08-02T00:00:00.000000000',\n",
       "       '2016-03-28T00:00:00.000000000', '2016-03-22T00:00:00.000000000',\n",
       "       '2016-02-29T00:00:00.000000000', '2016-09-09T00:00:00.000000000',\n",
       "       '2016-03-11T00:00:00.000000000', '2016-03-21T00:00:00.000000000',\n",
       "       '2016-03-07T00:00:00.000000000', '2016-06-03T00:00:00.000000000',\n",
       "       '2016-06-30T00:00:00.000000000', '2016-09-27T00:00:00.000000000',\n",
       "       '2016-03-30T00:00:00.000000000', '2016-03-24T00:00:00.000000000'],\n",
       "      dtype='datetime64[ns]')"
      ]
     },
     "execution_count": 178,
     "metadata": {},
     "output_type": "execute_result"
    }
   ],
   "source": [
    "df.date_added.unique()\n",
    "# note : Time values will be removed in following steps in date_added cleaning "
   ]
  },
  {
   "cell_type": "markdown",
   "id": "084ac6dc",
   "metadata": {},
   "source": [
    "# Cleaning job_title Column"
   ]
  },
  {
   "cell_type": "markdown",
   "id": "93b8ef64",
   "metadata": {},
   "source": [
    "#### Some rows of column Job_title have the title after substring \"Job Application for\" while others have title value before 'job'substring"
   ]
  },
  {
   "cell_type": "markdown",
   "id": "de6f067a",
   "metadata": {},
   "source": [
    "## [1] Extracting String after \"Job Application for\" "
   ]
  },
  {
   "cell_type": "code",
   "execution_count": 179,
   "id": "79acb19c",
   "metadata": {},
   "outputs": [
    {
     "data": {
      "text/html": [
       "<div>\n",
       "<style scoped>\n",
       "    .dataframe tbody tr th:only-of-type {\n",
       "        vertical-align: middle;\n",
       "    }\n",
       "\n",
       "    .dataframe tbody tr th {\n",
       "        vertical-align: top;\n",
       "    }\n",
       "\n",
       "    .dataframe thead th {\n",
       "        text-align: right;\n",
       "    }\n",
       "</style>\n",
       "<table border=\"1\" class=\"dataframe\">\n",
       "  <thead>\n",
       "    <tr style=\"text-align: right;\">\n",
       "      <th></th>\n",
       "      <th>country</th>\n",
       "      <th>country_code</th>\n",
       "      <th>date_added</th>\n",
       "      <th>has_expired</th>\n",
       "      <th>job_board</th>\n",
       "      <th>job_description</th>\n",
       "      <th>job_title</th>\n",
       "      <th>job_type</th>\n",
       "      <th>location</th>\n",
       "      <th>organization</th>\n",
       "      <th>page_url</th>\n",
       "      <th>salary</th>\n",
       "      <th>sector</th>\n",
       "      <th>uniq_id</th>\n",
       "    </tr>\n",
       "  </thead>\n",
       "  <tbody>\n",
       "    <tr>\n",
       "      <th>2</th>\n",
       "      <td>United States of America</td>\n",
       "      <td>US</td>\n",
       "      <td>NaT</td>\n",
       "      <td>No</td>\n",
       "      <td>jobs.monster.com</td>\n",
       "      <td>Report this job About the Job DePuy Synthes Co...</td>\n",
       "      <td>Johnson &amp; Johnson Family of Companies Job Appl...</td>\n",
       "      <td>Full Time, Employee</td>\n",
       "      <td>DePuy Synthes Companies is a member of Johnson...</td>\n",
       "      <td>Personal and Household Services</td>\n",
       "      <td>http://jobview.monster.com/senior-training-lea...</td>\n",
       "      <td>NaN</td>\n",
       "      <td>NaN</td>\n",
       "      <td>839106b353877fa3d896ffb9c1fe01c0</td>\n",
       "    </tr>\n",
       "    <tr>\n",
       "      <th>6</th>\n",
       "      <td>United States of America</td>\n",
       "      <td>US</td>\n",
       "      <td>NaT</td>\n",
       "      <td>No</td>\n",
       "      <td>jobs.monster.com</td>\n",
       "      <td>Report this job About the Job Based in San Fra...</td>\n",
       "      <td>CyberCoders Job Application for Principal QA E...</td>\n",
       "      <td>Full Time, Employee</td>\n",
       "      <td>Contact name Tony Zerio</td>\n",
       "      <td>Computer Software</td>\n",
       "      <td>http://jobview.monster.com/principal-qa-engine...</td>\n",
       "      <td>NaN</td>\n",
       "      <td>NaN</td>\n",
       "      <td>455802d725fde67293970ab3953b1d39</td>\n",
       "    </tr>\n",
       "  </tbody>\n",
       "</table>\n",
       "</div>"
      ],
      "text/plain": [
       "                    country country_code date_added has_expired  \\\n",
       "2  United States of America           US        NaT          No   \n",
       "6  United States of America           US        NaT          No   \n",
       "\n",
       "          job_board                                    job_description  \\\n",
       "2  jobs.monster.com  Report this job About the Job DePuy Synthes Co...   \n",
       "6  jobs.monster.com  Report this job About the Job Based in San Fra...   \n",
       "\n",
       "                                           job_title             job_type  \\\n",
       "2  Johnson & Johnson Family of Companies Job Appl...  Full Time, Employee   \n",
       "6  CyberCoders Job Application for Principal QA E...  Full Time, Employee   \n",
       "\n",
       "                                            location  \\\n",
       "2  DePuy Synthes Companies is a member of Johnson...   \n",
       "6                            Contact name Tony Zerio   \n",
       "\n",
       "                      organization  \\\n",
       "2  Personal and Household Services   \n",
       "6                Computer Software   \n",
       "\n",
       "                                            page_url salary sector  \\\n",
       "2  http://jobview.monster.com/senior-training-lea...    NaN    NaN   \n",
       "6  http://jobview.monster.com/principal-qa-engine...    NaN    NaN   \n",
       "\n",
       "                            uniq_id  \n",
       "2  839106b353877fa3d896ffb9c1fe01c0  \n",
       "6  455802d725fde67293970ab3953b1d39  "
      ]
     },
     "execution_count": 179,
     "metadata": {},
     "output_type": "execute_result"
    }
   ],
   "source": [
    "# Fetching Rows That Contains Substring \"Job Application for\"\n",
    "df[df['job_title'].str.contains(\"Job Application for\")].head(2)"
   ]
  },
  {
   "cell_type": "code",
   "execution_count": 180,
   "id": "c418ba10",
   "metadata": {},
   "outputs": [],
   "source": [
    "# Spliting job_title into two columns across Substring \"Job Application for\"\n",
    "df[['job_title','job_title_2']] = df['job_title'].str.split(\"Job Application for\",expand = True)"
   ]
  },
  {
   "cell_type": "code",
   "execution_count": 181,
   "id": "3e4a668e",
   "metadata": {},
   "outputs": [
    {
     "data": {
      "text/html": [
       "<div>\n",
       "<style scoped>\n",
       "    .dataframe tbody tr th:only-of-type {\n",
       "        vertical-align: middle;\n",
       "    }\n",
       "\n",
       "    .dataframe tbody tr th {\n",
       "        vertical-align: top;\n",
       "    }\n",
       "\n",
       "    .dataframe thead th {\n",
       "        text-align: right;\n",
       "    }\n",
       "</style>\n",
       "<table border=\"1\" class=\"dataframe\">\n",
       "  <thead>\n",
       "    <tr style=\"text-align: right;\">\n",
       "      <th></th>\n",
       "      <th>job_title</th>\n",
       "      <th>job_title_2</th>\n",
       "    </tr>\n",
       "  </thead>\n",
       "  <tbody>\n",
       "    <tr>\n",
       "      <th>0</th>\n",
       "      <td>IT Support Technician Job in Madison</td>\n",
       "      <td>None</td>\n",
       "    </tr>\n",
       "    <tr>\n",
       "      <th>1</th>\n",
       "      <td>Business Reporter/Editor Job in Madison</td>\n",
       "      <td>None</td>\n",
       "    </tr>\n",
       "    <tr>\n",
       "      <th>2</th>\n",
       "      <td>Johnson &amp; Johnson Family of Companies</td>\n",
       "      <td>Senior Training Leader | Monster.com var MONS...</td>\n",
       "    </tr>\n",
       "  </tbody>\n",
       "</table>\n",
       "</div>"
      ],
      "text/plain": [
       "                                 job_title  \\\n",
       "0     IT Support Technician Job in Madison   \n",
       "1  Business Reporter/Editor Job in Madison   \n",
       "2   Johnson & Johnson Family of Companies    \n",
       "\n",
       "                                         job_title_2  \n",
       "0                                               None  \n",
       "1                                               None  \n",
       "2   Senior Training Leader | Monster.com var MONS...  "
      ]
     },
     "execution_count": 181,
     "metadata": {},
     "output_type": "execute_result"
    }
   ],
   "source": [
    "df[['job_title','job_title_2']].head(3)"
   ]
  },
  {
   "cell_type": "code",
   "execution_count": 182,
   "id": "c659bdae",
   "metadata": {},
   "outputs": [],
   "source": [
    "# add title from job_title_2 to job_title\n",
    "# wherever job_title_2 is not null copy (mask) that non null value into job_title column\n",
    "df['job_title'] = df['job_title'].mask(df['job_title_2'].notnull(),df['job_title_2'],axis = 0)"
   ]
  },
  {
   "cell_type": "code",
   "execution_count": 183,
   "id": "8f68268b",
   "metadata": {},
   "outputs": [
    {
     "data": {
      "text/html": [
       "<div>\n",
       "<style scoped>\n",
       "    .dataframe tbody tr th:only-of-type {\n",
       "        vertical-align: middle;\n",
       "    }\n",
       "\n",
       "    .dataframe tbody tr th {\n",
       "        vertical-align: top;\n",
       "    }\n",
       "\n",
       "    .dataframe thead th {\n",
       "        text-align: right;\n",
       "    }\n",
       "</style>\n",
       "<table border=\"1\" class=\"dataframe\">\n",
       "  <thead>\n",
       "    <tr style=\"text-align: right;\">\n",
       "      <th></th>\n",
       "      <th>job_title</th>\n",
       "      <th>job_title_2</th>\n",
       "    </tr>\n",
       "  </thead>\n",
       "  <tbody>\n",
       "    <tr>\n",
       "      <th>0</th>\n",
       "      <td>IT Support Technician Job in Madison</td>\n",
       "      <td>None</td>\n",
       "    </tr>\n",
       "    <tr>\n",
       "      <th>1</th>\n",
       "      <td>Business Reporter/Editor Job in Madison</td>\n",
       "      <td>None</td>\n",
       "    </tr>\n",
       "    <tr>\n",
       "      <th>2</th>\n",
       "      <td>Senior Training Leader | Monster.com var MONS...</td>\n",
       "      <td>Senior Training Leader | Monster.com var MONS...</td>\n",
       "    </tr>\n",
       "    <tr>\n",
       "      <th>3</th>\n",
       "      <td>Engineer - Quality Job in Dixon</td>\n",
       "      <td>None</td>\n",
       "    </tr>\n",
       "    <tr>\n",
       "      <th>4</th>\n",
       "      <td>Shift Supervisor - Part-Time Job in Camphill</td>\n",
       "      <td>None</td>\n",
       "    </tr>\n",
       "  </tbody>\n",
       "</table>\n",
       "</div>"
      ],
      "text/plain": [
       "                                           job_title  \\\n",
       "0               IT Support Technician Job in Madison   \n",
       "1            Business Reporter/Editor Job in Madison   \n",
       "2   Senior Training Leader | Monster.com var MONS...   \n",
       "3                    Engineer - Quality Job in Dixon   \n",
       "4       Shift Supervisor - Part-Time Job in Camphill   \n",
       "\n",
       "                                         job_title_2  \n",
       "0                                               None  \n",
       "1                                               None  \n",
       "2   Senior Training Leader | Monster.com var MONS...  \n",
       "3                                               None  \n",
       "4                                               None  "
      ]
     },
     "execution_count": 183,
     "metadata": {},
     "output_type": "execute_result"
    }
   ],
   "source": [
    "df[['job_title','job_title_2']].head(5)"
   ]
  },
  {
   "cell_type": "code",
   "execution_count": 184,
   "id": "a659b3b9",
   "metadata": {},
   "outputs": [],
   "source": [
    "df.drop(\"job_title_2\",axis=1,inplace = True)"
   ]
  },
  {
   "cell_type": "markdown",
   "id": "ad7d848a",
   "metadata": {},
   "source": [
    "## [2] Removing unwanted text like ' | Monster.com var MONS..' from such titles"
   ]
  },
  {
   "cell_type": "code",
   "execution_count": 185,
   "id": "88311eaa",
   "metadata": {},
   "outputs": [
    {
     "data": {
      "text/html": [
       "<div>\n",
       "<style scoped>\n",
       "    .dataframe tbody tr th:only-of-type {\n",
       "        vertical-align: middle;\n",
       "    }\n",
       "\n",
       "    .dataframe tbody tr th {\n",
       "        vertical-align: top;\n",
       "    }\n",
       "\n",
       "    .dataframe thead th {\n",
       "        text-align: right;\n",
       "    }\n",
       "</style>\n",
       "<table border=\"1\" class=\"dataframe\">\n",
       "  <thead>\n",
       "    <tr style=\"text-align: right;\">\n",
       "      <th></th>\n",
       "      <th>0</th>\n",
       "      <th>1</th>\n",
       "      <th>2</th>\n",
       "      <th>3</th>\n",
       "    </tr>\n",
       "  </thead>\n",
       "  <tbody>\n",
       "    <tr>\n",
       "      <th>0</th>\n",
       "      <td>IT Support Technician Job in Madison</td>\n",
       "      <td>None</td>\n",
       "      <td>None</td>\n",
       "      <td>None</td>\n",
       "    </tr>\n",
       "    <tr>\n",
       "      <th>1</th>\n",
       "      <td>Business Reporter/Editor Job in Madison</td>\n",
       "      <td>None</td>\n",
       "      <td>None</td>\n",
       "      <td>None</td>\n",
       "    </tr>\n",
       "    <tr>\n",
       "      <th>2</th>\n",
       "      <td>Senior Training Leader</td>\n",
       "      <td>Monster.com var MONS_LOG_VARS = {\"JobID\":</td>\n",
       "      <td>None</td>\n",
       "      <td>None</td>\n",
       "    </tr>\n",
       "    <tr>\n",
       "      <th>3</th>\n",
       "      <td>Engineer - Quality Job in Dixon</td>\n",
       "      <td>None</td>\n",
       "      <td>None</td>\n",
       "      <td>None</td>\n",
       "    </tr>\n",
       "    <tr>\n",
       "      <th>4</th>\n",
       "      <td>Shift Supervisor - Part-Time Job in Camphill</td>\n",
       "      <td>None</td>\n",
       "      <td>None</td>\n",
       "      <td>None</td>\n",
       "    </tr>\n",
       "    <tr>\n",
       "      <th>5</th>\n",
       "      <td>Construction PM - Charlottesville Job in Charl...</td>\n",
       "      <td>None</td>\n",
       "      <td>None</td>\n",
       "      <td>None</td>\n",
       "    </tr>\n",
       "    <tr>\n",
       "      <th>6</th>\n",
       "      <td>Principal QA Engineer - Java</td>\n",
       "      <td>None</td>\n",
       "      <td>None</td>\n",
       "      <td>None</td>\n",
       "    </tr>\n",
       "    <tr>\n",
       "      <th>7</th>\n",
       "      <td>Mailroom Clerk Job in Austin</td>\n",
       "      <td>None</td>\n",
       "      <td>None</td>\n",
       "      <td>None</td>\n",
       "    </tr>\n",
       "    <tr>\n",
       "      <th>8</th>\n",
       "      <td>Housekeeper Job in Austin</td>\n",
       "      <td>None</td>\n",
       "      <td>None</td>\n",
       "      <td>None</td>\n",
       "    </tr>\n",
       "    <tr>\n",
       "      <th>9</th>\n",
       "      <td>Video Data Management /Transportation Technici...</td>\n",
       "      <td>None</td>\n",
       "      <td>None</td>\n",
       "      <td>None</td>\n",
       "    </tr>\n",
       "  </tbody>\n",
       "</table>\n",
       "</div>"
      ],
      "text/plain": [
       "                                                   0  \\\n",
       "0               IT Support Technician Job in Madison   \n",
       "1            Business Reporter/Editor Job in Madison   \n",
       "2                            Senior Training Leader    \n",
       "3                    Engineer - Quality Job in Dixon   \n",
       "4       Shift Supervisor - Part-Time Job in Camphill   \n",
       "5  Construction PM - Charlottesville Job in Charl...   \n",
       "6                       Principal QA Engineer - Java   \n",
       "7                       Mailroom Clerk Job in Austin   \n",
       "8                          Housekeeper Job in Austin   \n",
       "9  Video Data Management /Transportation Technici...   \n",
       "\n",
       "                                            1     2     3  \n",
       "0                                        None  None  None  \n",
       "1                                        None  None  None  \n",
       "2   Monster.com var MONS_LOG_VARS = {\"JobID\":  None  None  \n",
       "3                                        None  None  None  \n",
       "4                                        None  None  None  \n",
       "5                                        None  None  None  \n",
       "6                                        None  None  None  \n",
       "7                                        None  None  None  \n",
       "8                                        None  None  None  \n",
       "9                                        None  None  None  "
      ]
     },
     "execution_count": 185,
     "metadata": {},
     "output_type": "execute_result"
    }
   ],
   "source": [
    "df['job_title'].str.split(\"|\",expand = True).head(10)"
   ]
  },
  {
   "cell_type": "code",
   "execution_count": 186,
   "id": "2475d69e",
   "metadata": {},
   "outputs": [],
   "source": [
    "df[['job_title','job_dummy']] = df['job_title'].str.split(\"|\",n=1,expand = True)"
   ]
  },
  {
   "cell_type": "code",
   "execution_count": 187,
   "id": "1e39ad95",
   "metadata": {},
   "outputs": [
    {
     "data": {
      "text/html": [
       "<div>\n",
       "<style scoped>\n",
       "    .dataframe tbody tr th:only-of-type {\n",
       "        vertical-align: middle;\n",
       "    }\n",
       "\n",
       "    .dataframe tbody tr th {\n",
       "        vertical-align: top;\n",
       "    }\n",
       "\n",
       "    .dataframe thead th {\n",
       "        text-align: right;\n",
       "    }\n",
       "</style>\n",
       "<table border=\"1\" class=\"dataframe\">\n",
       "  <thead>\n",
       "    <tr style=\"text-align: right;\">\n",
       "      <th></th>\n",
       "      <th>job_title</th>\n",
       "      <th>job_dummy</th>\n",
       "    </tr>\n",
       "  </thead>\n",
       "  <tbody>\n",
       "    <tr>\n",
       "      <th>0</th>\n",
       "      <td>IT Support Technician Job in Madison</td>\n",
       "      <td>None</td>\n",
       "    </tr>\n",
       "    <tr>\n",
       "      <th>1</th>\n",
       "      <td>Business Reporter/Editor Job in Madison</td>\n",
       "      <td>None</td>\n",
       "    </tr>\n",
       "    <tr>\n",
       "      <th>2</th>\n",
       "      <td>Senior Training Leader</td>\n",
       "      <td>Monster.com var MONS_LOG_VARS = {\"JobID\":</td>\n",
       "    </tr>\n",
       "    <tr>\n",
       "      <th>3</th>\n",
       "      <td>Engineer - Quality Job in Dixon</td>\n",
       "      <td>None</td>\n",
       "    </tr>\n",
       "    <tr>\n",
       "      <th>4</th>\n",
       "      <td>Shift Supervisor - Part-Time Job in Camphill</td>\n",
       "      <td>None</td>\n",
       "    </tr>\n",
       "    <tr>\n",
       "      <th>5</th>\n",
       "      <td>Construction PM - Charlottesville Job in Charl...</td>\n",
       "      <td>None</td>\n",
       "    </tr>\n",
       "    <tr>\n",
       "      <th>6</th>\n",
       "      <td>Principal QA Engineer - Java</td>\n",
       "      <td>None</td>\n",
       "    </tr>\n",
       "    <tr>\n",
       "      <th>7</th>\n",
       "      <td>Mailroom Clerk Job in Austin</td>\n",
       "      <td>None</td>\n",
       "    </tr>\n",
       "    <tr>\n",
       "      <th>8</th>\n",
       "      <td>Housekeeper Job in Austin</td>\n",
       "      <td>None</td>\n",
       "    </tr>\n",
       "    <tr>\n",
       "      <th>9</th>\n",
       "      <td>Video Data Management /Transportation Technici...</td>\n",
       "      <td>None</td>\n",
       "    </tr>\n",
       "  </tbody>\n",
       "</table>\n",
       "</div>"
      ],
      "text/plain": [
       "                                           job_title  \\\n",
       "0               IT Support Technician Job in Madison   \n",
       "1            Business Reporter/Editor Job in Madison   \n",
       "2                            Senior Training Leader    \n",
       "3                    Engineer - Quality Job in Dixon   \n",
       "4       Shift Supervisor - Part-Time Job in Camphill   \n",
       "5  Construction PM - Charlottesville Job in Charl...   \n",
       "6                       Principal QA Engineer - Java   \n",
       "7                       Mailroom Clerk Job in Austin   \n",
       "8                          Housekeeper Job in Austin   \n",
       "9  Video Data Management /Transportation Technici...   \n",
       "\n",
       "                                    job_dummy  \n",
       "0                                        None  \n",
       "1                                        None  \n",
       "2   Monster.com var MONS_LOG_VARS = {\"JobID\":  \n",
       "3                                        None  \n",
       "4                                        None  \n",
       "5                                        None  \n",
       "6                                        None  \n",
       "7                                        None  \n",
       "8                                        None  \n",
       "9                                        None  "
      ]
     },
     "execution_count": 187,
     "metadata": {},
     "output_type": "execute_result"
    }
   ],
   "source": [
    "df[['job_title','job_dummy']].head(10)"
   ]
  },
  {
   "cell_type": "code",
   "execution_count": 188,
   "id": "c60924b7",
   "metadata": {},
   "outputs": [],
   "source": [
    "df.drop(\"job_dummy\",axis=1,inplace = True)"
   ]
  },
  {
   "cell_type": "markdown",
   "id": "5b10936b",
   "metadata": {},
   "source": [
    "## [3]  Everything After  Substring 'Job' In JobTitle Is Already In  Location Column \n",
    "So, removing everyting after substring 'Job'"
   ]
  },
  {
   "cell_type": "code",
   "execution_count": 189,
   "id": "fd03d718",
   "metadata": {},
   "outputs": [
    {
     "data": {
      "text/html": [
       "<div>\n",
       "<style scoped>\n",
       "    .dataframe tbody tr th:only-of-type {\n",
       "        vertical-align: middle;\n",
       "    }\n",
       "\n",
       "    .dataframe tbody tr th {\n",
       "        vertical-align: top;\n",
       "    }\n",
       "\n",
       "    .dataframe thead th {\n",
       "        text-align: right;\n",
       "    }\n",
       "</style>\n",
       "<table border=\"1\" class=\"dataframe\">\n",
       "  <thead>\n",
       "    <tr style=\"text-align: right;\">\n",
       "      <th></th>\n",
       "      <th>job_title</th>\n",
       "      <th>location</th>\n",
       "    </tr>\n",
       "  </thead>\n",
       "  <tbody>\n",
       "    <tr>\n",
       "      <th>0</th>\n",
       "      <td>IT Support Technician Job in Madison</td>\n",
       "      <td>Madison, WI 53702</td>\n",
       "    </tr>\n",
       "    <tr>\n",
       "      <th>1</th>\n",
       "      <td>Business Reporter/Editor Job in Madison</td>\n",
       "      <td>Madison, WI 53708</td>\n",
       "    </tr>\n",
       "  </tbody>\n",
       "</table>\n",
       "</div>"
      ],
      "text/plain": [
       "                                 job_title           location\n",
       "0     IT Support Technician Job in Madison  Madison, WI 53702\n",
       "1  Business Reporter/Editor Job in Madison  Madison, WI 53708"
      ]
     },
     "execution_count": 189,
     "metadata": {},
     "output_type": "execute_result"
    }
   ],
   "source": [
    "df[['job_title','location']].head(2)"
   ]
  },
  {
   "cell_type": "code",
   "execution_count": 190,
   "id": "d7d9a96d",
   "metadata": {},
   "outputs": [
    {
     "data": {
      "text/html": [
       "<div>\n",
       "<style scoped>\n",
       "    .dataframe tbody tr th:only-of-type {\n",
       "        vertical-align: middle;\n",
       "    }\n",
       "\n",
       "    .dataframe tbody tr th {\n",
       "        vertical-align: top;\n",
       "    }\n",
       "\n",
       "    .dataframe thead th {\n",
       "        text-align: right;\n",
       "    }\n",
       "</style>\n",
       "<table border=\"1\" class=\"dataframe\">\n",
       "  <thead>\n",
       "    <tr style=\"text-align: right;\">\n",
       "      <th></th>\n",
       "      <th>0</th>\n",
       "      <th>1</th>\n",
       "    </tr>\n",
       "  </thead>\n",
       "  <tbody>\n",
       "    <tr>\n",
       "      <th>0</th>\n",
       "      <td>IT Support Technician</td>\n",
       "      <td>in Madison</td>\n",
       "    </tr>\n",
       "    <tr>\n",
       "      <th>1</th>\n",
       "      <td>Business Reporter/Editor</td>\n",
       "      <td>in Madison</td>\n",
       "    </tr>\n",
       "  </tbody>\n",
       "</table>\n",
       "</div>"
      ],
      "text/plain": [
       "                           0            1\n",
       "0     IT Support Technician    in Madison\n",
       "1  Business Reporter/Editor    in Madison"
      ]
     },
     "execution_count": 190,
     "metadata": {},
     "output_type": "execute_result"
    }
   ],
   "source": [
    "df.job_title.str.split('Job',n=1,expand=True).head(2)"
   ]
  },
  {
   "cell_type": "code",
   "execution_count": 191,
   "id": "0268efa4",
   "metadata": {},
   "outputs": [],
   "source": [
    "df[['job_title','location_dummy']] = df.job_title.str.split('Job',n=1,expand=True) "
   ]
  },
  {
   "cell_type": "markdown",
   "id": "d26e79e0",
   "metadata": {},
   "source": [
    "i had to create location_dummy(which i will drop later) as str.spit resulted to 2 columns itself"
   ]
  },
  {
   "cell_type": "code",
   "execution_count": 192,
   "id": "2ca1daa8",
   "metadata": {},
   "outputs": [],
   "source": [
    "df.drop(\"location_dummy\",axis=1,inplace = True)"
   ]
  },
  {
   "cell_type": "code",
   "execution_count": 193,
   "id": "72080cbc",
   "metadata": {},
   "outputs": [
    {
     "data": {
      "text/html": [
       "<div>\n",
       "<style scoped>\n",
       "    .dataframe tbody tr th:only-of-type {\n",
       "        vertical-align: middle;\n",
       "    }\n",
       "\n",
       "    .dataframe tbody tr th {\n",
       "        vertical-align: top;\n",
       "    }\n",
       "\n",
       "    .dataframe thead th {\n",
       "        text-align: right;\n",
       "    }\n",
       "</style>\n",
       "<table border=\"1\" class=\"dataframe\">\n",
       "  <thead>\n",
       "    <tr style=\"text-align: right;\">\n",
       "      <th></th>\n",
       "      <th>country</th>\n",
       "      <th>country_code</th>\n",
       "      <th>date_added</th>\n",
       "      <th>has_expired</th>\n",
       "      <th>job_board</th>\n",
       "      <th>job_description</th>\n",
       "      <th>job_title</th>\n",
       "      <th>job_type</th>\n",
       "      <th>location</th>\n",
       "      <th>organization</th>\n",
       "      <th>page_url</th>\n",
       "      <th>salary</th>\n",
       "      <th>sector</th>\n",
       "      <th>uniq_id</th>\n",
       "    </tr>\n",
       "  </thead>\n",
       "  <tbody>\n",
       "    <tr>\n",
       "      <th>0</th>\n",
       "      <td>United States of America</td>\n",
       "      <td>US</td>\n",
       "      <td>NaT</td>\n",
       "      <td>No</td>\n",
       "      <td>jobs.monster.com</td>\n",
       "      <td>TeamSoft is seeing an IT Support Specialist to...</td>\n",
       "      <td>IT Support Technician</td>\n",
       "      <td>Full Time Employee</td>\n",
       "      <td>Madison, WI 53702</td>\n",
       "      <td>NaN</td>\n",
       "      <td>http://jobview.monster.com/it-support-technici...</td>\n",
       "      <td>NaN</td>\n",
       "      <td>IT/Software Development</td>\n",
       "      <td>11d599f229a80023d2f40e7c52cd941e</td>\n",
       "    </tr>\n",
       "    <tr>\n",
       "      <th>1</th>\n",
       "      <td>United States of America</td>\n",
       "      <td>US</td>\n",
       "      <td>NaT</td>\n",
       "      <td>No</td>\n",
       "      <td>jobs.monster.com</td>\n",
       "      <td>The Wisconsin State Journal is seeking a flexi...</td>\n",
       "      <td>Business Reporter/Editor</td>\n",
       "      <td>Full Time</td>\n",
       "      <td>Madison, WI 53708</td>\n",
       "      <td>Printing and Publishing</td>\n",
       "      <td>http://jobview.monster.com/business-reporter-e...</td>\n",
       "      <td>NaN</td>\n",
       "      <td>NaN</td>\n",
       "      <td>e4cbb126dabf22159aff90223243ff2a</td>\n",
       "    </tr>\n",
       "    <tr>\n",
       "      <th>2</th>\n",
       "      <td>United States of America</td>\n",
       "      <td>US</td>\n",
       "      <td>NaT</td>\n",
       "      <td>No</td>\n",
       "      <td>jobs.monster.com</td>\n",
       "      <td>Report this job About the Job DePuy Synthes Co...</td>\n",
       "      <td>Senior Training Leader</td>\n",
       "      <td>Full Time, Employee</td>\n",
       "      <td>DePuy Synthes Companies is a member of Johnson...</td>\n",
       "      <td>Personal and Household Services</td>\n",
       "      <td>http://jobview.monster.com/senior-training-lea...</td>\n",
       "      <td>NaN</td>\n",
       "      <td>NaN</td>\n",
       "      <td>839106b353877fa3d896ffb9c1fe01c0</td>\n",
       "    </tr>\n",
       "    <tr>\n",
       "      <th>3</th>\n",
       "      <td>United States of America</td>\n",
       "      <td>US</td>\n",
       "      <td>NaT</td>\n",
       "      <td>No</td>\n",
       "      <td>jobs.monster.com</td>\n",
       "      <td>Why Join Altec? If you’re considering a career...</td>\n",
       "      <td>Engineer - Quality</td>\n",
       "      <td>Full Time</td>\n",
       "      <td>Dixon, CA</td>\n",
       "      <td>Altec Industries</td>\n",
       "      <td>http://jobview.monster.com/engineer-quality-jo...</td>\n",
       "      <td>NaN</td>\n",
       "      <td>Experienced (Non-Manager)</td>\n",
       "      <td>58435fcab804439efdcaa7ecca0fd783</td>\n",
       "    </tr>\n",
       "  </tbody>\n",
       "</table>\n",
       "</div>"
      ],
      "text/plain": [
       "                    country country_code date_added has_expired  \\\n",
       "0  United States of America           US        NaT          No   \n",
       "1  United States of America           US        NaT          No   \n",
       "2  United States of America           US        NaT          No   \n",
       "3  United States of America           US        NaT          No   \n",
       "\n",
       "          job_board                                    job_description  \\\n",
       "0  jobs.monster.com  TeamSoft is seeing an IT Support Specialist to...   \n",
       "1  jobs.monster.com  The Wisconsin State Journal is seeking a flexi...   \n",
       "2  jobs.monster.com  Report this job About the Job DePuy Synthes Co...   \n",
       "3  jobs.monster.com  Why Join Altec? If you’re considering a career...   \n",
       "\n",
       "                   job_title             job_type  \\\n",
       "0     IT Support Technician    Full Time Employee   \n",
       "1  Business Reporter/Editor             Full Time   \n",
       "2    Senior Training Leader   Full Time, Employee   \n",
       "3        Engineer - Quality             Full Time   \n",
       "\n",
       "                                            location  \\\n",
       "0                                  Madison, WI 53702   \n",
       "1                                  Madison, WI 53708   \n",
       "2  DePuy Synthes Companies is a member of Johnson...   \n",
       "3                                          Dixon, CA   \n",
       "\n",
       "                      organization  \\\n",
       "0                              NaN   \n",
       "1          Printing and Publishing   \n",
       "2  Personal and Household Services   \n",
       "3                 Altec Industries   \n",
       "\n",
       "                                            page_url salary  \\\n",
       "0  http://jobview.monster.com/it-support-technici...    NaN   \n",
       "1  http://jobview.monster.com/business-reporter-e...    NaN   \n",
       "2  http://jobview.monster.com/senior-training-lea...    NaN   \n",
       "3  http://jobview.monster.com/engineer-quality-jo...    NaN   \n",
       "\n",
       "                      sector                           uniq_id  \n",
       "0    IT/Software Development  11d599f229a80023d2f40e7c52cd941e  \n",
       "1                        NaN  e4cbb126dabf22159aff90223243ff2a  \n",
       "2                        NaN  839106b353877fa3d896ffb9c1fe01c0  \n",
       "3  Experienced (Non-Manager)  58435fcab804439efdcaa7ecca0fd783  "
      ]
     },
     "execution_count": 193,
     "metadata": {},
     "output_type": "execute_result"
    }
   ],
   "source": [
    "df.head(4)"
   ]
  },
  {
   "cell_type": "markdown",
   "id": "774a010b",
   "metadata": {},
   "source": [
    "## [4] Part-Time, Full-Time Info In Job_Title Is Already Available In Job_Type\n",
    "So, Removing Info From Job_Title Which Is Already In Job_Type"
   ]
  },
  {
   "cell_type": "code",
   "execution_count": 194,
   "id": "b803549d",
   "metadata": {},
   "outputs": [
    {
     "data": {
      "text/html": [
       "<div>\n",
       "<style scoped>\n",
       "    .dataframe tbody tr th:only-of-type {\n",
       "        vertical-align: middle;\n",
       "    }\n",
       "\n",
       "    .dataframe tbody tr th {\n",
       "        vertical-align: top;\n",
       "    }\n",
       "\n",
       "    .dataframe thead th {\n",
       "        text-align: right;\n",
       "    }\n",
       "</style>\n",
       "<table border=\"1\" class=\"dataframe\">\n",
       "  <thead>\n",
       "    <tr style=\"text-align: right;\">\n",
       "      <th></th>\n",
       "      <th>country</th>\n",
       "      <th>country_code</th>\n",
       "      <th>date_added</th>\n",
       "      <th>has_expired</th>\n",
       "      <th>job_board</th>\n",
       "      <th>job_description</th>\n",
       "      <th>job_title</th>\n",
       "      <th>job_type</th>\n",
       "      <th>location</th>\n",
       "      <th>organization</th>\n",
       "      <th>page_url</th>\n",
       "      <th>salary</th>\n",
       "      <th>sector</th>\n",
       "      <th>uniq_id</th>\n",
       "    </tr>\n",
       "  </thead>\n",
       "  <tbody>\n",
       "    <tr>\n",
       "      <th>4</th>\n",
       "      <td>United States of America</td>\n",
       "      <td>US</td>\n",
       "      <td>NaT</td>\n",
       "      <td>No</td>\n",
       "      <td>jobs.monster.com</td>\n",
       "      <td>Position ID#  76162 # Positions  1 State  CT C...</td>\n",
       "      <td>Shift Supervisor - Part-Time</td>\n",
       "      <td>Full Time Employee</td>\n",
       "      <td>Camphill, PA</td>\n",
       "      <td>Retail</td>\n",
       "      <td>http://jobview.monster.com/shift-supervisor-pa...</td>\n",
       "      <td>NaN</td>\n",
       "      <td>Project/Program Management</td>\n",
       "      <td>64d0272dc8496abfd9523a8df63c184c</td>\n",
       "    </tr>\n",
       "    <tr>\n",
       "      <th>102</th>\n",
       "      <td>United States of America</td>\n",
       "      <td>US</td>\n",
       "      <td>NaT</td>\n",
       "      <td>No</td>\n",
       "      <td>jobs.monster.com</td>\n",
       "      <td>The Customer Service Representative (CSR) is r...</td>\n",
       "      <td>Customer Service Representative (Part-Time) / ...</td>\n",
       "      <td>Part Time Employee</td>\n",
       "      <td>Lansing, MI 48911</td>\n",
       "      <td>Travel, Transportation and Tourism</td>\n",
       "      <td>http://jobview.monster.com/Customer-Service-Re...</td>\n",
       "      <td>NaN</td>\n",
       "      <td>Customer Support/Client Care</td>\n",
       "      <td>ed3a0136b8c7b78144c18124d9d3263f</td>\n",
       "    </tr>\n",
       "  </tbody>\n",
       "</table>\n",
       "</div>"
      ],
      "text/plain": [
       "                      country country_code date_added has_expired  \\\n",
       "4    United States of America           US        NaT          No   \n",
       "102  United States of America           US        NaT          No   \n",
       "\n",
       "            job_board                                    job_description  \\\n",
       "4    jobs.monster.com  Position ID#  76162 # Positions  1 State  CT C...   \n",
       "102  jobs.monster.com  The Customer Service Representative (CSR) is r...   \n",
       "\n",
       "                                             job_title            job_type  \\\n",
       "4                        Shift Supervisor - Part-Time   Full Time Employee   \n",
       "102  Customer Service Representative (Part-Time) / ...  Part Time Employee   \n",
       "\n",
       "              location                        organization  \\\n",
       "4         Camphill, PA                              Retail   \n",
       "102  Lansing, MI 48911  Travel, Transportation and Tourism   \n",
       "\n",
       "                                              page_url salary  \\\n",
       "4    http://jobview.monster.com/shift-supervisor-pa...    NaN   \n",
       "102  http://jobview.monster.com/Customer-Service-Re...    NaN   \n",
       "\n",
       "                           sector                           uniq_id  \n",
       "4      Project/Program Management  64d0272dc8496abfd9523a8df63c184c  \n",
       "102  Customer Support/Client Care  ed3a0136b8c7b78144c18124d9d3263f  "
      ]
     },
     "execution_count": 194,
     "metadata": {},
     "output_type": "execute_result"
    }
   ],
   "source": [
    "df[df['job_title'].str.contains(\"Part-Time\")].head(2)"
   ]
  },
  {
   "cell_type": "code",
   "execution_count": 195,
   "id": "1d457332",
   "metadata": {
    "scrolled": true
   },
   "outputs": [
    {
     "data": {
      "text/html": [
       "<div>\n",
       "<style scoped>\n",
       "    .dataframe tbody tr th:only-of-type {\n",
       "        vertical-align: middle;\n",
       "    }\n",
       "\n",
       "    .dataframe tbody tr th {\n",
       "        vertical-align: top;\n",
       "    }\n",
       "\n",
       "    .dataframe thead th {\n",
       "        text-align: right;\n",
       "    }\n",
       "</style>\n",
       "<table border=\"1\" class=\"dataframe\">\n",
       "  <thead>\n",
       "    <tr style=\"text-align: right;\">\n",
       "      <th></th>\n",
       "      <th>country</th>\n",
       "      <th>country_code</th>\n",
       "      <th>date_added</th>\n",
       "      <th>has_expired</th>\n",
       "      <th>job_board</th>\n",
       "      <th>job_description</th>\n",
       "      <th>job_title</th>\n",
       "      <th>job_type</th>\n",
       "      <th>location</th>\n",
       "      <th>organization</th>\n",
       "      <th>page_url</th>\n",
       "      <th>salary</th>\n",
       "      <th>sector</th>\n",
       "      <th>uniq_id</th>\n",
       "    </tr>\n",
       "  </thead>\n",
       "  <tbody>\n",
       "    <tr>\n",
       "      <th>271</th>\n",
       "      <td>United States of America</td>\n",
       "      <td>US</td>\n",
       "      <td>NaT</td>\n",
       "      <td>No</td>\n",
       "      <td>jobs.monster.com</td>\n",
       "      <td>Report this job About the Job Work Schedule:  ...</td>\n",
       "      <td>Non-CDL Route Driver (Full-Time)</td>\n",
       "      <td>Full Time, Employee</td>\n",
       "      <td>Work Schedule:      Daily route schedules dete...</td>\n",
       "      <td>Transport and Storage - Materials</td>\n",
       "      <td>http://jobview.monster.com/non-cdl-route-drive...</td>\n",
       "      <td>NaN</td>\n",
       "      <td>NaN</td>\n",
       "      <td>6c2454474099e8fee3768830c109668f</td>\n",
       "    </tr>\n",
       "    <tr>\n",
       "      <th>319</th>\n",
       "      <td>United States of America</td>\n",
       "      <td>US</td>\n",
       "      <td>NaT</td>\n",
       "      <td>No</td>\n",
       "      <td>jobs.monster.com</td>\n",
       "      <td>Dietary Aide Full-Time ( Job Number: 298216 ) ...</td>\n",
       "      <td>Dietary Aide Full-Time</td>\n",
       "      <td>Full Time, Employee</td>\n",
       "      <td>Dietary Aide Full-Time ( Job Number: 298216 ) ...</td>\n",
       "      <td>Healthcare Services</td>\n",
       "      <td>http://jobview.monster.com/dietary-aide-full-t...</td>\n",
       "      <td>NaN</td>\n",
       "      <td>Food Services/Hospitality</td>\n",
       "      <td>91a189a04cbd193af2f136e9fc837fae</td>\n",
       "    </tr>\n",
       "  </tbody>\n",
       "</table>\n",
       "</div>"
      ],
      "text/plain": [
       "                      country country_code date_added has_expired  \\\n",
       "271  United States of America           US        NaT          No   \n",
       "319  United States of America           US        NaT          No   \n",
       "\n",
       "            job_board                                    job_description  \\\n",
       "271  jobs.monster.com  Report this job About the Job Work Schedule:  ...   \n",
       "319  jobs.monster.com  Dietary Aide Full-Time ( Job Number: 298216 ) ...   \n",
       "\n",
       "                              job_title             job_type  \\\n",
       "271   Non-CDL Route Driver (Full-Time)   Full Time, Employee   \n",
       "319             Dietary Aide Full-Time   Full Time, Employee   \n",
       "\n",
       "                                              location  \\\n",
       "271  Work Schedule:      Daily route schedules dete...   \n",
       "319  Dietary Aide Full-Time ( Job Number: 298216 ) ...   \n",
       "\n",
       "                          organization  \\\n",
       "271  Transport and Storage - Materials   \n",
       "319                Healthcare Services   \n",
       "\n",
       "                                              page_url salary  \\\n",
       "271  http://jobview.monster.com/non-cdl-route-drive...    NaN   \n",
       "319  http://jobview.monster.com/dietary-aide-full-t...    NaN   \n",
       "\n",
       "                        sector                           uniq_id  \n",
       "271                        NaN  6c2454474099e8fee3768830c109668f  \n",
       "319  Food Services/Hospitality  91a189a04cbd193af2f136e9fc837fae  "
      ]
     },
     "execution_count": 195,
     "metadata": {},
     "output_type": "execute_result"
    }
   ],
   "source": [
    "df[df['job_title'].str.contains(\"Full-Time\")].head(2)\n"
   ]
  },
  {
   "cell_type": "code",
   "execution_count": 196,
   "id": "0ae619fa",
   "metadata": {},
   "outputs": [
    {
     "data": {
      "text/html": [
       "<div>\n",
       "<style scoped>\n",
       "    .dataframe tbody tr th:only-of-type {\n",
       "        vertical-align: middle;\n",
       "    }\n",
       "\n",
       "    .dataframe tbody tr th {\n",
       "        vertical-align: top;\n",
       "    }\n",
       "\n",
       "    .dataframe thead th {\n",
       "        text-align: right;\n",
       "    }\n",
       "</style>\n",
       "<table border=\"1\" class=\"dataframe\">\n",
       "  <thead>\n",
       "    <tr style=\"text-align: right;\">\n",
       "      <th></th>\n",
       "      <th>country</th>\n",
       "      <th>country_code</th>\n",
       "      <th>date_added</th>\n",
       "      <th>has_expired</th>\n",
       "      <th>job_board</th>\n",
       "      <th>job_description</th>\n",
       "      <th>job_title</th>\n",
       "      <th>job_type</th>\n",
       "      <th>location</th>\n",
       "      <th>organization</th>\n",
       "      <th>page_url</th>\n",
       "      <th>salary</th>\n",
       "      <th>sector</th>\n",
       "      <th>uniq_id</th>\n",
       "    </tr>\n",
       "  </thead>\n",
       "  <tbody>\n",
       "    <tr>\n",
       "      <th>302</th>\n",
       "      <td>United States of America</td>\n",
       "      <td>US</td>\n",
       "      <td>NaT</td>\n",
       "      <td>No</td>\n",
       "      <td>jobs.monster.com</td>\n",
       "      <td>DescriptionSurprise. Delight. Engage. Amaze. A...</td>\n",
       "      <td>Macy's **Seasonal Holiday Retail Sales** Part ...</td>\n",
       "      <td>Full Time Employee</td>\n",
       "      <td>Dallas, TX</td>\n",
       "      <td>NaN</td>\n",
       "      <td>http://jobview.monster.com/macy's-seasonal-hol...</td>\n",
       "      <td>NaN</td>\n",
       "      <td>Sales/Retail/Business Development</td>\n",
       "      <td>73b3e1df114ed0c299b598b2cc5300a8</td>\n",
       "    </tr>\n",
       "    <tr>\n",
       "      <th>346</th>\n",
       "      <td>United States of America</td>\n",
       "      <td>US</td>\n",
       "      <td>NaT</td>\n",
       "      <td>No</td>\n",
       "      <td>jobs.monster.com</td>\n",
       "      <td>Summary RETAIL RESET MERCHANDISER KROGER PART ...</td>\n",
       "      <td>Retail Reset Merchandiser Kroger Part Time</td>\n",
       "      <td>Part Time Employee</td>\n",
       "      <td>Las Vegas, NV</td>\n",
       "      <td>Retail</td>\n",
       "      <td>http://jobview.monster.com/retail-reset-mercha...</td>\n",
       "      <td>NaN</td>\n",
       "      <td>Sales/Retail/Business Development</td>\n",
       "      <td>bb9b4a486a27e61549d6ed5717fd049f</td>\n",
       "    </tr>\n",
       "  </tbody>\n",
       "</table>\n",
       "</div>"
      ],
      "text/plain": [
       "                      country country_code date_added has_expired  \\\n",
       "302  United States of America           US        NaT          No   \n",
       "346  United States of America           US        NaT          No   \n",
       "\n",
       "            job_board                                    job_description  \\\n",
       "302  jobs.monster.com  DescriptionSurprise. Delight. Engage. Amaze. A...   \n",
       "346  jobs.monster.com  Summary RETAIL RESET MERCHANDISER KROGER PART ...   \n",
       "\n",
       "                                             job_title            job_type  \\\n",
       "302  Macy's **Seasonal Holiday Retail Sales** Part ...  Full Time Employee   \n",
       "346        Retail Reset Merchandiser Kroger Part Time   Part Time Employee   \n",
       "\n",
       "          location organization  \\\n",
       "302     Dallas, TX          NaN   \n",
       "346  Las Vegas, NV       Retail   \n",
       "\n",
       "                                              page_url salary  \\\n",
       "302  http://jobview.monster.com/macy's-seasonal-hol...    NaN   \n",
       "346  http://jobview.monster.com/retail-reset-mercha...    NaN   \n",
       "\n",
       "                                sector                           uniq_id  \n",
       "302  Sales/Retail/Business Development  73b3e1df114ed0c299b598b2cc5300a8  \n",
       "346  Sales/Retail/Business Development  bb9b4a486a27e61549d6ed5717fd049f  "
      ]
     },
     "execution_count": 196,
     "metadata": {},
     "output_type": "execute_result"
    }
   ],
   "source": [
    "df[df['job_title'].str.contains(\"Part Time\")].head(2)"
   ]
  },
  {
   "cell_type": "code",
   "execution_count": 197,
   "id": "17cbe07f",
   "metadata": {},
   "outputs": [
    {
     "data": {
      "text/html": [
       "<div>\n",
       "<style scoped>\n",
       "    .dataframe tbody tr th:only-of-type {\n",
       "        vertical-align: middle;\n",
       "    }\n",
       "\n",
       "    .dataframe tbody tr th {\n",
       "        vertical-align: top;\n",
       "    }\n",
       "\n",
       "    .dataframe thead th {\n",
       "        text-align: right;\n",
       "    }\n",
       "</style>\n",
       "<table border=\"1\" class=\"dataframe\">\n",
       "  <thead>\n",
       "    <tr style=\"text-align: right;\">\n",
       "      <th></th>\n",
       "      <th>country</th>\n",
       "      <th>country_code</th>\n",
       "      <th>date_added</th>\n",
       "      <th>has_expired</th>\n",
       "      <th>job_board</th>\n",
       "      <th>job_description</th>\n",
       "      <th>job_title</th>\n",
       "      <th>job_type</th>\n",
       "      <th>location</th>\n",
       "      <th>organization</th>\n",
       "      <th>page_url</th>\n",
       "      <th>salary</th>\n",
       "      <th>sector</th>\n",
       "      <th>uniq_id</th>\n",
       "    </tr>\n",
       "  </thead>\n",
       "  <tbody>\n",
       "    <tr>\n",
       "      <th>54</th>\n",
       "      <td>United States of America</td>\n",
       "      <td>US</td>\n",
       "      <td>NaT</td>\n",
       "      <td>No</td>\n",
       "      <td>jobs.monster.com</td>\n",
       "      <td>Retail Customer Engagement Specialist- Entry L...</td>\n",
       "      <td>Retail Merchandise Apprenticeship- Full Time &amp;...</td>\n",
       "      <td>Full Time Employee</td>\n",
       "      <td>Houston, TX 77040</td>\n",
       "      <td>RetailAdvertising and PR ServicesBusiness Serv...</td>\n",
       "      <td>http://jobview.monster.com/Retail-Merchandise-...</td>\n",
       "      <td>NaN</td>\n",
       "      <td>Marketing/Product</td>\n",
       "      <td>4333b6abfff1445594a05884dc79950b</td>\n",
       "    </tr>\n",
       "    <tr>\n",
       "      <th>96</th>\n",
       "      <td>United States of America</td>\n",
       "      <td>US</td>\n",
       "      <td>NaT</td>\n",
       "      <td>No</td>\n",
       "      <td>jobs.monster.com</td>\n",
       "      <td>Financial Advisor Northwestern MutualOur finan...</td>\n",
       "      <td>Financial Advisor / Financial Sales Representa...</td>\n",
       "      <td>Full Time Employee</td>\n",
       "      <td>Houston, TX</td>\n",
       "      <td>Banking</td>\n",
       "      <td>http://jobview.monster.com/Financial-Advisor-F...</td>\n",
       "      <td>NaN</td>\n",
       "      <td>Sales/Retail/Business Development</td>\n",
       "      <td>e52d5e30ecdf97dd64a44f45bfc2032b</td>\n",
       "    </tr>\n",
       "  </tbody>\n",
       "</table>\n",
       "</div>"
      ],
      "text/plain": [
       "                     country country_code date_added has_expired  \\\n",
       "54  United States of America           US        NaT          No   \n",
       "96  United States of America           US        NaT          No   \n",
       "\n",
       "           job_board                                    job_description  \\\n",
       "54  jobs.monster.com  Retail Customer Engagement Specialist- Entry L...   \n",
       "96  jobs.monster.com  Financial Advisor Northwestern MutualOur finan...   \n",
       "\n",
       "                                            job_title            job_type  \\\n",
       "54  Retail Merchandise Apprenticeship- Full Time &...  Full Time Employee   \n",
       "96  Financial Advisor / Financial Sales Representa...  Full Time Employee   \n",
       "\n",
       "             location                                       organization  \\\n",
       "54  Houston, TX 77040  RetailAdvertising and PR ServicesBusiness Serv...   \n",
       "96        Houston, TX                                            Banking   \n",
       "\n",
       "                                             page_url salary  \\\n",
       "54  http://jobview.monster.com/Retail-Merchandise-...    NaN   \n",
       "96  http://jobview.monster.com/Financial-Advisor-F...    NaN   \n",
       "\n",
       "                               sector                           uniq_id  \n",
       "54                  Marketing/Product  4333b6abfff1445594a05884dc79950b  \n",
       "96  Sales/Retail/Business Development  e52d5e30ecdf97dd64a44f45bfc2032b  "
      ]
     },
     "execution_count": 197,
     "metadata": {},
     "output_type": "execute_result"
    }
   ],
   "source": [
    "df[df['job_title'].str.contains(\"Full Time\")].head(2)"
   ]
  },
  {
   "cell_type": "markdown",
   "id": "fb5e1098",
   "metadata": {},
   "source": [
    "#### This is will Replace above substrings with blanks (\"\")"
   ]
  },
  {
   "cell_type": "code",
   "execution_count": 198,
   "id": "0187335d",
   "metadata": {},
   "outputs": [],
   "source": [
    "df['job_title'] = df[\"job_title\"].str.replace(r'((?i)full[ -]time|(?i)part[ -]time|(?i)per[ -]diem)','',regex=True)"
   ]
  },
  {
   "cell_type": "code",
   "execution_count": 199,
   "id": "b863625d",
   "metadata": {},
   "outputs": [
    {
     "data": {
      "text/plain": [
       "0                                IT Support Technician \n",
       "1                             Business Reporter/Editor \n",
       "2                               Senior Training Leader \n",
       "3                                   Engineer - Quality \n",
       "4                                  Shift Supervisor -  \n",
       "                              ...                      \n",
       "21995            Assistant Vice President - Controller \n",
       "21996                                       Accountant \n",
       "21997                                 AEM/CQ developer \n",
       "21998    Electrician - Experienced Forging Electrician \n",
       "21999                           Contract Administrator \n",
       "Name: job_title, Length: 22000, dtype: object"
      ]
     },
     "execution_count": 199,
     "metadata": {},
     "output_type": "execute_result"
    }
   ],
   "source": [
    "df.job_title"
   ]
  },
  {
   "cell_type": "markdown",
   "id": "e387814e",
   "metadata": {},
   "source": [
    "#### Removing rows with () "
   ]
  },
  {
   "cell_type": "code",
   "execution_count": 200,
   "id": "6be61264",
   "metadata": {},
   "outputs": [
    {
     "data": {
      "text/html": [
       "<div>\n",
       "<style scoped>\n",
       "    .dataframe tbody tr th:only-of-type {\n",
       "        vertical-align: middle;\n",
       "    }\n",
       "\n",
       "    .dataframe tbody tr th {\n",
       "        vertical-align: top;\n",
       "    }\n",
       "\n",
       "    .dataframe thead th {\n",
       "        text-align: right;\n",
       "    }\n",
       "</style>\n",
       "<table border=\"1\" class=\"dataframe\">\n",
       "  <thead>\n",
       "    <tr style=\"text-align: right;\">\n",
       "      <th></th>\n",
       "      <th>country</th>\n",
       "      <th>country_code</th>\n",
       "      <th>date_added</th>\n",
       "      <th>has_expired</th>\n",
       "      <th>job_board</th>\n",
       "      <th>job_description</th>\n",
       "      <th>job_title</th>\n",
       "      <th>job_type</th>\n",
       "      <th>location</th>\n",
       "      <th>organization</th>\n",
       "      <th>page_url</th>\n",
       "      <th>salary</th>\n",
       "      <th>sector</th>\n",
       "      <th>uniq_id</th>\n",
       "    </tr>\n",
       "  </thead>\n",
       "  <tbody>\n",
       "    <tr>\n",
       "      <th>99</th>\n",
       "      <td>United States of America</td>\n",
       "      <td>US</td>\n",
       "      <td>NaT</td>\n",
       "      <td>No</td>\n",
       "      <td>jobs.monster.com</td>\n",
       "      <td>MOUNTAIN, LTD. is currently seeking an OSP Fie...</td>\n",
       "      <td>Outside Plant Telecom Engineer ()</td>\n",
       "      <td>Full Time</td>\n",
       "      <td>Fort Collins, CO</td>\n",
       "      <td>NaN</td>\n",
       "      <td>http://jobview.monster.com/Outside-Plant-Telec...</td>\n",
       "      <td>NaN</td>\n",
       "      <td>NaN</td>\n",
       "      <td>fbabdfd6692540e30d7bccfe393adabe</td>\n",
       "    </tr>\n",
       "    <tr>\n",
       "      <th>102</th>\n",
       "      <td>United States of America</td>\n",
       "      <td>US</td>\n",
       "      <td>NaT</td>\n",
       "      <td>No</td>\n",
       "      <td>jobs.monster.com</td>\n",
       "      <td>The Customer Service Representative (CSR) is r...</td>\n",
       "      <td>Customer Service Representative () / CSR</td>\n",
       "      <td>Part Time Employee</td>\n",
       "      <td>Lansing, MI 48911</td>\n",
       "      <td>Travel, Transportation and Tourism</td>\n",
       "      <td>http://jobview.monster.com/Customer-Service-Re...</td>\n",
       "      <td>NaN</td>\n",
       "      <td>Customer Support/Client Care</td>\n",
       "      <td>ed3a0136b8c7b78144c18124d9d3263f</td>\n",
       "    </tr>\n",
       "  </tbody>\n",
       "</table>\n",
       "</div>"
      ],
      "text/plain": [
       "                      country country_code date_added has_expired  \\\n",
       "99   United States of America           US        NaT          No   \n",
       "102  United States of America           US        NaT          No   \n",
       "\n",
       "            job_board                                    job_description  \\\n",
       "99   jobs.monster.com  MOUNTAIN, LTD. is currently seeking an OSP Fie...   \n",
       "102  jobs.monster.com  The Customer Service Representative (CSR) is r...   \n",
       "\n",
       "                                     job_title            job_type  \\\n",
       "99          Outside Plant Telecom Engineer ()            Full Time   \n",
       "102  Customer Service Representative () / CSR   Part Time Employee   \n",
       "\n",
       "              location                        organization  \\\n",
       "99    Fort Collins, CO                                 NaN   \n",
       "102  Lansing, MI 48911  Travel, Transportation and Tourism   \n",
       "\n",
       "                                              page_url salary  \\\n",
       "99   http://jobview.monster.com/Outside-Plant-Telec...    NaN   \n",
       "102  http://jobview.monster.com/Customer-Service-Re...    NaN   \n",
       "\n",
       "                           sector                           uniq_id  \n",
       "99                            NaN  fbabdfd6692540e30d7bccfe393adabe  \n",
       "102  Customer Support/Client Care  ed3a0136b8c7b78144c18124d9d3263f  "
      ]
     },
     "execution_count": 200,
     "metadata": {},
     "output_type": "execute_result"
    }
   ],
   "source": [
    "df[df['job_title'].str.contains('\\(\\)')].head(2)"
   ]
  },
  {
   "cell_type": "code",
   "execution_count": 201,
   "id": "fc5c17f1",
   "metadata": {},
   "outputs": [
    {
     "data": {
      "text/html": [
       "<div>\n",
       "<style scoped>\n",
       "    .dataframe tbody tr th:only-of-type {\n",
       "        vertical-align: middle;\n",
       "    }\n",
       "\n",
       "    .dataframe tbody tr th {\n",
       "        vertical-align: top;\n",
       "    }\n",
       "\n",
       "    .dataframe thead th {\n",
       "        text-align: right;\n",
       "    }\n",
       "</style>\n",
       "<table border=\"1\" class=\"dataframe\">\n",
       "  <thead>\n",
       "    <tr style=\"text-align: right;\">\n",
       "      <th></th>\n",
       "      <th>country</th>\n",
       "      <th>country_code</th>\n",
       "      <th>date_added</th>\n",
       "      <th>has_expired</th>\n",
       "      <th>job_board</th>\n",
       "      <th>job_description</th>\n",
       "      <th>job_title</th>\n",
       "      <th>job_type</th>\n",
       "      <th>location</th>\n",
       "      <th>organization</th>\n",
       "      <th>page_url</th>\n",
       "      <th>salary</th>\n",
       "      <th>sector</th>\n",
       "      <th>uniq_id</th>\n",
       "    </tr>\n",
       "  </thead>\n",
       "  <tbody>\n",
       "    <tr>\n",
       "      <th>47</th>\n",
       "      <td>United States of America</td>\n",
       "      <td>US</td>\n",
       "      <td>NaT</td>\n",
       "      <td>No</td>\n",
       "      <td>jobs.monster.com</td>\n",
       "      <td>The Project Manager reports directly to the Co...</td>\n",
       "      <td>Project Manager ( Z )</td>\n",
       "      <td>Full Time Employee</td>\n",
       "      <td>Houston, TX 77034</td>\n",
       "      <td>NaN</td>\n",
       "      <td>http://jobview.monster.com/Project-Manager-192...</td>\n",
       "      <td>NaN</td>\n",
       "      <td>Business/Strategic Management</td>\n",
       "      <td>ac2da666b68583ed3c3cc4eaee869eb1</td>\n",
       "    </tr>\n",
       "    <tr>\n",
       "      <th>6057</th>\n",
       "      <td>United States of America</td>\n",
       "      <td>US</td>\n",
       "      <td>NaT</td>\n",
       "      <td>No</td>\n",
       "      <td>jobs.monster.com</td>\n",
       "      <td>Associate is responsible for delivering materi...</td>\n",
       "      <td>Pick-Up Truck Driver ( D )</td>\n",
       "      <td>Full Time Employee</td>\n",
       "      <td>Rochester, NY 14623</td>\n",
       "      <td>NaN</td>\n",
       "      <td>http://jobview.monster.com/pick-up-truck-drive...</td>\n",
       "      <td>NaN</td>\n",
       "      <td>Installation/Maintenance/Repair</td>\n",
       "      <td>2afee5e7f01a4a0d3723fb9f543f439e</td>\n",
       "    </tr>\n",
       "  </tbody>\n",
       "</table>\n",
       "</div>"
      ],
      "text/plain": [
       "                       country country_code date_added has_expired  \\\n",
       "47    United States of America           US        NaT          No   \n",
       "6057  United States of America           US        NaT          No   \n",
       "\n",
       "             job_board                                    job_description  \\\n",
       "47    jobs.monster.com  The Project Manager reports directly to the Co...   \n",
       "6057  jobs.monster.com  Associate is responsible for delivering materi...   \n",
       "\n",
       "                        job_title            job_type             location  \\\n",
       "47         Project Manager ( Z )   Full Time Employee    Houston, TX 77034   \n",
       "6057  Pick-Up Truck Driver ( D )   Full Time Employee  Rochester, NY 14623   \n",
       "\n",
       "     organization                                           page_url salary  \\\n",
       "47            NaN  http://jobview.monster.com/Project-Manager-192...    NaN   \n",
       "6057          NaN  http://jobview.monster.com/pick-up-truck-drive...    NaN   \n",
       "\n",
       "                               sector                           uniq_id  \n",
       "47      Business/Strategic Management  ac2da666b68583ed3c3cc4eaee869eb1  \n",
       "6057  Installation/Maintenance/Repair  2afee5e7f01a4a0d3723fb9f543f439e  "
      ]
     },
     "execution_count": 201,
     "metadata": {},
     "output_type": "execute_result"
    }
   ],
   "source": [
    "df[df['job_title'].str.contains('\\( . \\)')].head(2)"
   ]
  },
  {
   "cell_type": "code",
   "execution_count": 202,
   "id": "504df416",
   "metadata": {},
   "outputs": [
    {
     "data": {
      "text/html": [
       "<div>\n",
       "<style scoped>\n",
       "    .dataframe tbody tr th:only-of-type {\n",
       "        vertical-align: middle;\n",
       "    }\n",
       "\n",
       "    .dataframe tbody tr th {\n",
       "        vertical-align: top;\n",
       "    }\n",
       "\n",
       "    .dataframe thead th {\n",
       "        text-align: right;\n",
       "    }\n",
       "</style>\n",
       "<table border=\"1\" class=\"dataframe\">\n",
       "  <thead>\n",
       "    <tr style=\"text-align: right;\">\n",
       "      <th></th>\n",
       "      <th>country</th>\n",
       "      <th>country_code</th>\n",
       "      <th>date_added</th>\n",
       "      <th>has_expired</th>\n",
       "      <th>job_board</th>\n",
       "      <th>job_description</th>\n",
       "      <th>job_title</th>\n",
       "      <th>job_type</th>\n",
       "      <th>location</th>\n",
       "      <th>organization</th>\n",
       "      <th>page_url</th>\n",
       "      <th>salary</th>\n",
       "      <th>sector</th>\n",
       "      <th>uniq_id</th>\n",
       "    </tr>\n",
       "  </thead>\n",
       "  <tbody>\n",
       "    <tr>\n",
       "      <th>97</th>\n",
       "      <td>United States of America</td>\n",
       "      <td>US</td>\n",
       "      <td>NaT</td>\n",
       "      <td>No</td>\n",
       "      <td>jobs.monster.com</td>\n",
       "      <td>Job Title: Personal Banker (SAFE) 1 - Bear Val...</td>\n",
       "      <td>Personal Banker (SAFE)  Bear Valley</td>\n",
       "      <td>Full Time Employee</td>\n",
       "      <td>Denver, CO</td>\n",
       "      <td>Banking</td>\n",
       "      <td>http://jobview.monster.com/Personal-Banker-SAF...</td>\n",
       "      <td>NaN</td>\n",
       "      <td>Experienced (Non-Manager)</td>\n",
       "      <td>c639b20ed01b45b3f3aff1ef58a5d9ce</td>\n",
       "    </tr>\n",
       "    <tr>\n",
       "      <th>198</th>\n",
       "      <td>United States of America</td>\n",
       "      <td>US</td>\n",
       "      <td>NaT</td>\n",
       "      <td>No</td>\n",
       "      <td>jobs.monster.com</td>\n",
       "      <td>Job Title: Personal Banker (SAFE) 1 - Cypress ...</td>\n",
       "      <td>Personal Banker (SAFE)  Cypress Area Overhire</td>\n",
       "      <td>Full Time Employee</td>\n",
       "      <td>Houston, TX</td>\n",
       "      <td>Banking</td>\n",
       "      <td>http://jobview.monster.com/Personal-Banker-SAF...</td>\n",
       "      <td>NaN</td>\n",
       "      <td>Experienced (Non-Manager)</td>\n",
       "      <td>ce07a03b6d309d11388fd87c20b91e2e</td>\n",
       "    </tr>\n",
       "  </tbody>\n",
       "</table>\n",
       "</div>"
      ],
      "text/plain": [
       "                      country country_code date_added has_expired  \\\n",
       "97   United States of America           US        NaT          No   \n",
       "198  United States of America           US        NaT          No   \n",
       "\n",
       "            job_board                                    job_description  \\\n",
       "97   jobs.monster.com  Job Title: Personal Banker (SAFE) 1 - Bear Val...   \n",
       "198  jobs.monster.com  Job Title: Personal Banker (SAFE) 1 - Cypress ...   \n",
       "\n",
       "                                          job_title            job_type  \\\n",
       "97             Personal Banker (SAFE)  Bear Valley   Full Time Employee   \n",
       "198  Personal Banker (SAFE)  Cypress Area Overhire   Full Time Employee   \n",
       "\n",
       "        location organization  \\\n",
       "97    Denver, CO      Banking   \n",
       "198  Houston, TX      Banking   \n",
       "\n",
       "                                              page_url salary  \\\n",
       "97   http://jobview.monster.com/Personal-Banker-SAF...    NaN   \n",
       "198  http://jobview.monster.com/Personal-Banker-SAF...    NaN   \n",
       "\n",
       "                        sector                           uniq_id  \n",
       "97   Experienced (Non-Manager)  c639b20ed01b45b3f3aff1ef58a5d9ce  \n",
       "198  Experienced (Non-Manager)  ce07a03b6d309d11388fd87c20b91e2e  "
      ]
     },
     "execution_count": 202,
     "metadata": {},
     "output_type": "execute_result"
    }
   ],
   "source": [
    "df[df['job_title'].str.contains('\\(....\\)')].head(2)"
   ]
  },
  {
   "cell_type": "code",
   "execution_count": 203,
   "id": "906911fa",
   "metadata": {},
   "outputs": [],
   "source": [
    "df['job_title'] = df[\"job_title\"].str.replace(r'\\(....\\)|\\( . \\)|\\(\\)',\"\",regex=True)"
   ]
  },
  {
   "cell_type": "code",
   "execution_count": 204,
   "id": "779200dc",
   "metadata": {},
   "outputs": [
    {
     "data": {
      "text/plain": [
       "0                                IT Support Technician \n",
       "1                             Business Reporter/Editor \n",
       "2                               Senior Training Leader \n",
       "3                                   Engineer - Quality \n",
       "4                                  Shift Supervisor -  \n",
       "                              ...                      \n",
       "21995            Assistant Vice President - Controller \n",
       "21996                                       Accountant \n",
       "21997                                 AEM/CQ developer \n",
       "21998    Electrician - Experienced Forging Electrician \n",
       "21999                           Contract Administrator \n",
       "Name: job_title, Length: 22000, dtype: object"
      ]
     },
     "execution_count": 204,
     "metadata": {},
     "output_type": "execute_result"
    }
   ],
   "source": [
    "df.job_title"
   ]
  },
  {
   "cell_type": "markdown",
   "id": "b7a4056e",
   "metadata": {},
   "source": [
    "## [5] Changing Improper Uppercase Format To Consistent Format\n",
    "So, giving proper format to job_description and job_title"
   ]
  },
  {
   "cell_type": "code",
   "execution_count": 205,
   "id": "8525e4e8",
   "metadata": {},
   "outputs": [
    {
     "data": {
      "text/html": [
       "<div>\n",
       "<style scoped>\n",
       "    .dataframe tbody tr th:only-of-type {\n",
       "        vertical-align: middle;\n",
       "    }\n",
       "\n",
       "    .dataframe tbody tr th {\n",
       "        vertical-align: top;\n",
       "    }\n",
       "\n",
       "    .dataframe thead th {\n",
       "        text-align: right;\n",
       "    }\n",
       "</style>\n",
       "<table border=\"1\" class=\"dataframe\">\n",
       "  <thead>\n",
       "    <tr style=\"text-align: right;\">\n",
       "      <th></th>\n",
       "      <th>country</th>\n",
       "      <th>country_code</th>\n",
       "      <th>date_added</th>\n",
       "      <th>has_expired</th>\n",
       "      <th>job_board</th>\n",
       "      <th>job_description</th>\n",
       "      <th>job_title</th>\n",
       "      <th>job_type</th>\n",
       "      <th>location</th>\n",
       "      <th>organization</th>\n",
       "      <th>page_url</th>\n",
       "      <th>salary</th>\n",
       "      <th>sector</th>\n",
       "      <th>uniq_id</th>\n",
       "    </tr>\n",
       "  </thead>\n",
       "  <tbody>\n",
       "    <tr>\n",
       "      <th>31</th>\n",
       "      <td>United States of America</td>\n",
       "      <td>US</td>\n",
       "      <td>NaT</td>\n",
       "      <td>No</td>\n",
       "      <td>jobs.monster.com</td>\n",
       "      <td>RECREATION THERAPY ASSISTANT  The successful a...</td>\n",
       "      <td>RECREATION THERAPY ASSISTANT</td>\n",
       "      <td>Full Time</td>\n",
       "      <td>Knoxville, TN</td>\n",
       "      <td>NaN</td>\n",
       "      <td>http://jobview.monster.com/RECREATION-THERAPY-...</td>\n",
       "      <td>NaN</td>\n",
       "      <td>NaN</td>\n",
       "      <td>ec83b57fe35bc66e0a1a1cf4e65b3030</td>\n",
       "    </tr>\n",
       "    <tr>\n",
       "      <th>56</th>\n",
       "      <td>United States of America</td>\n",
       "      <td>US</td>\n",
       "      <td>NaT</td>\n",
       "      <td>No</td>\n",
       "      <td>jobs.monster.com</td>\n",
       "      <td>DescriptionIf your goal is to begin a fantasti...</td>\n",
       "      <td>CASHIER</td>\n",
       "      <td>Full Time</td>\n",
       "      <td>Houston, TX</td>\n",
       "      <td>Retail</td>\n",
       "      <td>http://jobview.monster.com/CASHIER-Job-Houston...</td>\n",
       "      <td>NaN</td>\n",
       "      <td>Experienced (Non-Manager)</td>\n",
       "      <td>bcf70c41acf97ac8024c0b38c6fcaf87</td>\n",
       "    </tr>\n",
       "    <tr>\n",
       "      <th>113</th>\n",
       "      <td>United States of America</td>\n",
       "      <td>US</td>\n",
       "      <td>NaT</td>\n",
       "      <td>No</td>\n",
       "      <td>jobs.monster.com</td>\n",
       "      <td>TEMPORARY STUDENT PARAPROFESSIONAL Paid Intern...</td>\n",
       "      <td>TEMPORARY STUDENT PARAPROFESSIONAL</td>\n",
       "      <td>Full Time</td>\n",
       "      <td>West Palm Beach, FL 33431</td>\n",
       "      <td>All</td>\n",
       "      <td>http://jobview.local-jobs.monster.com/TEMPORAR...</td>\n",
       "      <td>NaN</td>\n",
       "      <td>NaN</td>\n",
       "      <td>841a58c886ae3910f95f61049ecba82f</td>\n",
       "    </tr>\n",
       "  </tbody>\n",
       "</table>\n",
       "</div>"
      ],
      "text/plain": [
       "                      country country_code date_added has_expired  \\\n",
       "31   United States of America           US        NaT          No   \n",
       "56   United States of America           US        NaT          No   \n",
       "113  United States of America           US        NaT          No   \n",
       "\n",
       "            job_board                                    job_description  \\\n",
       "31   jobs.monster.com  RECREATION THERAPY ASSISTANT  The successful a...   \n",
       "56   jobs.monster.com  DescriptionIf your goal is to begin a fantasti...   \n",
       "113  jobs.monster.com  TEMPORARY STUDENT PARAPROFESSIONAL Paid Intern...   \n",
       "\n",
       "                               job_title   job_type  \\\n",
       "31         RECREATION THERAPY ASSISTANT   Full Time   \n",
       "56                              CASHIER   Full Time   \n",
       "113  TEMPORARY STUDENT PARAPROFESSIONAL   Full Time   \n",
       "\n",
       "                      location organization  \\\n",
       "31               Knoxville, TN          NaN   \n",
       "56                 Houston, TX       Retail   \n",
       "113  West Palm Beach, FL 33431          All   \n",
       "\n",
       "                                              page_url salary  \\\n",
       "31   http://jobview.monster.com/RECREATION-THERAPY-...    NaN   \n",
       "56   http://jobview.monster.com/CASHIER-Job-Houston...    NaN   \n",
       "113  http://jobview.local-jobs.monster.com/TEMPORAR...    NaN   \n",
       "\n",
       "                        sector                           uniq_id  \n",
       "31                         NaN  ec83b57fe35bc66e0a1a1cf4e65b3030  \n",
       "56   Experienced (Non-Manager)  bcf70c41acf97ac8024c0b38c6fcaf87  \n",
       "113                        NaN  841a58c886ae3910f95f61049ecba82f  "
      ]
     },
     "execution_count": 205,
     "metadata": {},
     "output_type": "execute_result"
    }
   ],
   "source": [
    "df[df['job_title'].str.isupper()].head(3)"
   ]
  },
  {
   "cell_type": "code",
   "execution_count": 206,
   "id": "99874af5",
   "metadata": {},
   "outputs": [],
   "source": [
    "df['job_title'] = df.job_title.str.title() # Converting to Title Format \n",
    "df['job_description'] = df.job_description.str.title()"
   ]
  },
  {
   "cell_type": "code",
   "execution_count": 207,
   "id": "b1742f32",
   "metadata": {},
   "outputs": [
    {
     "data": {
      "text/html": [
       "<div>\n",
       "<style scoped>\n",
       "    .dataframe tbody tr th:only-of-type {\n",
       "        vertical-align: middle;\n",
       "    }\n",
       "\n",
       "    .dataframe tbody tr th {\n",
       "        vertical-align: top;\n",
       "    }\n",
       "\n",
       "    .dataframe thead th {\n",
       "        text-align: right;\n",
       "    }\n",
       "</style>\n",
       "<table border=\"1\" class=\"dataframe\">\n",
       "  <thead>\n",
       "    <tr style=\"text-align: right;\">\n",
       "      <th></th>\n",
       "      <th>country</th>\n",
       "      <th>country_code</th>\n",
       "      <th>date_added</th>\n",
       "      <th>has_expired</th>\n",
       "      <th>job_board</th>\n",
       "      <th>job_description</th>\n",
       "      <th>job_title</th>\n",
       "      <th>job_type</th>\n",
       "      <th>location</th>\n",
       "      <th>organization</th>\n",
       "      <th>page_url</th>\n",
       "      <th>salary</th>\n",
       "      <th>sector</th>\n",
       "      <th>uniq_id</th>\n",
       "    </tr>\n",
       "  </thead>\n",
       "  <tbody>\n",
       "  </tbody>\n",
       "</table>\n",
       "</div>"
      ],
      "text/plain": [
       "Empty DataFrame\n",
       "Columns: [country, country_code, date_added, has_expired, job_board, job_description, job_title, job_type, location, organization, page_url, salary, sector, uniq_id]\n",
       "Index: []"
      ]
     },
     "execution_count": 207,
     "metadata": {},
     "output_type": "execute_result"
    }
   ],
   "source": [
    "df[df['job_title'].str.isupper()].head(3) #no rows of job_title with uppercase"
   ]
  },
  {
   "cell_type": "markdown",
   "id": "a9967250",
   "metadata": {},
   "source": [
    "## No Cleaning for Country Column"
   ]
  },
  {
   "cell_type": "code",
   "execution_count": 208,
   "id": "b0a5ee1f",
   "metadata": {},
   "outputs": [
    {
     "data": {
      "text/plain": [
       "0"
      ]
     },
     "execution_count": 208,
     "metadata": {},
     "output_type": "execute_result"
    }
   ],
   "source": [
    "df.country.isnull().sum() # Has no null values "
   ]
  },
  {
   "cell_type": "code",
   "execution_count": 209,
   "id": "a776a5e7",
   "metadata": {},
   "outputs": [
    {
     "data": {
      "text/plain": [
       "array(['United States of America'], dtype=object)"
      ]
     },
     "execution_count": 209,
     "metadata": {},
     "output_type": "execute_result"
    }
   ],
   "source": [
    "df.country.unique() # Only value is 'United States of America' "
   ]
  },
  {
   "cell_type": "markdown",
   "id": "14212c0e",
   "metadata": {},
   "source": [
    "## No Cleaning for Country_code Column"
   ]
  },
  {
   "cell_type": "code",
   "execution_count": 210,
   "id": "f0671a8e",
   "metadata": {},
   "outputs": [
    {
     "data": {
      "text/plain": [
       "0"
      ]
     },
     "execution_count": 210,
     "metadata": {},
     "output_type": "execute_result"
    }
   ],
   "source": [
    "df.country_code.isnull().sum() # Has no null values "
   ]
  },
  {
   "cell_type": "code",
   "execution_count": 211,
   "id": "f12159f2",
   "metadata": {},
   "outputs": [
    {
     "data": {
      "text/plain": [
       "array(['US'], dtype=object)"
      ]
     },
     "execution_count": 211,
     "metadata": {},
     "output_type": "execute_result"
    }
   ],
   "source": [
    "df.country_code.unique() # Only value is 'US'"
   ]
  },
  {
   "cell_type": "markdown",
   "id": "aee16e4d",
   "metadata": {},
   "source": [
    "## Cleaning for date_added Column"
   ]
  },
  {
   "cell_type": "code",
   "execution_count": 212,
   "id": "d4b49598",
   "metadata": {},
   "outputs": [
    {
     "data": {
      "text/plain": [
       "(22000, 14)"
      ]
     },
     "execution_count": 212,
     "metadata": {},
     "output_type": "execute_result"
    }
   ],
   "source": [
    "df.shape"
   ]
  },
  {
   "cell_type": "code",
   "execution_count": 213,
   "id": "30cb83be",
   "metadata": {},
   "outputs": [
    {
     "data": {
      "text/plain": [
       "122"
      ]
     },
     "execution_count": 213,
     "metadata": {},
     "output_type": "execute_result"
    }
   ],
   "source": [
    "df.date_added.notnull().sum() # out of 22000 rows only 122 rows are not null"
   ]
  },
  {
   "cell_type": "code",
   "execution_count": 214,
   "id": "487c7a84",
   "metadata": {},
   "outputs": [
    {
     "data": {
      "text/plain": [
       "array([                          'NaT', '2016-05-10T00:00:00.000000000',\n",
       "       '2016-05-13T00:00:00.000000000', '2016-05-09T00:00:00.000000000',\n",
       "       '2016-06-10T00:00:00.000000000', '2017-01-02T00:00:00.000000000',\n",
       "       '2016-06-17T00:00:00.000000000', '2016-06-24T00:00:00.000000000',\n",
       "       '2016-06-23T00:00:00.000000000', '2016-12-20T00:00:00.000000000',\n",
       "       '2016-12-12T00:00:00.000000000', '2016-07-15T00:00:00.000000000',\n",
       "       '2016-07-08T00:00:00.000000000', '2016-10-31T00:00:00.000000000',\n",
       "       '2016-10-28T00:00:00.000000000', '2016-04-28T00:00:00.000000000',\n",
       "       '2016-04-27T00:00:00.000000000', '2016-04-29T00:00:00.000000000',\n",
       "       '2016-09-12T00:00:00.000000000', '2017-01-16T00:00:00.000000000',\n",
       "       '2016-09-22T00:00:00.000000000', '2016-03-25T00:00:00.000000000',\n",
       "       '2016-06-20T00:00:00.000000000', '2016-11-17T00:00:00.000000000',\n",
       "       '2016-07-11T00:00:00.000000000', '2016-12-07T00:00:00.000000000',\n",
       "       '2016-12-14T00:00:00.000000000', '2016-12-29T00:00:00.000000000',\n",
       "       '2016-05-05T00:00:00.000000000', '2016-05-06T00:00:00.000000000',\n",
       "       '2016-08-11T00:00:00.000000000', '2016-03-17T00:00:00.000000000',\n",
       "       '2016-04-04T00:00:00.000000000', '2016-04-07T00:00:00.000000000',\n",
       "       '2016-04-06T00:00:00.000000000', '2016-09-21T00:00:00.000000000',\n",
       "       '2016-05-18T00:00:00.000000000', '2016-03-15T00:00:00.000000000',\n",
       "       '2016-05-19T00:00:00.000000000', '2016-06-08T00:00:00.000000000',\n",
       "       '2016-06-07T00:00:00.000000000', '2016-10-18T00:00:00.000000000',\n",
       "       '2016-12-02T00:00:00.000000000', '2016-11-07T00:00:00.000000000',\n",
       "       '2016-03-29T00:00:00.000000000', '2016-04-08T00:00:00.000000000',\n",
       "       '2016-05-26T00:00:00.000000000', '2016-09-15T00:00:00.000000000',\n",
       "       '2016-08-17T00:00:00.000000000', '2016-11-21T00:00:00.000000000',\n",
       "       '2016-12-15T00:00:00.000000000', '2016-10-27T00:00:00.000000000',\n",
       "       '2016-10-25T00:00:00.000000000', '2016-06-27T00:00:00.000000000',\n",
       "       '2016-07-05T00:00:00.000000000', '2016-07-04T00:00:00.000000000',\n",
       "       '2016-07-07T00:00:00.000000000', '2016-08-25T00:00:00.000000000',\n",
       "       '2016-09-05T00:00:00.000000000', '2016-08-23T00:00:00.000000000',\n",
       "       '2016-09-02T00:00:00.000000000', '2016-09-01T00:00:00.000000000',\n",
       "       '2016-08-31T00:00:00.000000000', '2016-09-26T00:00:00.000000000',\n",
       "       '2016-08-05T00:00:00.000000000', '2016-08-02T00:00:00.000000000',\n",
       "       '2016-03-28T00:00:00.000000000', '2016-03-22T00:00:00.000000000',\n",
       "       '2016-02-29T00:00:00.000000000', '2016-09-09T00:00:00.000000000',\n",
       "       '2016-03-11T00:00:00.000000000', '2016-03-21T00:00:00.000000000',\n",
       "       '2016-03-07T00:00:00.000000000', '2016-06-03T00:00:00.000000000',\n",
       "       '2016-06-30T00:00:00.000000000', '2016-09-27T00:00:00.000000000',\n",
       "       '2016-03-30T00:00:00.000000000', '2016-03-24T00:00:00.000000000'],\n",
       "      dtype='datetime64[ns]')"
      ]
     },
     "execution_count": 214,
     "metadata": {},
     "output_type": "execute_result"
    }
   ],
   "source": [
    "df.date_added.unique()  "
   ]
  },
  {
   "cell_type": "markdown",
   "id": "620e6763",
   "metadata": {},
   "source": [
    "#### [1]  Providing Consistent Format To Dates\n",
    "Some dates are in mm/dd/yyyy format others are in m/d/yyyy format  ( '05/09/2016'  '1/2/2017')"
   ]
  },
  {
   "cell_type": "code",
   "execution_count": 215,
   "id": "ffb0746f",
   "metadata": {},
   "outputs": [],
   "source": [
    "df['date_added'] = df['date_added'].dt.strftime('%m-%d-%Y')"
   ]
  },
  {
   "cell_type": "code",
   "execution_count": 216,
   "id": "2d85bd41",
   "metadata": {},
   "outputs": [
    {
     "data": {
      "text/plain": [
       "array([nan, '05-10-2016', '05-13-2016', '05-09-2016', '06-10-2016',\n",
       "       '01-02-2017', '06-17-2016', '06-24-2016', '06-23-2016',\n",
       "       '12-20-2016', '12-12-2016', '07-15-2016', '07-08-2016',\n",
       "       '10-31-2016', '10-28-2016', '04-28-2016', '04-27-2016',\n",
       "       '04-29-2016', '09-12-2016', '01-16-2017', '09-22-2016',\n",
       "       '03-25-2016', '06-20-2016', '11-17-2016', '07-11-2016',\n",
       "       '12-07-2016', '12-14-2016', '12-29-2016', '05-05-2016',\n",
       "       '05-06-2016', '08-11-2016', '03-17-2016', '04-04-2016',\n",
       "       '04-07-2016', '04-06-2016', '09-21-2016', '05-18-2016',\n",
       "       '03-15-2016', '05-19-2016', '06-08-2016', '06-07-2016',\n",
       "       '10-18-2016', '12-02-2016', '11-07-2016', '03-29-2016',\n",
       "       '04-08-2016', '05-26-2016', '09-15-2016', '08-17-2016',\n",
       "       '11-21-2016', '12-15-2016', '10-27-2016', '10-25-2016',\n",
       "       '06-27-2016', '07-05-2016', '07-04-2016', '07-07-2016',\n",
       "       '08-25-2016', '09-05-2016', '08-23-2016', '09-02-2016',\n",
       "       '09-01-2016', '08-31-2016', '09-26-2016', '08-05-2016',\n",
       "       '08-02-2016', '03-28-2016', '03-22-2016', '02-29-2016',\n",
       "       '09-09-2016', '03-11-2016', '03-21-2016', '03-07-2016',\n",
       "       '06-03-2016', '06-30-2016', '09-27-2016', '03-30-2016',\n",
       "       '03-24-2016'], dtype=object)"
      ]
     },
     "execution_count": 216,
     "metadata": {},
     "output_type": "execute_result"
    }
   ],
   "source": [
    "df.date_added.unique() "
   ]
  },
  {
   "cell_type": "markdown",
   "id": "024ff8bb",
   "metadata": {},
   "source": [
    "## No Cleaning for has_expired Column"
   ]
  },
  {
   "cell_type": "code",
   "execution_count": 217,
   "id": "057b76bb",
   "metadata": {},
   "outputs": [
    {
     "data": {
      "text/plain": [
       "0"
      ]
     },
     "execution_count": 217,
     "metadata": {},
     "output_type": "execute_result"
    }
   ],
   "source": [
    "df.has_expired.isnull().sum() "
   ]
  },
  {
   "cell_type": "code",
   "execution_count": 218,
   "id": "dc60008f",
   "metadata": {},
   "outputs": [
    {
     "data": {
      "text/plain": [
       "array(['No'], dtype=object)"
      ]
     },
     "execution_count": 218,
     "metadata": {},
     "output_type": "execute_result"
    }
   ],
   "source": [
    "df.has_expired.unique()  # No job posting add is expired."
   ]
  },
  {
   "cell_type": "markdown",
   "id": "d8ffb23e",
   "metadata": {},
   "source": [
    "## No Cleaning for job_board Column"
   ]
  },
  {
   "cell_type": "code",
   "execution_count": 219,
   "id": "7079e43f",
   "metadata": {},
   "outputs": [
    {
     "data": {
      "text/plain": [
       "0"
      ]
     },
     "execution_count": 219,
     "metadata": {},
     "output_type": "execute_result"
    }
   ],
   "source": [
    "df.job_board.isnull().sum()"
   ]
  },
  {
   "cell_type": "code",
   "execution_count": 220,
   "id": "0b651536",
   "metadata": {},
   "outputs": [
    {
     "data": {
      "text/plain": [
       "array(['jobs.monster.com'], dtype=object)"
      ]
     },
     "execution_count": 220,
     "metadata": {},
     "output_type": "execute_result"
    }
   ],
   "source": [
    "df.job_board.unique()"
   ]
  },
  {
   "cell_type": "markdown",
   "id": "8ddb29af",
   "metadata": {},
   "source": [
    "## Cleaning Job_Type Column"
   ]
  },
  {
   "cell_type": "code",
   "execution_count": 221,
   "id": "8f6b3f5c",
   "metadata": {},
   "outputs": [
    {
     "data": {
      "text/plain": [
       "1628"
      ]
     },
     "execution_count": 221,
     "metadata": {},
     "output_type": "execute_result"
    }
   ],
   "source": [
    "df.job_type.isnull().sum()"
   ]
  },
  {
   "cell_type": "code",
   "execution_count": 222,
   "id": "e6794519",
   "metadata": {},
   "outputs": [
    {
     "data": {
      "text/plain": [
       "array(['Full Time Employee', 'Full Time', 'Full Time, Employee',\n",
       "       'Part Time Employee', nan, 'Full Time Temporary/Contract/Project',\n",
       "       'Full Time , Employee', 'Full Time, Temporary/Contract/Project',\n",
       "       'Employee', 'Part Time', 'Part Time, Employee', 'Full Time Intern',\n",
       "       'Temporary/Contract/Project', 'Full Time / Employee',\n",
       "       'Full Time , Temporary/Contract/Project',\n",
       "       'Part Time, Temporary/Contract/Project', 'Full Time/ Employee',\n",
       "       'Per Diem, Employee', 'Job Type Full Time Employee', 'Per Diem',\n",
       "       'Full Time\\xa0', 'Part Time Intern', 'Per Diem Employee',\n",
       "       'Part Time/ Temporary/Contract/Project',\n",
       "       'Part Time Temporary/Contract/Project', 'Exempt',\n",
       "       'Part Time , Temporary/Contract/Project', 'Full Time\\xa0 Employee',\n",
       "       'Part Time Seasonal', 'Part Time , Employee', 'Job Type Employee',\n",
       "       'Job Type Full Time Temporary/Contract/Project',\n",
       "       'Full Time / > Employee', 'Part Time\\xa0',\n",
       "       'Per Diem, Temporary/Contract/Project',\n",
       "       'Full Time / Temporary/Contract/Project', 'Part Time, Intern',\n",
       "       'Job Type Full Time', 'Part Time / Employee',\n",
       "       'Job Type Part Time Employee'], dtype=object)"
      ]
     },
     "execution_count": 222,
     "metadata": {},
     "output_type": "execute_result"
    }
   ],
   "source": [
    "df.job_type.unique() \n",
    "# It will have Job_type column storing (part time, full time), IsEmployee(if hiring is for employee or not), \n",
    "# IsIntern(if hiring is for intern or not), Job_Term\n",
    "# Full Time for values\n",
    "    # Full Time\n",
    "    # Full Time, Employee\n",
    "    # Full Time / Employee,etc\n",
    "    \n",
    "# Part Time for values\n",
    "    # Part Time, Employee,etc\n",
    "    \n",
    "# IsEmployee = True for values : \n",
    "    # Full Time, Employee\n",
    "    # Full Time Employee\n",
    "    # Part Time Employee\n",
    "    # Part Time, Employee,etc\n",
    "    \n",
    "# IsIntern = True for value \n",
    "    # Full Time Intern,etc\n",
    "    \n",
    "# Job_Term = Contract_based for values :\n",
    "    # Temporary/Contract/Project\n",
    "    # exempt\n",
    "    # Seasonal\n",
    "# nan "
   ]
  },
  {
   "cell_type": "markdown",
   "id": "92ec0ba7",
   "metadata": {},
   "source": [
    "#### [1] Create a new column IsEmployee and wherever Job_type contains \"employee\"  store 'True' in  IsEmployee else store 'False'"
   ]
  },
  {
   "cell_type": "code",
   "execution_count": 223,
   "id": "3f686a9c",
   "metadata": {},
   "outputs": [],
   "source": [
    "df['IsEmployee'] = df['job_type'].str.contains('Employee',na=False)"
   ]
  },
  {
   "cell_type": "code",
   "execution_count": 224,
   "id": "bf67185c",
   "metadata": {},
   "outputs": [
    {
     "data": {
      "text/html": [
       "<div>\n",
       "<style scoped>\n",
       "    .dataframe tbody tr th:only-of-type {\n",
       "        vertical-align: middle;\n",
       "    }\n",
       "\n",
       "    .dataframe tbody tr th {\n",
       "        vertical-align: top;\n",
       "    }\n",
       "\n",
       "    .dataframe thead th {\n",
       "        text-align: right;\n",
       "    }\n",
       "</style>\n",
       "<table border=\"1\" class=\"dataframe\">\n",
       "  <thead>\n",
       "    <tr style=\"text-align: right;\">\n",
       "      <th></th>\n",
       "      <th>job_type</th>\n",
       "      <th>IsEmployee</th>\n",
       "    </tr>\n",
       "  </thead>\n",
       "  <tbody>\n",
       "    <tr>\n",
       "      <th>0</th>\n",
       "      <td>Full Time Employee</td>\n",
       "      <td>True</td>\n",
       "    </tr>\n",
       "    <tr>\n",
       "      <th>2</th>\n",
       "      <td>Full Time, Employee</td>\n",
       "      <td>True</td>\n",
       "    </tr>\n",
       "  </tbody>\n",
       "</table>\n",
       "</div>"
      ],
      "text/plain": [
       "              job_type  IsEmployee\n",
       "0   Full Time Employee        True\n",
       "2  Full Time, Employee        True"
      ]
     },
     "execution_count": 224,
     "metadata": {},
     "output_type": "execute_result"
    }
   ],
   "source": [
    "df[['job_type','IsEmployee']][df['IsEmployee'] == True].head(2)"
   ]
  },
  {
   "cell_type": "markdown",
   "id": "10d8b45f",
   "metadata": {},
   "source": [
    "#### [2] Create a new column IsIntern and wherever value contains \"intern\" in Job_type column store 'True' in IsIntern else store 'False'"
   ]
  },
  {
   "cell_type": "code",
   "execution_count": 225,
   "id": "87f1cf8b",
   "metadata": {},
   "outputs": [
    {
     "data": {
      "text/html": [
       "<div>\n",
       "<style scoped>\n",
       "    .dataframe tbody tr th:only-of-type {\n",
       "        vertical-align: middle;\n",
       "    }\n",
       "\n",
       "    .dataframe tbody tr th {\n",
       "        vertical-align: top;\n",
       "    }\n",
       "\n",
       "    .dataframe thead th {\n",
       "        text-align: right;\n",
       "    }\n",
       "</style>\n",
       "<table border=\"1\" class=\"dataframe\">\n",
       "  <thead>\n",
       "    <tr style=\"text-align: right;\">\n",
       "      <th></th>\n",
       "      <th>country</th>\n",
       "      <th>country_code</th>\n",
       "      <th>date_added</th>\n",
       "      <th>has_expired</th>\n",
       "      <th>job_board</th>\n",
       "      <th>job_description</th>\n",
       "      <th>job_title</th>\n",
       "      <th>job_type</th>\n",
       "      <th>location</th>\n",
       "      <th>organization</th>\n",
       "      <th>page_url</th>\n",
       "      <th>salary</th>\n",
       "      <th>sector</th>\n",
       "      <th>uniq_id</th>\n",
       "      <th>IsEmployee</th>\n",
       "    </tr>\n",
       "  </thead>\n",
       "  <tbody>\n",
       "    <tr>\n",
       "      <th>178</th>\n",
       "      <td>United States of America</td>\n",
       "      <td>US</td>\n",
       "      <td>NaN</td>\n",
       "      <td>No</td>\n",
       "      <td>jobs.monster.com</td>\n",
       "      <td>Springer Nature Is A Major New Force In Sc...</td>\n",
       "      <td>Editorial Internship</td>\n",
       "      <td>Full Time Intern</td>\n",
       "      <td>New York, NY 10013</td>\n",
       "      <td>Printing and Publishing</td>\n",
       "      <td>http://jobview.monster.com/Editorial-Internshi...</td>\n",
       "      <td>NaN</td>\n",
       "      <td>Editorial/Writing</td>\n",
       "      <td>0405aaa87456bb11407f780bd5688132</td>\n",
       "      <td>False</td>\n",
       "    </tr>\n",
       "    <tr>\n",
       "      <th>2005</th>\n",
       "      <td>United States of America</td>\n",
       "      <td>US</td>\n",
       "      <td>NaN</td>\n",
       "      <td>No</td>\n",
       "      <td>jobs.monster.com</td>\n",
       "      <td>Summer Intern Ramjob Function: Salesprimary Lo...</td>\n",
       "      <td>Summer Marketing Internship</td>\n",
       "      <td>Part Time Intern</td>\n",
       "      <td>Columbus, OH</td>\n",
       "      <td>NaN</td>\n",
       "      <td>http://jobview.monster.com/summer-marketing-in...</td>\n",
       "      <td>0.00 - 15.00 $ /hour</td>\n",
       "      <td>Marketing/Product</td>\n",
       "      <td>c83fe0d1f4cf4fa947910e7bd3de3563</td>\n",
       "      <td>False</td>\n",
       "    </tr>\n",
       "  </tbody>\n",
       "</table>\n",
       "</div>"
      ],
      "text/plain": [
       "                       country country_code date_added has_expired  \\\n",
       "178   United States of America           US        NaN          No   \n",
       "2005  United States of America           US        NaN          No   \n",
       "\n",
       "             job_board                                    job_description  \\\n",
       "178   jobs.monster.com      Springer Nature Is A Major New Force In Sc...   \n",
       "2005  jobs.monster.com  Summer Intern Ramjob Function: Salesprimary Lo...   \n",
       "\n",
       "                         job_title          job_type            location  \\\n",
       "178           Editorial Internship  Full Time Intern  New York, NY 10013   \n",
       "2005  Summer Marketing Internship   Part Time Intern        Columbus, OH   \n",
       "\n",
       "                 organization  \\\n",
       "178   Printing and Publishing   \n",
       "2005                      NaN   \n",
       "\n",
       "                                               page_url                salary  \\\n",
       "178   http://jobview.monster.com/Editorial-Internshi...                   NaN   \n",
       "2005  http://jobview.monster.com/summer-marketing-in...  0.00 - 15.00 $ /hour   \n",
       "\n",
       "                 sector                           uniq_id  IsEmployee  \n",
       "178   Editorial/Writing  0405aaa87456bb11407f780bd5688132       False  \n",
       "2005  Marketing/Product  c83fe0d1f4cf4fa947910e7bd3de3563       False  "
      ]
     },
     "execution_count": 225,
     "metadata": {},
     "output_type": "execute_result"
    }
   ],
   "source": [
    "df[df['job_type'].str.contains('Intern',na=False)].head(2)"
   ]
  },
  {
   "cell_type": "code",
   "execution_count": 226,
   "id": "05e25332",
   "metadata": {},
   "outputs": [],
   "source": [
    "df['IsIntern'] = df['job_type'].str.contains('Intern',na=False)"
   ]
  },
  {
   "cell_type": "code",
   "execution_count": 227,
   "id": "7ca62a1c",
   "metadata": {},
   "outputs": [
    {
     "data": {
      "text/html": [
       "<div>\n",
       "<style scoped>\n",
       "    .dataframe tbody tr th:only-of-type {\n",
       "        vertical-align: middle;\n",
       "    }\n",
       "\n",
       "    .dataframe tbody tr th {\n",
       "        vertical-align: top;\n",
       "    }\n",
       "\n",
       "    .dataframe thead th {\n",
       "        text-align: right;\n",
       "    }\n",
       "</style>\n",
       "<table border=\"1\" class=\"dataframe\">\n",
       "  <thead>\n",
       "    <tr style=\"text-align: right;\">\n",
       "      <th></th>\n",
       "      <th>job_type</th>\n",
       "      <th>IsIntern</th>\n",
       "    </tr>\n",
       "  </thead>\n",
       "  <tbody>\n",
       "    <tr>\n",
       "      <th>178</th>\n",
       "      <td>Full Time Intern</td>\n",
       "      <td>True</td>\n",
       "    </tr>\n",
       "    <tr>\n",
       "      <th>2005</th>\n",
       "      <td>Part Time Intern</td>\n",
       "      <td>True</td>\n",
       "    </tr>\n",
       "  </tbody>\n",
       "</table>\n",
       "</div>"
      ],
      "text/plain": [
       "              job_type  IsIntern\n",
       "178   Full Time Intern      True\n",
       "2005  Part Time Intern      True"
      ]
     },
     "execution_count": 227,
     "metadata": {},
     "output_type": "execute_result"
    }
   ],
   "source": [
    "df[['job_type','IsIntern']][df['IsIntern'] == True].head(2)"
   ]
  },
  {
   "cell_type": "markdown",
   "id": "b734fde3",
   "metadata": {},
   "source": [
    "#### [3] Create a new column JobTerm and wherever value contains \"Temporary/Contract/Project\", 'Seasonal'  in Job_type column store 'Contract_based'  else store 'Unknown'"
   ]
  },
  {
   "cell_type": "code",
   "execution_count": 228,
   "id": "fa7cc506",
   "metadata": {},
   "outputs": [],
   "source": [
    "df['JobTerm'] =np.where(df['job_type'].str.contains(r'Temporary/Contract/Project|Seasonal',na=False,regex=True),'Contract_based','Unknown')"
   ]
  },
  {
   "cell_type": "code",
   "execution_count": 229,
   "id": "e952a98a",
   "metadata": {},
   "outputs": [
    {
     "data": {
      "text/html": [
       "<div>\n",
       "<style scoped>\n",
       "    .dataframe tbody tr th:only-of-type {\n",
       "        vertical-align: middle;\n",
       "    }\n",
       "\n",
       "    .dataframe tbody tr th {\n",
       "        vertical-align: top;\n",
       "    }\n",
       "\n",
       "    .dataframe thead th {\n",
       "        text-align: right;\n",
       "    }\n",
       "</style>\n",
       "<table border=\"1\" class=\"dataframe\">\n",
       "  <thead>\n",
       "    <tr style=\"text-align: right;\">\n",
       "      <th></th>\n",
       "      <th>job_type</th>\n",
       "      <th>JobTerm</th>\n",
       "    </tr>\n",
       "  </thead>\n",
       "  <tbody>\n",
       "    <tr>\n",
       "      <th>7833</th>\n",
       "      <td>Part Time Seasonal</td>\n",
       "      <td>Contract_based</td>\n",
       "    </tr>\n",
       "    <tr>\n",
       "      <th>15923</th>\n",
       "      <td>Part Time Seasonal</td>\n",
       "      <td>Contract_based</td>\n",
       "    </tr>\n",
       "  </tbody>\n",
       "</table>\n",
       "</div>"
      ],
      "text/plain": [
       "                 job_type         JobTerm\n",
       "7833   Part Time Seasonal  Contract_based\n",
       "15923  Part Time Seasonal  Contract_based"
      ]
     },
     "execution_count": 229,
     "metadata": {},
     "output_type": "execute_result"
    }
   ],
   "source": [
    "df[['job_type','JobTerm']][df['job_type'].str.contains('Seasonal',na=False)].head(2)"
   ]
  },
  {
   "cell_type": "code",
   "execution_count": 230,
   "id": "a2dc8ca0",
   "metadata": {},
   "outputs": [
    {
     "data": {
      "text/html": [
       "<div>\n",
       "<style scoped>\n",
       "    .dataframe tbody tr th:only-of-type {\n",
       "        vertical-align: middle;\n",
       "    }\n",
       "\n",
       "    .dataframe tbody tr th {\n",
       "        vertical-align: top;\n",
       "    }\n",
       "\n",
       "    .dataframe thead th {\n",
       "        text-align: right;\n",
       "    }\n",
       "</style>\n",
       "<table border=\"1\" class=\"dataframe\">\n",
       "  <thead>\n",
       "    <tr style=\"text-align: right;\">\n",
       "      <th></th>\n",
       "      <th>job_type</th>\n",
       "      <th>JobTerm</th>\n",
       "    </tr>\n",
       "  </thead>\n",
       "  <tbody>\n",
       "    <tr>\n",
       "      <th>21</th>\n",
       "      <td>Full Time Temporary/Contract/Project</td>\n",
       "      <td>Contract_based</td>\n",
       "    </tr>\n",
       "    <tr>\n",
       "      <th>30</th>\n",
       "      <td>Full Time Temporary/Contract/Project</td>\n",
       "      <td>Contract_based</td>\n",
       "    </tr>\n",
       "  </tbody>\n",
       "</table>\n",
       "</div>"
      ],
      "text/plain": [
       "                                job_type         JobTerm\n",
       "21  Full Time Temporary/Contract/Project  Contract_based\n",
       "30  Full Time Temporary/Contract/Project  Contract_based"
      ]
     },
     "execution_count": 230,
     "metadata": {},
     "output_type": "execute_result"
    }
   ],
   "source": [
    "df[['job_type','JobTerm']][df['job_type'].str.contains('Temporary/Contract/Project',na=False)].head(2)"
   ]
  },
  {
   "cell_type": "markdown",
   "id": "eee485a9",
   "metadata": {},
   "source": [
    "#### [4] Removing Info like \"Employee\",'Intern','seasonal',etc from job_type"
   ]
  },
  {
   "cell_type": "code",
   "execution_count": 231,
   "id": "879cb8c9",
   "metadata": {},
   "outputs": [
    {
     "data": {
      "text/html": [
       "<div>\n",
       "<style scoped>\n",
       "    .dataframe tbody tr th:only-of-type {\n",
       "        vertical-align: middle;\n",
       "    }\n",
       "\n",
       "    .dataframe tbody tr th {\n",
       "        vertical-align: top;\n",
       "    }\n",
       "\n",
       "    .dataframe thead th {\n",
       "        text-align: right;\n",
       "    }\n",
       "</style>\n",
       "<table border=\"1\" class=\"dataframe\">\n",
       "  <thead>\n",
       "    <tr style=\"text-align: right;\">\n",
       "      <th></th>\n",
       "      <th>country</th>\n",
       "      <th>country_code</th>\n",
       "      <th>date_added</th>\n",
       "      <th>has_expired</th>\n",
       "      <th>job_board</th>\n",
       "      <th>job_description</th>\n",
       "      <th>job_title</th>\n",
       "      <th>job_type</th>\n",
       "      <th>location</th>\n",
       "      <th>organization</th>\n",
       "      <th>page_url</th>\n",
       "      <th>salary</th>\n",
       "      <th>sector</th>\n",
       "      <th>uniq_id</th>\n",
       "      <th>IsEmployee</th>\n",
       "      <th>IsIntern</th>\n",
       "      <th>JobTerm</th>\n",
       "    </tr>\n",
       "  </thead>\n",
       "  <tbody>\n",
       "    <tr>\n",
       "      <th>0</th>\n",
       "      <td>United States of America</td>\n",
       "      <td>US</td>\n",
       "      <td>NaN</td>\n",
       "      <td>No</td>\n",
       "      <td>jobs.monster.com</td>\n",
       "      <td>Teamsoft Is Seeing An It Support Specialist To...</td>\n",
       "      <td>It Support Technician</td>\n",
       "      <td>Full Time Employee</td>\n",
       "      <td>Madison, WI 53702</td>\n",
       "      <td>NaN</td>\n",
       "      <td>http://jobview.monster.com/it-support-technici...</td>\n",
       "      <td>NaN</td>\n",
       "      <td>IT/Software Development</td>\n",
       "      <td>11d599f229a80023d2f40e7c52cd941e</td>\n",
       "      <td>True</td>\n",
       "      <td>False</td>\n",
       "      <td>Unknown</td>\n",
       "    </tr>\n",
       "    <tr>\n",
       "      <th>2</th>\n",
       "      <td>United States of America</td>\n",
       "      <td>US</td>\n",
       "      <td>NaN</td>\n",
       "      <td>No</td>\n",
       "      <td>jobs.monster.com</td>\n",
       "      <td>Report This Job About The Job Depuy Synthes Co...</td>\n",
       "      <td>Senior Training Leader</td>\n",
       "      <td>Full Time, Employee</td>\n",
       "      <td>DePuy Synthes Companies is a member of Johnson...</td>\n",
       "      <td>Personal and Household Services</td>\n",
       "      <td>http://jobview.monster.com/senior-training-lea...</td>\n",
       "      <td>NaN</td>\n",
       "      <td>NaN</td>\n",
       "      <td>839106b353877fa3d896ffb9c1fe01c0</td>\n",
       "      <td>True</td>\n",
       "      <td>False</td>\n",
       "      <td>Unknown</td>\n",
       "    </tr>\n",
       "  </tbody>\n",
       "</table>\n",
       "</div>"
      ],
      "text/plain": [
       "                    country country_code date_added has_expired  \\\n",
       "0  United States of America           US        NaN          No   \n",
       "2  United States of America           US        NaN          No   \n",
       "\n",
       "          job_board                                    job_description  \\\n",
       "0  jobs.monster.com  Teamsoft Is Seeing An It Support Specialist To...   \n",
       "2  jobs.monster.com  Report This Job About The Job Depuy Synthes Co...   \n",
       "\n",
       "                  job_title             job_type  \\\n",
       "0    It Support Technician    Full Time Employee   \n",
       "2   Senior Training Leader   Full Time, Employee   \n",
       "\n",
       "                                            location  \\\n",
       "0                                  Madison, WI 53702   \n",
       "2  DePuy Synthes Companies is a member of Johnson...   \n",
       "\n",
       "                      organization  \\\n",
       "0                              NaN   \n",
       "2  Personal and Household Services   \n",
       "\n",
       "                                            page_url salary  \\\n",
       "0  http://jobview.monster.com/it-support-technici...    NaN   \n",
       "2  http://jobview.monster.com/senior-training-lea...    NaN   \n",
       "\n",
       "                    sector                           uniq_id  IsEmployee  \\\n",
       "0  IT/Software Development  11d599f229a80023d2f40e7c52cd941e        True   \n",
       "2                      NaN  839106b353877fa3d896ffb9c1fe01c0        True   \n",
       "\n",
       "   IsIntern  JobTerm  \n",
       "0     False  Unknown  \n",
       "2     False  Unknown  "
      ]
     },
     "execution_count": 231,
     "metadata": {},
     "output_type": "execute_result"
    }
   ],
   "source": [
    "df[df['job_type'].str.contains(\"Employee\",na=False)].head(2)"
   ]
  },
  {
   "cell_type": "code",
   "execution_count": 232,
   "id": "b4f3cfdb",
   "metadata": {},
   "outputs": [
    {
     "data": {
      "text/html": [
       "<div>\n",
       "<style scoped>\n",
       "    .dataframe tbody tr th:only-of-type {\n",
       "        vertical-align: middle;\n",
       "    }\n",
       "\n",
       "    .dataframe tbody tr th {\n",
       "        vertical-align: top;\n",
       "    }\n",
       "\n",
       "    .dataframe thead th {\n",
       "        text-align: right;\n",
       "    }\n",
       "</style>\n",
       "<table border=\"1\" class=\"dataframe\">\n",
       "  <thead>\n",
       "    <tr style=\"text-align: right;\">\n",
       "      <th></th>\n",
       "      <th>country</th>\n",
       "      <th>country_code</th>\n",
       "      <th>date_added</th>\n",
       "      <th>has_expired</th>\n",
       "      <th>job_board</th>\n",
       "      <th>job_description</th>\n",
       "      <th>job_title</th>\n",
       "      <th>job_type</th>\n",
       "      <th>location</th>\n",
       "      <th>organization</th>\n",
       "      <th>page_url</th>\n",
       "      <th>salary</th>\n",
       "      <th>sector</th>\n",
       "      <th>uniq_id</th>\n",
       "      <th>IsEmployee</th>\n",
       "      <th>IsIntern</th>\n",
       "      <th>JobTerm</th>\n",
       "    </tr>\n",
       "  </thead>\n",
       "  <tbody>\n",
       "    <tr>\n",
       "      <th>178</th>\n",
       "      <td>United States of America</td>\n",
       "      <td>US</td>\n",
       "      <td>NaN</td>\n",
       "      <td>No</td>\n",
       "      <td>jobs.monster.com</td>\n",
       "      <td>Springer Nature Is A Major New Force In Sc...</td>\n",
       "      <td>Editorial Internship</td>\n",
       "      <td>Full Time Intern</td>\n",
       "      <td>New York, NY 10013</td>\n",
       "      <td>Printing and Publishing</td>\n",
       "      <td>http://jobview.monster.com/Editorial-Internshi...</td>\n",
       "      <td>NaN</td>\n",
       "      <td>Editorial/Writing</td>\n",
       "      <td>0405aaa87456bb11407f780bd5688132</td>\n",
       "      <td>False</td>\n",
       "      <td>True</td>\n",
       "      <td>Unknown</td>\n",
       "    </tr>\n",
       "    <tr>\n",
       "      <th>2005</th>\n",
       "      <td>United States of America</td>\n",
       "      <td>US</td>\n",
       "      <td>NaN</td>\n",
       "      <td>No</td>\n",
       "      <td>jobs.monster.com</td>\n",
       "      <td>Summer Intern Ramjob Function: Salesprimary Lo...</td>\n",
       "      <td>Summer Marketing Internship</td>\n",
       "      <td>Part Time Intern</td>\n",
       "      <td>Columbus, OH</td>\n",
       "      <td>NaN</td>\n",
       "      <td>http://jobview.monster.com/summer-marketing-in...</td>\n",
       "      <td>0.00 - 15.00 $ /hour</td>\n",
       "      <td>Marketing/Product</td>\n",
       "      <td>c83fe0d1f4cf4fa947910e7bd3de3563</td>\n",
       "      <td>False</td>\n",
       "      <td>True</td>\n",
       "      <td>Unknown</td>\n",
       "    </tr>\n",
       "    <tr>\n",
       "      <th>2422</th>\n",
       "      <td>United States of America</td>\n",
       "      <td>US</td>\n",
       "      <td>NaN</td>\n",
       "      <td>No</td>\n",
       "      <td>jobs.monster.com</td>\n",
       "      <td>Position Summary The Hr Co-Op Will Be A Part O...</td>\n",
       "      <td>Hr Internship/Co-Op</td>\n",
       "      <td>Full Time Intern</td>\n",
       "      <td>Algona, WA 98001</td>\n",
       "      <td>Aerospace and Defense</td>\n",
       "      <td>http://jobview.monster.com/hr-internship-co-op...</td>\n",
       "      <td>NaN</td>\n",
       "      <td>Human Resources</td>\n",
       "      <td>d99d552308bec9a14c50e8b1e9777941</td>\n",
       "      <td>False</td>\n",
       "      <td>True</td>\n",
       "      <td>Unknown</td>\n",
       "    </tr>\n",
       "    <tr>\n",
       "      <th>11347</th>\n",
       "      <td>United States of America</td>\n",
       "      <td>US</td>\n",
       "      <td>NaN</td>\n",
       "      <td>No</td>\n",
       "      <td>jobs.monster.com</td>\n",
       "      <td>Essential Functions: Monitors The It Suppor...</td>\n",
       "      <td>Information Systems Intern</td>\n",
       "      <td>Part Time, Intern</td>\n",
       "      <td>Columbus, OH</td>\n",
       "      <td>Energy and Utilities</td>\n",
       "      <td>http://jobview.monster.com/information-systems...</td>\n",
       "      <td>NaN</td>\n",
       "      <td>IT/Software Development</td>\n",
       "      <td>ad9799eee47b0d7a95d806216860c8a5</td>\n",
       "      <td>False</td>\n",
       "      <td>True</td>\n",
       "      <td>Unknown</td>\n",
       "    </tr>\n",
       "    <tr>\n",
       "      <th>17079</th>\n",
       "      <td>United States of America</td>\n",
       "      <td>US</td>\n",
       "      <td>NaN</td>\n",
       "      <td>No</td>\n",
       "      <td>jobs.monster.com</td>\n",
       "      <td>Our Mission:  “At Bbrg, We Strive To Be The Be...</td>\n",
       "      <td>Digital Marketing Intern</td>\n",
       "      <td>Part Time Intern</td>\n",
       "      <td>Columbus, OH 43085</td>\n",
       "      <td>Restaurant/Food Services</td>\n",
       "      <td>http://jobview.monster.com/Digital-Marketing-I...</td>\n",
       "      <td>NaN</td>\n",
       "      <td>Entry Level</td>\n",
       "      <td>25eb1c21490394f643a041500ddbd754</td>\n",
       "      <td>False</td>\n",
       "      <td>True</td>\n",
       "      <td>Unknown</td>\n",
       "    </tr>\n",
       "    <tr>\n",
       "      <th>17959</th>\n",
       "      <td>United States of America</td>\n",
       "      <td>US</td>\n",
       "      <td>02-29-2016</td>\n",
       "      <td>No</td>\n",
       "      <td>jobs.monster.com</td>\n",
       "      <td>Lehigh Hanson Is Seeking An Intern – Informati...</td>\n",
       "      <td>Front Office It Intern</td>\n",
       "      <td>Full Time Intern</td>\n",
       "      <td>Irving, TX 75062</td>\n",
       "      <td>Metals and MineralsConstruction - Industrial F...</td>\n",
       "      <td>http://jobview.monster.com/Front-Office-IT-Int...</td>\n",
       "      <td>NaN</td>\n",
       "      <td>IT/Software Development</td>\n",
       "      <td>de1ab6c78ef1b828239b79200d308801</td>\n",
       "      <td>False</td>\n",
       "      <td>True</td>\n",
       "      <td>Unknown</td>\n",
       "    </tr>\n",
       "    <tr>\n",
       "      <th>19916</th>\n",
       "      <td>United States of America</td>\n",
       "      <td>US</td>\n",
       "      <td>NaN</td>\n",
       "      <td>No</td>\n",
       "      <td>jobs.monster.com</td>\n",
       "      <td>Overview: Aesculap, Inc., A B. Braun Company, ...</td>\n",
       "      <td>Marketing Internship</td>\n",
       "      <td>Full Time Intern</td>\n",
       "      <td>Center Valley, PA</td>\n",
       "      <td>Medical Devices and Supplies</td>\n",
       "      <td>http://jobview.monster.com/Marketing-Internshi...</td>\n",
       "      <td>NaN</td>\n",
       "      <td>Medical/Health</td>\n",
       "      <td>8418b7d1135191bc41bd50db104f4697</td>\n",
       "      <td>False</td>\n",
       "      <td>True</td>\n",
       "      <td>Unknown</td>\n",
       "    </tr>\n",
       "    <tr>\n",
       "      <th>20137</th>\n",
       "      <td>United States of America</td>\n",
       "      <td>US</td>\n",
       "      <td>NaN</td>\n",
       "      <td>No</td>\n",
       "      <td>jobs.monster.com</td>\n",
       "      <td>Brand Ambassador Internship As A Brand Ambassa...</td>\n",
       "      <td>Brand Ambassador Internship</td>\n",
       "      <td>Full Time Intern</td>\n",
       "      <td>Wauwatosa, WI 53222</td>\n",
       "      <td>Advertising and PR Services</td>\n",
       "      <td>http://jobview.monster.com/brand-ambassador-in...</td>\n",
       "      <td>NaN</td>\n",
       "      <td>Marketing/Product</td>\n",
       "      <td>889d830fcba9c1392090c2cf79b821cd</td>\n",
       "      <td>False</td>\n",
       "      <td>True</td>\n",
       "      <td>Unknown</td>\n",
       "    </tr>\n",
       "  </tbody>\n",
       "</table>\n",
       "</div>"
      ],
      "text/plain": [
       "                        country country_code  date_added has_expired  \\\n",
       "178    United States of America           US         NaN          No   \n",
       "2005   United States of America           US         NaN          No   \n",
       "2422   United States of America           US         NaN          No   \n",
       "11347  United States of America           US         NaN          No   \n",
       "17079  United States of America           US         NaN          No   \n",
       "17959  United States of America           US  02-29-2016          No   \n",
       "19916  United States of America           US         NaN          No   \n",
       "20137  United States of America           US         NaN          No   \n",
       "\n",
       "              job_board                                    job_description  \\\n",
       "178    jobs.monster.com      Springer Nature Is A Major New Force In Sc...   \n",
       "2005   jobs.monster.com  Summer Intern Ramjob Function: Salesprimary Lo...   \n",
       "2422   jobs.monster.com  Position Summary The Hr Co-Op Will Be A Part O...   \n",
       "11347  jobs.monster.com    Essential Functions: Monitors The It Suppor...   \n",
       "17079  jobs.monster.com  Our Mission:  “At Bbrg, We Strive To Be The Be...   \n",
       "17959  jobs.monster.com  Lehigh Hanson Is Seeking An Intern – Informati...   \n",
       "19916  jobs.monster.com  Overview: Aesculap, Inc., A B. Braun Company, ...   \n",
       "20137  jobs.monster.com  Brand Ambassador Internship As A Brand Ambassa...   \n",
       "\n",
       "                          job_title           job_type             location  \\\n",
       "178            Editorial Internship   Full Time Intern   New York, NY 10013   \n",
       "2005   Summer Marketing Internship    Part Time Intern         Columbus, OH   \n",
       "2422           Hr Internship/Co-Op    Full Time Intern     Algona, WA 98001   \n",
       "11347   Information Systems Intern   Part Time, Intern         Columbus, OH   \n",
       "17079     Digital Marketing Intern    Part Time Intern   Columbus, OH 43085   \n",
       "17959       Front Office It Intern    Full Time Intern     Irving, TX 75062   \n",
       "19916         Marketing Internship    Full Time Intern    Center Valley, PA   \n",
       "20137  Brand Ambassador Internship    Full Time Intern  Wauwatosa, WI 53222   \n",
       "\n",
       "                                            organization  \\\n",
       "178                              Printing and Publishing   \n",
       "2005                                                 NaN   \n",
       "2422                               Aerospace and Defense   \n",
       "11347                               Energy and Utilities   \n",
       "17079                           Restaurant/Food Services   \n",
       "17959  Metals and MineralsConstruction - Industrial F...   \n",
       "19916                       Medical Devices and Supplies   \n",
       "20137                        Advertising and PR Services   \n",
       "\n",
       "                                                page_url  \\\n",
       "178    http://jobview.monster.com/Editorial-Internshi...   \n",
       "2005   http://jobview.monster.com/summer-marketing-in...   \n",
       "2422   http://jobview.monster.com/hr-internship-co-op...   \n",
       "11347  http://jobview.monster.com/information-systems...   \n",
       "17079  http://jobview.monster.com/Digital-Marketing-I...   \n",
       "17959  http://jobview.monster.com/Front-Office-IT-Int...   \n",
       "19916  http://jobview.monster.com/Marketing-Internshi...   \n",
       "20137  http://jobview.monster.com/brand-ambassador-in...   \n",
       "\n",
       "                     salary                   sector  \\\n",
       "178                     NaN        Editorial/Writing   \n",
       "2005   0.00 - 15.00 $ /hour        Marketing/Product   \n",
       "2422                    NaN          Human Resources   \n",
       "11347                   NaN  IT/Software Development   \n",
       "17079                   NaN              Entry Level   \n",
       "17959                   NaN  IT/Software Development   \n",
       "19916                   NaN           Medical/Health   \n",
       "20137                   NaN        Marketing/Product   \n",
       "\n",
       "                                uniq_id  IsEmployee  IsIntern  JobTerm  \n",
       "178    0405aaa87456bb11407f780bd5688132       False      True  Unknown  \n",
       "2005   c83fe0d1f4cf4fa947910e7bd3de3563       False      True  Unknown  \n",
       "2422   d99d552308bec9a14c50e8b1e9777941       False      True  Unknown  \n",
       "11347  ad9799eee47b0d7a95d806216860c8a5       False      True  Unknown  \n",
       "17079  25eb1c21490394f643a041500ddbd754       False      True  Unknown  \n",
       "17959  de1ab6c78ef1b828239b79200d308801       False      True  Unknown  \n",
       "19916  8418b7d1135191bc41bd50db104f4697       False      True  Unknown  \n",
       "20137  889d830fcba9c1392090c2cf79b821cd       False      True  Unknown  "
      ]
     },
     "execution_count": 232,
     "metadata": {},
     "output_type": "execute_result"
    }
   ],
   "source": [
    "df[df['job_type'].str.contains(\"Intern\",na=False)]"
   ]
  },
  {
   "cell_type": "code",
   "execution_count": 233,
   "id": "956e84c7",
   "metadata": {},
   "outputs": [],
   "source": [
    "df['job_type'] = df[\"job_type\"].str.replace(r'((?i)Employee|(?i)Intern|(?i)Temporary/Contract/Project|(?i)Seasonal)','',regex=True)"
   ]
  },
  {
   "cell_type": "markdown",
   "id": "5c75229a",
   "metadata": {},
   "source": [
    "#### [5] Changing Value called 'Per Diem'(Latin Word) In job_type column to 'As Required' (English Transaltion)\n",
    "'Per Diem' Is A Latin Word Which Means “as needed” and does not guarantee hours, usually working less than full time but not necesarry to be part time"
   ]
  },
  {
   "cell_type": "code",
   "execution_count": 234,
   "id": "338f1fe8",
   "metadata": {},
   "outputs": [
    {
     "data": {
      "text/html": [
       "<div>\n",
       "<style scoped>\n",
       "    .dataframe tbody tr th:only-of-type {\n",
       "        vertical-align: middle;\n",
       "    }\n",
       "\n",
       "    .dataframe tbody tr th {\n",
       "        vertical-align: top;\n",
       "    }\n",
       "\n",
       "    .dataframe thead th {\n",
       "        text-align: right;\n",
       "    }\n",
       "</style>\n",
       "<table border=\"1\" class=\"dataframe\">\n",
       "  <thead>\n",
       "    <tr style=\"text-align: right;\">\n",
       "      <th></th>\n",
       "      <th>country</th>\n",
       "      <th>country_code</th>\n",
       "      <th>date_added</th>\n",
       "      <th>has_expired</th>\n",
       "      <th>job_board</th>\n",
       "      <th>job_description</th>\n",
       "      <th>job_title</th>\n",
       "      <th>job_type</th>\n",
       "      <th>location</th>\n",
       "      <th>organization</th>\n",
       "      <th>page_url</th>\n",
       "      <th>salary</th>\n",
       "      <th>sector</th>\n",
       "      <th>uniq_id</th>\n",
       "      <th>IsEmployee</th>\n",
       "      <th>IsIntern</th>\n",
       "      <th>JobTerm</th>\n",
       "    </tr>\n",
       "  </thead>\n",
       "  <tbody>\n",
       "    <tr>\n",
       "      <th>364</th>\n",
       "      <td>United States of America</td>\n",
       "      <td>US</td>\n",
       "      <td>NaN</td>\n",
       "      <td>No</td>\n",
       "      <td>jobs.monster.com</td>\n",
       "      <td>Provides Respiratory Therapy Modalities Per Pr...</td>\n",
       "      <td>P/D Advanced Respiratory Care Practitioner</td>\n",
       "      <td>Per Diem,</td>\n",
       "      <td>Las Vegas, NV</td>\n",
       "      <td>Healthcare Services</td>\n",
       "      <td>http://jobview.monster.com/p-d-advanced-respir...</td>\n",
       "      <td>NaN</td>\n",
       "      <td>Medical/Health</td>\n",
       "      <td>2e39a794c0a3ac1f15dc7072d3cb5521</td>\n",
       "      <td>True</td>\n",
       "      <td>False</td>\n",
       "      <td>Unknown</td>\n",
       "    </tr>\n",
       "    <tr>\n",
       "      <th>610</th>\n",
       "      <td>United States of America</td>\n",
       "      <td>US</td>\n",
       "      <td>NaN</td>\n",
       "      <td>No</td>\n",
       "      <td>jobs.monster.com</td>\n",
       "      <td>Management Reserves The Right To Change The Es...</td>\n",
       "      <td>Security Officer (Oc)</td>\n",
       "      <td>Per Diem</td>\n",
       "      <td>Rochester, WA 98579</td>\n",
       "      <td>Security and Surveillance</td>\n",
       "      <td>http://jobview.monster.com/security-officer-oc...</td>\n",
       "      <td>NaN</td>\n",
       "      <td>Security/Protective Services</td>\n",
       "      <td>eec383a41686cdc5dddb60a598065231</td>\n",
       "      <td>False</td>\n",
       "      <td>False</td>\n",
       "      <td>Unknown</td>\n",
       "    </tr>\n",
       "  </tbody>\n",
       "</table>\n",
       "</div>"
      ],
      "text/plain": [
       "                      country country_code date_added has_expired  \\\n",
       "364  United States of America           US        NaN          No   \n",
       "610  United States of America           US        NaN          No   \n",
       "\n",
       "            job_board                                    job_description  \\\n",
       "364  jobs.monster.com  Provides Respiratory Therapy Modalities Per Pr...   \n",
       "610  jobs.monster.com  Management Reserves The Right To Change The Es...   \n",
       "\n",
       "                                       job_title    job_type  \\\n",
       "364  P/D Advanced Respiratory Care Practitioner   Per Diem,    \n",
       "610                       Security Officer (Oc)     Per Diem   \n",
       "\n",
       "                location               organization  \\\n",
       "364        Las Vegas, NV        Healthcare Services   \n",
       "610  Rochester, WA 98579  Security and Surveillance   \n",
       "\n",
       "                                              page_url salary  \\\n",
       "364  http://jobview.monster.com/p-d-advanced-respir...    NaN   \n",
       "610  http://jobview.monster.com/security-officer-oc...    NaN   \n",
       "\n",
       "                           sector                           uniq_id  \\\n",
       "364                Medical/Health  2e39a794c0a3ac1f15dc7072d3cb5521   \n",
       "610  Security/Protective Services  eec383a41686cdc5dddb60a598065231   \n",
       "\n",
       "     IsEmployee  IsIntern  JobTerm  \n",
       "364        True     False  Unknown  \n",
       "610       False     False  Unknown  "
      ]
     },
     "execution_count": 234,
     "metadata": {},
     "output_type": "execute_result"
    }
   ],
   "source": [
    "df[df['job_type'].str.contains(\"Per Diem\",na=False)].head(2)"
   ]
  },
  {
   "cell_type": "code",
   "execution_count": 235,
   "id": "5e578f4a",
   "metadata": {},
   "outputs": [],
   "source": [
    "df['job_type'] = df[\"job_type\"].str.replace(\"Per Diem\",\"As Required\") "
   ]
  },
  {
   "cell_type": "code",
   "execution_count": 236,
   "id": "9df7e5f0",
   "metadata": {},
   "outputs": [
    {
     "data": {
      "text/html": [
       "<div>\n",
       "<style scoped>\n",
       "    .dataframe tbody tr th:only-of-type {\n",
       "        vertical-align: middle;\n",
       "    }\n",
       "\n",
       "    .dataframe tbody tr th {\n",
       "        vertical-align: top;\n",
       "    }\n",
       "\n",
       "    .dataframe thead th {\n",
       "        text-align: right;\n",
       "    }\n",
       "</style>\n",
       "<table border=\"1\" class=\"dataframe\">\n",
       "  <thead>\n",
       "    <tr style=\"text-align: right;\">\n",
       "      <th></th>\n",
       "      <th>country</th>\n",
       "      <th>country_code</th>\n",
       "      <th>date_added</th>\n",
       "      <th>has_expired</th>\n",
       "      <th>job_board</th>\n",
       "      <th>job_description</th>\n",
       "      <th>job_title</th>\n",
       "      <th>job_type</th>\n",
       "      <th>location</th>\n",
       "      <th>organization</th>\n",
       "      <th>page_url</th>\n",
       "      <th>salary</th>\n",
       "      <th>sector</th>\n",
       "      <th>uniq_id</th>\n",
       "      <th>IsEmployee</th>\n",
       "      <th>IsIntern</th>\n",
       "      <th>JobTerm</th>\n",
       "    </tr>\n",
       "  </thead>\n",
       "  <tbody>\n",
       "    <tr>\n",
       "      <th>364</th>\n",
       "      <td>United States of America</td>\n",
       "      <td>US</td>\n",
       "      <td>NaN</td>\n",
       "      <td>No</td>\n",
       "      <td>jobs.monster.com</td>\n",
       "      <td>Provides Respiratory Therapy Modalities Per Pr...</td>\n",
       "      <td>P/D Advanced Respiratory Care Practitioner</td>\n",
       "      <td>As Required,</td>\n",
       "      <td>Las Vegas, NV</td>\n",
       "      <td>Healthcare Services</td>\n",
       "      <td>http://jobview.monster.com/p-d-advanced-respir...</td>\n",
       "      <td>NaN</td>\n",
       "      <td>Medical/Health</td>\n",
       "      <td>2e39a794c0a3ac1f15dc7072d3cb5521</td>\n",
       "      <td>True</td>\n",
       "      <td>False</td>\n",
       "      <td>Unknown</td>\n",
       "    </tr>\n",
       "    <tr>\n",
       "      <th>610</th>\n",
       "      <td>United States of America</td>\n",
       "      <td>US</td>\n",
       "      <td>NaN</td>\n",
       "      <td>No</td>\n",
       "      <td>jobs.monster.com</td>\n",
       "      <td>Management Reserves The Right To Change The Es...</td>\n",
       "      <td>Security Officer (Oc)</td>\n",
       "      <td>As Required</td>\n",
       "      <td>Rochester, WA 98579</td>\n",
       "      <td>Security and Surveillance</td>\n",
       "      <td>http://jobview.monster.com/security-officer-oc...</td>\n",
       "      <td>NaN</td>\n",
       "      <td>Security/Protective Services</td>\n",
       "      <td>eec383a41686cdc5dddb60a598065231</td>\n",
       "      <td>False</td>\n",
       "      <td>False</td>\n",
       "      <td>Unknown</td>\n",
       "    </tr>\n",
       "  </tbody>\n",
       "</table>\n",
       "</div>"
      ],
      "text/plain": [
       "                      country country_code date_added has_expired  \\\n",
       "364  United States of America           US        NaN          No   \n",
       "610  United States of America           US        NaN          No   \n",
       "\n",
       "            job_board                                    job_description  \\\n",
       "364  jobs.monster.com  Provides Respiratory Therapy Modalities Per Pr...   \n",
       "610  jobs.monster.com  Management Reserves The Right To Change The Es...   \n",
       "\n",
       "                                       job_title       job_type  \\\n",
       "364  P/D Advanced Respiratory Care Practitioner   As Required,    \n",
       "610                       Security Officer (Oc)     As Required   \n",
       "\n",
       "                location               organization  \\\n",
       "364        Las Vegas, NV        Healthcare Services   \n",
       "610  Rochester, WA 98579  Security and Surveillance   \n",
       "\n",
       "                                              page_url salary  \\\n",
       "364  http://jobview.monster.com/p-d-advanced-respir...    NaN   \n",
       "610  http://jobview.monster.com/security-officer-oc...    NaN   \n",
       "\n",
       "                           sector                           uniq_id  \\\n",
       "364                Medical/Health  2e39a794c0a3ac1f15dc7072d3cb5521   \n",
       "610  Security/Protective Services  eec383a41686cdc5dddb60a598065231   \n",
       "\n",
       "     IsEmployee  IsIntern  JobTerm  \n",
       "364        True     False  Unknown  \n",
       "610       False     False  Unknown  "
      ]
     },
     "execution_count": 236,
     "metadata": {},
     "output_type": "execute_result"
    }
   ],
   "source": [
    "df[df['job_type'].str.contains(\"As Required\",na=False)].head(2)"
   ]
  },
  {
   "cell_type": "markdown",
   "id": "87413cbb",
   "metadata": {},
   "source": [
    "#### [6] Some Miscellaneous Changes In job_type"
   ]
  },
  {
   "cell_type": "code",
   "execution_count": 237,
   "id": "464e4e14",
   "metadata": {},
   "outputs": [
    {
     "data": {
      "text/plain": [
       "array(['Full Time ', 'Full Time', 'Full Time, ', 'Part Time ', nan,\n",
       "       'Full Time , ', '', 'Part Time', 'Part Time, ', 'Full Time / ',\n",
       "       'Full Time/ ', 'As Required, ', 'Job Type Full Time ',\n",
       "       'As Required', 'Full Time\\xa0', 'As Required ', 'Part Time/ ',\n",
       "       'Exempt', 'Part Time , ', 'Full Time\\xa0 ', 'Job Type ',\n",
       "       'Full Time / > ', 'Part Time\\xa0', 'Job Type Full Time',\n",
       "       'Part Time / ', 'Job Type Part Time '], dtype=object)"
      ]
     },
     "execution_count": 237,
     "metadata": {},
     "output_type": "execute_result"
    }
   ],
   "source": [
    "df.job_type.unique()"
   ]
  },
  {
   "cell_type": "code",
   "execution_count": 238,
   "id": "af464333",
   "metadata": {},
   "outputs": [],
   "source": [
    "df['job_title'] = df[\"job_title\"].str.replace(r'Part Time , |Part Time \\/ |Part Time\\\\xa0|Part Time\\/ |Part Time, |Job Type Part Time |Part Time ',\"Part Time\",regex=True)"
   ]
  },
  {
   "cell_type": "code",
   "execution_count": 239,
   "id": "e5038987",
   "metadata": {},
   "outputs": [],
   "source": [
    "df['job_title'] = df[\"job_title\"].str.replace(r'Full Time,|Full Time , |Full Time, |Full Time \\/ |Full Time\\/ |Job Type Full Time |Full Time\\\\xa0|Job Type Full Time|Full Time ',\"Full Time\",regex=True)"
   ]
  },
  {
   "cell_type": "code",
   "execution_count": 240,
   "id": "5a96f93d",
   "metadata": {},
   "outputs": [
    {
     "data": {
      "text/plain": [
       "array([False,  True])"
      ]
     },
     "execution_count": 240,
     "metadata": {},
     "output_type": "execute_result"
    }
   ],
   "source": [
    "df.IsIntern.unique()"
   ]
  },
  {
   "cell_type": "code",
   "execution_count": 241,
   "id": "8c129c14",
   "metadata": {},
   "outputs": [
    {
     "data": {
      "text/plain": [
       "array([ True, False])"
      ]
     },
     "execution_count": 241,
     "metadata": {},
     "output_type": "execute_result"
    }
   ],
   "source": [
    "df.IsEmployee.unique()"
   ]
  },
  {
   "cell_type": "code",
   "execution_count": 242,
   "id": "8e5ef47e",
   "metadata": {},
   "outputs": [
    {
     "data": {
      "text/plain": [
       "array(['Unknown', 'Contract_based'], dtype=object)"
      ]
     },
     "execution_count": 242,
     "metadata": {},
     "output_type": "execute_result"
    }
   ],
   "source": [
    "df.JobTerm.unique()"
   ]
  },
  {
   "cell_type": "markdown",
   "id": "c45747a2",
   "metadata": {},
   "source": [
    "## Cleaning Location Column"
   ]
  },
  {
   "cell_type": "code",
   "execution_count": 243,
   "id": "edf32c3b",
   "metadata": {},
   "outputs": [
    {
     "data": {
      "text/plain": [
       "0                                        Madison, WI 53702\n",
       "1                                        Madison, WI 53708\n",
       "2        DePuy Synthes Companies is a member of Johnson...\n",
       "3                                                Dixon, CA\n",
       "4                                             Camphill, PA\n",
       "                               ...                        \n",
       "21995                                       Cincinnati, OH\n",
       "21996                                 Cincinnati, OH 45236\n",
       "21997                                    Chicago, IL 60602\n",
       "21998                                    Chicago, IL 60609\n",
       "21999                                       Cincinnati, OH\n",
       "Name: location, Length: 22000, dtype: object"
      ]
     },
     "execution_count": 243,
     "metadata": {},
     "output_type": "execute_result"
    }
   ],
   "source": [
    "df.location"
   ]
  },
  {
   "cell_type": "code",
   "execution_count": 244,
   "id": "e5a75093",
   "metadata": {},
   "outputs": [],
   "source": [
    "# city, abbrevated state name , Pincode\n",
    "# few location should be swaped from organization"
   ]
  },
  {
   "cell_type": "code",
   "execution_count": 245,
   "id": "1a02dba5",
   "metadata": {},
   "outputs": [
    {
     "data": {
      "text/html": [
       "<div>\n",
       "<style scoped>\n",
       "    .dataframe tbody tr th:only-of-type {\n",
       "        vertical-align: middle;\n",
       "    }\n",
       "\n",
       "    .dataframe tbody tr th {\n",
       "        vertical-align: top;\n",
       "    }\n",
       "\n",
       "    .dataframe thead th {\n",
       "        text-align: right;\n",
       "    }\n",
       "</style>\n",
       "<table border=\"1\" class=\"dataframe\">\n",
       "  <thead>\n",
       "    <tr style=\"text-align: right;\">\n",
       "      <th></th>\n",
       "      <th>0</th>\n",
       "      <th>1</th>\n",
       "    </tr>\n",
       "  </thead>\n",
       "  <tbody>\n",
       "    <tr>\n",
       "      <th>0</th>\n",
       "      <td>Madison, WI 53702</td>\n",
       "      <td>None</td>\n",
       "    </tr>\n",
       "    <tr>\n",
       "      <th>1</th>\n",
       "      <td>Madison, WI 53708</td>\n",
       "      <td>None</td>\n",
       "    </tr>\n",
       "    <tr>\n",
       "      <th>2</th>\n",
       "      <td>DePuy Synthes Companies is a member of Johnson...</td>\n",
       "      <td>United States-Massachusetts-RaynhamOrganizatio...</td>\n",
       "    </tr>\n",
       "    <tr>\n",
       "      <th>3</th>\n",
       "      <td>Dixon, CA</td>\n",
       "      <td>None</td>\n",
       "    </tr>\n",
       "    <tr>\n",
       "      <th>4</th>\n",
       "      <td>Camphill, PA</td>\n",
       "      <td>None</td>\n",
       "    </tr>\n",
       "    <tr>\n",
       "      <th>...</th>\n",
       "      <td>...</td>\n",
       "      <td>...</td>\n",
       "    </tr>\n",
       "    <tr>\n",
       "      <th>21995</th>\n",
       "      <td>Cincinnati, OH</td>\n",
       "      <td>None</td>\n",
       "    </tr>\n",
       "    <tr>\n",
       "      <th>21996</th>\n",
       "      <td>Cincinnati, OH 45236</td>\n",
       "      <td>None</td>\n",
       "    </tr>\n",
       "    <tr>\n",
       "      <th>21997</th>\n",
       "      <td>Chicago, IL 60602</td>\n",
       "      <td>None</td>\n",
       "    </tr>\n",
       "    <tr>\n",
       "      <th>21998</th>\n",
       "      <td>Chicago, IL 60609</td>\n",
       "      <td>None</td>\n",
       "    </tr>\n",
       "    <tr>\n",
       "      <th>21999</th>\n",
       "      <td>Cincinnati, OH</td>\n",
       "      <td>None</td>\n",
       "    </tr>\n",
       "  </tbody>\n",
       "</table>\n",
       "<p>22000 rows × 2 columns</p>\n",
       "</div>"
      ],
      "text/plain": [
       "                                                       0  \\\n",
       "0                                      Madison, WI 53702   \n",
       "1                                      Madison, WI 53708   \n",
       "2      DePuy Synthes Companies is a member of Johnson...   \n",
       "3                                              Dixon, CA   \n",
       "4                                           Camphill, PA   \n",
       "...                                                  ...   \n",
       "21995                                     Cincinnati, OH   \n",
       "21996                               Cincinnati, OH 45236   \n",
       "21997                                  Chicago, IL 60602   \n",
       "21998                                  Chicago, IL 60609   \n",
       "21999                                     Cincinnati, OH   \n",
       "\n",
       "                                                       1  \n",
       "0                                                   None  \n",
       "1                                                   None  \n",
       "2      United States-Massachusetts-RaynhamOrganizatio...  \n",
       "3                                                   None  \n",
       "4                                                   None  \n",
       "...                                                  ...  \n",
       "21995                                               None  \n",
       "21996                                               None  \n",
       "21997                                               None  \n",
       "21998                                               None  \n",
       "21999                                               None  \n",
       "\n",
       "[22000 rows x 2 columns]"
      ]
     },
     "execution_count": 245,
     "metadata": {},
     "output_type": "execute_result"
    }
   ],
   "source": [
    "df['location'].str.split(\"Location\",n=1,expand = True)"
   ]
  },
  {
   "cell_type": "code",
   "execution_count": 246,
   "id": "5cd67d2e",
   "metadata": {},
   "outputs": [],
   "source": [
    "df[['location','Location_dummy']] = df['location'].str.split(\"Location\",n=1,expand = True)"
   ]
  },
  {
   "cell_type": "code",
   "execution_count": 247,
   "id": "1e59a7f8",
   "metadata": {},
   "outputs": [],
   "source": [
    "df['location'] = df['location'].mask(df['Location_dummy'].notnull(),df['Location_dummy'],axis = 0)"
   ]
  },
  {
   "cell_type": "code",
   "execution_count": 248,
   "id": "70c9e69d",
   "metadata": {},
   "outputs": [
    {
     "data": {
      "text/html": [
       "<div>\n",
       "<style scoped>\n",
       "    .dataframe tbody tr th:only-of-type {\n",
       "        vertical-align: middle;\n",
       "    }\n",
       "\n",
       "    .dataframe tbody tr th {\n",
       "        vertical-align: top;\n",
       "    }\n",
       "\n",
       "    .dataframe thead th {\n",
       "        text-align: right;\n",
       "    }\n",
       "</style>\n",
       "<table border=\"1\" class=\"dataframe\">\n",
       "  <thead>\n",
       "    <tr style=\"text-align: right;\">\n",
       "      <th></th>\n",
       "      <th>location</th>\n",
       "      <th>Location_dummy</th>\n",
       "    </tr>\n",
       "  </thead>\n",
       "  <tbody>\n",
       "    <tr>\n",
       "      <th>0</th>\n",
       "      <td>Madison, WI 53702</td>\n",
       "      <td>None</td>\n",
       "    </tr>\n",
       "    <tr>\n",
       "      <th>1</th>\n",
       "      <td>Madison, WI 53708</td>\n",
       "      <td>None</td>\n",
       "    </tr>\n",
       "    <tr>\n",
       "      <th>2</th>\n",
       "      <td>United States-Massachusetts-RaynhamOrganizatio...</td>\n",
       "      <td>United States-Massachusetts-RaynhamOrganizatio...</td>\n",
       "    </tr>\n",
       "    <tr>\n",
       "      <th>3</th>\n",
       "      <td>Dixon, CA</td>\n",
       "      <td>None</td>\n",
       "    </tr>\n",
       "    <tr>\n",
       "      <th>4</th>\n",
       "      <td>Camphill, PA</td>\n",
       "      <td>None</td>\n",
       "    </tr>\n",
       "    <tr>\n",
       "      <th>5</th>\n",
       "      <td>Charlottesville, VA</td>\n",
       "      <td>None</td>\n",
       "    </tr>\n",
       "    <tr>\n",
       "      <th>6</th>\n",
       "      <td>Contact name Tony Zerio</td>\n",
       "      <td>None</td>\n",
       "    </tr>\n",
       "    <tr>\n",
       "      <th>7</th>\n",
       "      <td>Austin, TX 73301</td>\n",
       "      <td>None</td>\n",
       "    </tr>\n",
       "    <tr>\n",
       "      <th>8</th>\n",
       "      <td>Austin, TX 78746</td>\n",
       "      <td>None</td>\n",
       "    </tr>\n",
       "    <tr>\n",
       "      <th>9</th>\n",
       "      <td>Chesterfield, MO</td>\n",
       "      <td>None</td>\n",
       "    </tr>\n",
       "  </tbody>\n",
       "</table>\n",
       "</div>"
      ],
      "text/plain": [
       "                                            location  \\\n",
       "0                                  Madison, WI 53702   \n",
       "1                                  Madison, WI 53708   \n",
       "2  United States-Massachusetts-RaynhamOrganizatio...   \n",
       "3                                          Dixon, CA   \n",
       "4                                       Camphill, PA   \n",
       "5                                Charlottesville, VA   \n",
       "6                            Contact name Tony Zerio   \n",
       "7                                   Austin, TX 73301   \n",
       "8                                   Austin, TX 78746   \n",
       "9                                   Chesterfield, MO   \n",
       "\n",
       "                                      Location_dummy  \n",
       "0                                               None  \n",
       "1                                               None  \n",
       "2  United States-Massachusetts-RaynhamOrganizatio...  \n",
       "3                                               None  \n",
       "4                                               None  \n",
       "5                                               None  \n",
       "6                                               None  \n",
       "7                                               None  \n",
       "8                                               None  \n",
       "9                                               None  "
      ]
     },
     "execution_count": 248,
     "metadata": {},
     "output_type": "execute_result"
    }
   ],
   "source": [
    "df[['location','Location_dummy']].head(10)"
   ]
  },
  {
   "cell_type": "code",
   "execution_count": 249,
   "id": "e52cd3f1",
   "metadata": {},
   "outputs": [],
   "source": [
    "df.drop(\"Location_dummy\",axis=1,inplace = True)"
   ]
  },
  {
   "cell_type": "code",
   "execution_count": 250,
   "id": "a11df132",
   "metadata": {},
   "outputs": [
    {
     "data": {
      "text/plain": [
       "0                                        Madison, WI 53702\n",
       "1                                        Madison, WI 53708\n",
       "2        United States-Massachusetts-RaynhamOrganizatio...\n",
       "3                                                Dixon, CA\n",
       "4                                             Camphill, PA\n",
       "                               ...                        \n",
       "21995                                       Cincinnati, OH\n",
       "21996                                 Cincinnati, OH 45236\n",
       "21997                                    Chicago, IL 60602\n",
       "21998                                    Chicago, IL 60609\n",
       "21999                                       Cincinnati, OH\n",
       "Name: location, Length: 22000, dtype: object"
      ]
     },
     "execution_count": 250,
     "metadata": {},
     "output_type": "execute_result"
    }
   ],
   "source": [
    "df.location"
   ]
  },
  {
   "cell_type": "code",
   "execution_count": 251,
   "id": "7407e320",
   "metadata": {},
   "outputs": [],
   "source": [
    "# When organization value is location store index value of it\n",
    "idx = df.organization.isin(list(df.location))"
   ]
  },
  {
   "cell_type": "code",
   "execution_count": 252,
   "id": "61752af3",
   "metadata": {},
   "outputs": [
    {
     "data": {
      "text/html": [
       "<div>\n",
       "<style scoped>\n",
       "    .dataframe tbody tr th:only-of-type {\n",
       "        vertical-align: middle;\n",
       "    }\n",
       "\n",
       "    .dataframe tbody tr th {\n",
       "        vertical-align: top;\n",
       "    }\n",
       "\n",
       "    .dataframe thead th {\n",
       "        text-align: right;\n",
       "    }\n",
       "</style>\n",
       "<table border=\"1\" class=\"dataframe\">\n",
       "  <thead>\n",
       "    <tr style=\"text-align: right;\">\n",
       "      <th></th>\n",
       "      <th>location</th>\n",
       "      <th>organization</th>\n",
       "    </tr>\n",
       "  </thead>\n",
       "  <tbody>\n",
       "    <tr>\n",
       "      <th>29</th>\n",
       "      <td>Chicago, IL</td>\n",
       "      <td>Sr. Process Engineer, Manufacturing</td>\n",
       "    </tr>\n",
       "    <tr>\n",
       "      <th>36</th>\n",
       "      <td>Oklahoma City, OK</td>\n",
       "      <td>RF System Technician, Field Service</td>\n",
       "    </tr>\n",
       "    <tr>\n",
       "      <th>38</th>\n",
       "      <td>San Francisco, CA</td>\n",
       "      <td>Bi-Lingual Editorial Strategist</td>\n",
       "    </tr>\n",
       "    <tr>\n",
       "      <th>73</th>\n",
       "      <td>Durham, NC</td>\n",
       "      <td>Quality Engineer</td>\n",
       "    </tr>\n",
       "    <tr>\n",
       "      <th>152</th>\n",
       "      <td>Houston, TX</td>\n",
       "      <td>Business Analyst</td>\n",
       "    </tr>\n",
       "    <tr>\n",
       "      <th>...</th>\n",
       "      <td>...</td>\n",
       "      <td>...</td>\n",
       "    </tr>\n",
       "    <tr>\n",
       "      <th>21401</th>\n",
       "      <td>Cincinnati, OH</td>\n",
       "      <td>Performance Engineer</td>\n",
       "    </tr>\n",
       "    <tr>\n",
       "      <th>21456</th>\n",
       "      <td>Cincinnati, OH</td>\n",
       "      <td>Supply Chain Business Analyst</td>\n",
       "    </tr>\n",
       "    <tr>\n",
       "      <th>21507</th>\n",
       "      <td>Cincinnati, OH</td>\n",
       "      <td>Project Coordinator</td>\n",
       "    </tr>\n",
       "    <tr>\n",
       "      <th>21629</th>\n",
       "      <td>Cincinnati, OH</td>\n",
       "      <td>Help Desk / Desktop Support Technician</td>\n",
       "    </tr>\n",
       "    <tr>\n",
       "      <th>21829</th>\n",
       "      <td>Cincinnati, OH 45246</td>\n",
       "      <td>Director, Enterprise IT Infrastructure</td>\n",
       "    </tr>\n",
       "  </tbody>\n",
       "</table>\n",
       "<p>227 rows × 2 columns</p>\n",
       "</div>"
      ],
      "text/plain": [
       "                   location                            organization\n",
       "29              Chicago, IL     Sr. Process Engineer, Manufacturing\n",
       "36        Oklahoma City, OK     RF System Technician, Field Service\n",
       "38        San Francisco, CA         Bi-Lingual Editorial Strategist\n",
       "73               Durham, NC                        Quality Engineer\n",
       "152             Houston, TX                        Business Analyst\n",
       "...                     ...                                     ...\n",
       "21401        Cincinnati, OH                    Performance Engineer\n",
       "21456        Cincinnati, OH           Supply Chain Business Analyst\n",
       "21507        Cincinnati, OH                     Project Coordinator\n",
       "21629        Cincinnati, OH  Help Desk / Desktop Support Technician\n",
       "21829  Cincinnati, OH 45246  Director, Enterprise IT Infrastructure\n",
       "\n",
       "[227 rows x 2 columns]"
      ]
     },
     "execution_count": 252,
     "metadata": {},
     "output_type": "execute_result"
    }
   ],
   "source": [
    "# swap values between organization and location for index vales stored in idx\n",
    "df.loc[idx,['location','organization']] = df.loc[idx,['organization','location']].values\n",
    "df.loc[idx,['location','organization']]"
   ]
  },
  {
   "cell_type": "code",
   "execution_count": 253,
   "id": "c604d324",
   "metadata": {},
   "outputs": [
    {
     "data": {
      "text/html": [
       "<div>\n",
       "<style scoped>\n",
       "    .dataframe tbody tr th:only-of-type {\n",
       "        vertical-align: middle;\n",
       "    }\n",
       "\n",
       "    .dataframe tbody tr th {\n",
       "        vertical-align: top;\n",
       "    }\n",
       "\n",
       "    .dataframe thead th {\n",
       "        text-align: right;\n",
       "    }\n",
       "</style>\n",
       "<table border=\"1\" class=\"dataframe\">\n",
       "  <thead>\n",
       "    <tr style=\"text-align: right;\">\n",
       "      <th></th>\n",
       "      <th>0</th>\n",
       "      <th>1</th>\n",
       "    </tr>\n",
       "  </thead>\n",
       "  <tbody>\n",
       "    <tr>\n",
       "      <th>0</th>\n",
       "      <td>Madison</td>\n",
       "      <td>WI 53702</td>\n",
       "    </tr>\n",
       "    <tr>\n",
       "      <th>1</th>\n",
       "      <td>Madison</td>\n",
       "      <td>WI 53708</td>\n",
       "    </tr>\n",
       "    <tr>\n",
       "      <th>2</th>\n",
       "      <td>United States-Massachusetts-RaynhamOrganizatio...</td>\n",
       "      <td>None</td>\n",
       "    </tr>\n",
       "    <tr>\n",
       "      <th>3</th>\n",
       "      <td>Dixon</td>\n",
       "      <td>CA</td>\n",
       "    </tr>\n",
       "    <tr>\n",
       "      <th>4</th>\n",
       "      <td>Camphill</td>\n",
       "      <td>PA</td>\n",
       "    </tr>\n",
       "    <tr>\n",
       "      <th>...</th>\n",
       "      <td>...</td>\n",
       "      <td>...</td>\n",
       "    </tr>\n",
       "    <tr>\n",
       "      <th>21995</th>\n",
       "      <td>Cincinnati</td>\n",
       "      <td>OH</td>\n",
       "    </tr>\n",
       "    <tr>\n",
       "      <th>21996</th>\n",
       "      <td>Cincinnati</td>\n",
       "      <td>OH 45236</td>\n",
       "    </tr>\n",
       "    <tr>\n",
       "      <th>21997</th>\n",
       "      <td>Chicago</td>\n",
       "      <td>IL 60602</td>\n",
       "    </tr>\n",
       "    <tr>\n",
       "      <th>21998</th>\n",
       "      <td>Chicago</td>\n",
       "      <td>IL 60609</td>\n",
       "    </tr>\n",
       "    <tr>\n",
       "      <th>21999</th>\n",
       "      <td>Cincinnati</td>\n",
       "      <td>OH</td>\n",
       "    </tr>\n",
       "  </tbody>\n",
       "</table>\n",
       "<p>22000 rows × 2 columns</p>\n",
       "</div>"
      ],
      "text/plain": [
       "                                                       0          1\n",
       "0                                                Madison   WI 53702\n",
       "1                                                Madison   WI 53708\n",
       "2      United States-Massachusetts-RaynhamOrganizatio...       None\n",
       "3                                                  Dixon         CA\n",
       "4                                               Camphill         PA\n",
       "...                                                  ...        ...\n",
       "21995                                         Cincinnati         OH\n",
       "21996                                         Cincinnati   OH 45236\n",
       "21997                                            Chicago   IL 60602\n",
       "21998                                            Chicago   IL 60609\n",
       "21999                                         Cincinnati         OH\n",
       "\n",
       "[22000 rows x 2 columns]"
      ]
     },
     "execution_count": 253,
     "metadata": {},
     "output_type": "execute_result"
    }
   ],
   "source": [
    "df['location'].str.split(\",\",n=1,expand = True)"
   ]
  },
  {
   "cell_type": "code",
   "execution_count": 254,
   "id": "0b9dd203",
   "metadata": {},
   "outputs": [],
   "source": [
    "df[['city','location']] = df['location'].str.split(\",\",n=1,expand = True)"
   ]
  },
  {
   "cell_type": "code",
   "execution_count": 255,
   "id": "1bb319f4",
   "metadata": {},
   "outputs": [
    {
     "data": {
      "text/html": [
       "<div>\n",
       "<style scoped>\n",
       "    .dataframe tbody tr th:only-of-type {\n",
       "        vertical-align: middle;\n",
       "    }\n",
       "\n",
       "    .dataframe tbody tr th {\n",
       "        vertical-align: top;\n",
       "    }\n",
       "\n",
       "    .dataframe thead th {\n",
       "        text-align: right;\n",
       "    }\n",
       "</style>\n",
       "<table border=\"1\" class=\"dataframe\">\n",
       "  <thead>\n",
       "    <tr style=\"text-align: right;\">\n",
       "      <th></th>\n",
       "      <th>city</th>\n",
       "      <th>location</th>\n",
       "    </tr>\n",
       "  </thead>\n",
       "  <tbody>\n",
       "    <tr>\n",
       "      <th>0</th>\n",
       "      <td>Madison</td>\n",
       "      <td>WI 53702</td>\n",
       "    </tr>\n",
       "    <tr>\n",
       "      <th>1</th>\n",
       "      <td>Madison</td>\n",
       "      <td>WI 53708</td>\n",
       "    </tr>\n",
       "    <tr>\n",
       "      <th>2</th>\n",
       "      <td>United States-Massachusetts-RaynhamOrganizatio...</td>\n",
       "      <td>None</td>\n",
       "    </tr>\n",
       "    <tr>\n",
       "      <th>3</th>\n",
       "      <td>Dixon</td>\n",
       "      <td>CA</td>\n",
       "    </tr>\n",
       "    <tr>\n",
       "      <th>4</th>\n",
       "      <td>Camphill</td>\n",
       "      <td>PA</td>\n",
       "    </tr>\n",
       "    <tr>\n",
       "      <th>...</th>\n",
       "      <td>...</td>\n",
       "      <td>...</td>\n",
       "    </tr>\n",
       "    <tr>\n",
       "      <th>21995</th>\n",
       "      <td>Cincinnati</td>\n",
       "      <td>OH</td>\n",
       "    </tr>\n",
       "    <tr>\n",
       "      <th>21996</th>\n",
       "      <td>Cincinnati</td>\n",
       "      <td>OH 45236</td>\n",
       "    </tr>\n",
       "    <tr>\n",
       "      <th>21997</th>\n",
       "      <td>Chicago</td>\n",
       "      <td>IL 60602</td>\n",
       "    </tr>\n",
       "    <tr>\n",
       "      <th>21998</th>\n",
       "      <td>Chicago</td>\n",
       "      <td>IL 60609</td>\n",
       "    </tr>\n",
       "    <tr>\n",
       "      <th>21999</th>\n",
       "      <td>Cincinnati</td>\n",
       "      <td>OH</td>\n",
       "    </tr>\n",
       "  </tbody>\n",
       "</table>\n",
       "<p>22000 rows × 2 columns</p>\n",
       "</div>"
      ],
      "text/plain": [
       "                                                    city   location\n",
       "0                                                Madison   WI 53702\n",
       "1                                                Madison   WI 53708\n",
       "2      United States-Massachusetts-RaynhamOrganizatio...       None\n",
       "3                                                  Dixon         CA\n",
       "4                                               Camphill         PA\n",
       "...                                                  ...        ...\n",
       "21995                                         Cincinnati         OH\n",
       "21996                                         Cincinnati   OH 45236\n",
       "21997                                            Chicago   IL 60602\n",
       "21998                                            Chicago   IL 60609\n",
       "21999                                         Cincinnati         OH\n",
       "\n",
       "[22000 rows x 2 columns]"
      ]
     },
     "execution_count": 255,
     "metadata": {},
     "output_type": "execute_result"
    }
   ],
   "source": [
    "df[['city','location']]"
   ]
  },
  {
   "cell_type": "code",
   "execution_count": 256,
   "id": "88b3478c",
   "metadata": {},
   "outputs": [],
   "source": [
    "df[['city','drop']] = df['city'].str.split(\"Organization\",n=1,expand = True)"
   ]
  },
  {
   "cell_type": "code",
   "execution_count": 257,
   "id": "d3dd1690",
   "metadata": {},
   "outputs": [
    {
     "data": {
      "text/plain": [
       "0                                    Madison\n",
       "1                                    Madison\n",
       "2        United States-Massachusetts-Raynham\n",
       "3                                      Dixon\n",
       "4                                   Camphill\n",
       "                        ...                 \n",
       "21995                             Cincinnati\n",
       "21996                             Cincinnati\n",
       "21997                                Chicago\n",
       "21998                                Chicago\n",
       "21999                             Cincinnati\n",
       "Name: city, Length: 22000, dtype: object"
      ]
     },
     "execution_count": 257,
     "metadata": {},
     "output_type": "execute_result"
    }
   ],
   "source": [
    "df['city']"
   ]
  },
  {
   "cell_type": "code",
   "execution_count": 258,
   "id": "00df0bd2",
   "metadata": {},
   "outputs": [],
   "source": [
    "df['city'] = df['city'].replace(\"United States-Massachusetts-Raynham\",'Raynham')"
   ]
  },
  {
   "cell_type": "code",
   "execution_count": 259,
   "id": "c62bb4c3",
   "metadata": {},
   "outputs": [
    {
     "data": {
      "text/plain": [
       "0           Madison\n",
       "1           Madison\n",
       "2           Raynham\n",
       "3             Dixon\n",
       "4          Camphill\n",
       "            ...    \n",
       "21995    Cincinnati\n",
       "21996    Cincinnati\n",
       "21997       Chicago\n",
       "21998       Chicago\n",
       "21999    Cincinnati\n",
       "Name: city, Length: 22000, dtype: object"
      ]
     },
     "execution_count": 259,
     "metadata": {},
     "output_type": "execute_result"
    }
   ],
   "source": [
    "df['city']"
   ]
  },
  {
   "cell_type": "code",
   "execution_count": 260,
   "id": "a6d7a594",
   "metadata": {},
   "outputs": [
    {
     "data": {
      "text/plain": [
       "0         WI 53702\n",
       "1         WI 53708\n",
       "2             None\n",
       "3               CA\n",
       "4               PA\n",
       "           ...    \n",
       "21995           OH\n",
       "21996     OH 45236\n",
       "21997     IL 60602\n",
       "21998     IL 60609\n",
       "21999           OH\n",
       "Name: location, Length: 22000, dtype: object"
      ]
     },
     "execution_count": 260,
     "metadata": {},
     "output_type": "execute_result"
    }
   ],
   "source": [
    "df.location"
   ]
  },
  {
   "cell_type": "code",
   "execution_count": 261,
   "id": "332eb148",
   "metadata": {},
   "outputs": [
    {
     "data": {
      "text/plain": [
       "0          WI\n",
       "1          WI\n",
       "2        None\n",
       "3          CA\n",
       "4          PA\n",
       "         ... \n",
       "21995      OH\n",
       "21996      OH\n",
       "21997      IL\n",
       "21998      IL\n",
       "21999      OH\n",
       "Name: location, Length: 22000, dtype: object"
      ]
     },
     "execution_count": 261,
     "metadata": {},
     "output_type": "execute_result"
    }
   ],
   "source": [
    "df['location'].str[:3]"
   ]
  },
  {
   "cell_type": "code",
   "execution_count": 262,
   "id": "0b3f73b3",
   "metadata": {},
   "outputs": [],
   "source": [
    "df['state_code'] = df['location'].str[:3]"
   ]
  },
  {
   "cell_type": "code",
   "execution_count": 263,
   "id": "1b83cf9a",
   "metadata": {},
   "outputs": [
    {
     "data": {
      "text/plain": [
       "0          WI\n",
       "1          WI\n",
       "2        None\n",
       "3          CA\n",
       "4          PA\n",
       "         ... \n",
       "21995      OH\n",
       "21996      OH\n",
       "21997      IL\n",
       "21998      IL\n",
       "21999      OH\n",
       "Name: state_code, Length: 22000, dtype: object"
      ]
     },
     "execution_count": 263,
     "metadata": {},
     "output_type": "execute_result"
    }
   ],
   "source": [
    "df.state_code"
   ]
  },
  {
   "cell_type": "code",
   "execution_count": 264,
   "id": "1dbd7855",
   "metadata": {},
   "outputs": [],
   "source": [
    "df['pincode'] = df['location'].str[3:]"
   ]
  },
  {
   "cell_type": "code",
   "execution_count": 265,
   "id": "4aa55d8a",
   "metadata": {},
   "outputs": [
    {
     "data": {
      "text/plain": [
       "0         53702\n",
       "1         53708\n",
       "2          None\n",
       "3              \n",
       "4              \n",
       "          ...  \n",
       "21995          \n",
       "21996     45236\n",
       "21997     60602\n",
       "21998     60609\n",
       "21999          \n",
       "Name: pincode, Length: 22000, dtype: object"
      ]
     },
     "execution_count": 265,
     "metadata": {},
     "output_type": "execute_result"
    }
   ],
   "source": [
    "df.pincode"
   ]
  },
  {
   "cell_type": "markdown",
   "id": "9b9ed7af",
   "metadata": {},
   "source": [
    "## Cleaning Organization Column"
   ]
  },
  {
   "cell_type": "code",
   "execution_count": 266,
   "id": "b52cb62b",
   "metadata": {},
   "outputs": [],
   "source": [
    "# Organization_name  \n",
    "# some has location values\n",
    "# other/not classified/All  -> Unknowm"
   ]
  },
  {
   "cell_type": "code",
   "execution_count": 267,
   "id": "b3377007",
   "metadata": {},
   "outputs": [
    {
     "data": {
      "text/html": [
       "<div>\n",
       "<style scoped>\n",
       "    .dataframe tbody tr th:only-of-type {\n",
       "        vertical-align: middle;\n",
       "    }\n",
       "\n",
       "    .dataframe tbody tr th {\n",
       "        vertical-align: top;\n",
       "    }\n",
       "\n",
       "    .dataframe thead th {\n",
       "        text-align: right;\n",
       "    }\n",
       "</style>\n",
       "<table border=\"1\" class=\"dataframe\">\n",
       "  <thead>\n",
       "    <tr style=\"text-align: right;\">\n",
       "      <th></th>\n",
       "      <th>country</th>\n",
       "      <th>country_code</th>\n",
       "      <th>date_added</th>\n",
       "      <th>has_expired</th>\n",
       "      <th>job_board</th>\n",
       "      <th>job_description</th>\n",
       "      <th>job_title</th>\n",
       "      <th>job_type</th>\n",
       "      <th>location</th>\n",
       "      <th>organization</th>\n",
       "      <th>...</th>\n",
       "      <th>salary</th>\n",
       "      <th>sector</th>\n",
       "      <th>uniq_id</th>\n",
       "      <th>IsEmployee</th>\n",
       "      <th>IsIntern</th>\n",
       "      <th>JobTerm</th>\n",
       "      <th>city</th>\n",
       "      <th>drop</th>\n",
       "      <th>state_code</th>\n",
       "      <th>pincode</th>\n",
       "    </tr>\n",
       "  </thead>\n",
       "  <tbody>\n",
       "    <tr>\n",
       "      <th>57</th>\n",
       "      <td>United States of America</td>\n",
       "      <td>US</td>\n",
       "      <td>NaN</td>\n",
       "      <td>No</td>\n",
       "      <td>jobs.monster.com</td>\n",
       "      <td>Enterprise Products Partners L.P. Is One Of ...</td>\n",
       "      <td>Specialist</td>\n",
       "      <td>Full Time</td>\n",
       "      <td>TX 77001</td>\n",
       "      <td>All</td>\n",
       "      <td>...</td>\n",
       "      <td>NaN</td>\n",
       "      <td>Experienced (Non-Manager)</td>\n",
       "      <td>54b3bb1da783d46a5b4db82995ff357f</td>\n",
       "      <td>False</td>\n",
       "      <td>False</td>\n",
       "      <td>Unknown</td>\n",
       "      <td>Houston</td>\n",
       "      <td>None</td>\n",
       "      <td>TX</td>\n",
       "      <td>77001</td>\n",
       "    </tr>\n",
       "    <tr>\n",
       "      <th>113</th>\n",
       "      <td>United States of America</td>\n",
       "      <td>US</td>\n",
       "      <td>NaN</td>\n",
       "      <td>No</td>\n",
       "      <td>jobs.monster.com</td>\n",
       "      <td>Temporary Student Paraprofessional Paid Intern...</td>\n",
       "      <td>Temporary Student Paraprofessional</td>\n",
       "      <td>Full Time</td>\n",
       "      <td>FL 33431</td>\n",
       "      <td>All</td>\n",
       "      <td>...</td>\n",
       "      <td>NaN</td>\n",
       "      <td>NaN</td>\n",
       "      <td>841a58c886ae3910f95f61049ecba82f</td>\n",
       "      <td>False</td>\n",
       "      <td>False</td>\n",
       "      <td>Unknown</td>\n",
       "      <td>West Palm Beach</td>\n",
       "      <td>None</td>\n",
       "      <td>FL</td>\n",
       "      <td>33431</td>\n",
       "    </tr>\n",
       "  </tbody>\n",
       "</table>\n",
       "<p>2 rows × 21 columns</p>\n",
       "</div>"
      ],
      "text/plain": [
       "                      country country_code date_added has_expired  \\\n",
       "57   United States of America           US        NaN          No   \n",
       "113  United States of America           US        NaN          No   \n",
       "\n",
       "            job_board                                    job_description  \\\n",
       "57   jobs.monster.com    Enterprise Products Partners L.P. Is One Of ...   \n",
       "113  jobs.monster.com  Temporary Student Paraprofessional Paid Intern...   \n",
       "\n",
       "                               job_title   job_type   location organization  \\\n",
       "57                            Specialist  Full Time   TX 77001          All   \n",
       "113  Temporary Student Paraprofessional   Full Time   FL 33431          All   \n",
       "\n",
       "     ... salary                     sector                           uniq_id  \\\n",
       "57   ...    NaN  Experienced (Non-Manager)  54b3bb1da783d46a5b4db82995ff357f   \n",
       "113  ...    NaN                        NaN  841a58c886ae3910f95f61049ecba82f   \n",
       "\n",
       "    IsEmployee  IsIntern  JobTerm             city  drop state_code pincode  \n",
       "57       False     False  Unknown          Houston  None         TX   77001  \n",
       "113      False     False  Unknown  West Palm Beach  None         FL   33431  \n",
       "\n",
       "[2 rows x 21 columns]"
      ]
     },
     "execution_count": 267,
     "metadata": {},
     "output_type": "execute_result"
    }
   ],
   "source": [
    "df[df['organization'].str.contains(r'All\\b',na=False)].head(2)"
   ]
  },
  {
   "cell_type": "code",
   "execution_count": 268,
   "id": "0f1fa01d",
   "metadata": {},
   "outputs": [
    {
     "data": {
      "text/html": [
       "<div>\n",
       "<style scoped>\n",
       "    .dataframe tbody tr th:only-of-type {\n",
       "        vertical-align: middle;\n",
       "    }\n",
       "\n",
       "    .dataframe tbody tr th {\n",
       "        vertical-align: top;\n",
       "    }\n",
       "\n",
       "    .dataframe thead th {\n",
       "        text-align: right;\n",
       "    }\n",
       "</style>\n",
       "<table border=\"1\" class=\"dataframe\">\n",
       "  <thead>\n",
       "    <tr style=\"text-align: right;\">\n",
       "      <th></th>\n",
       "      <th>country</th>\n",
       "      <th>country_code</th>\n",
       "      <th>date_added</th>\n",
       "      <th>has_expired</th>\n",
       "      <th>job_board</th>\n",
       "      <th>job_description</th>\n",
       "      <th>job_title</th>\n",
       "      <th>job_type</th>\n",
       "      <th>location</th>\n",
       "      <th>organization</th>\n",
       "      <th>...</th>\n",
       "      <th>salary</th>\n",
       "      <th>sector</th>\n",
       "      <th>uniq_id</th>\n",
       "      <th>IsEmployee</th>\n",
       "      <th>IsIntern</th>\n",
       "      <th>JobTerm</th>\n",
       "      <th>city</th>\n",
       "      <th>drop</th>\n",
       "      <th>state_code</th>\n",
       "      <th>pincode</th>\n",
       "    </tr>\n",
       "  </thead>\n",
       "  <tbody>\n",
       "    <tr>\n",
       "      <th>42</th>\n",
       "      <td>United States of America</td>\n",
       "      <td>US</td>\n",
       "      <td>NaN</td>\n",
       "      <td>No</td>\n",
       "      <td>jobs.monster.com</td>\n",
       "      <td>Job Description:Job Summarythe Office Administ...</td>\n",
       "      <td>Office Administrator -</td>\n",
       "      <td>Full Time</td>\n",
       "      <td>CO 80237</td>\n",
       "      <td>Other/Not Classified</td>\n",
       "      <td>...</td>\n",
       "      <td>Up to $32000.00</td>\n",
       "      <td>Experienced (Non-Manager)</td>\n",
       "      <td>1f2da47e60173c6667395f081c048713</td>\n",
       "      <td>False</td>\n",
       "      <td>False</td>\n",
       "      <td>Unknown</td>\n",
       "      <td>Denver</td>\n",
       "      <td>None</td>\n",
       "      <td>CO</td>\n",
       "      <td>80237</td>\n",
       "    </tr>\n",
       "    <tr>\n",
       "      <th>69</th>\n",
       "      <td>United States of America</td>\n",
       "      <td>US</td>\n",
       "      <td>NaN</td>\n",
       "      <td>No</td>\n",
       "      <td>jobs.monster.com</td>\n",
       "      <td>Do You Have A Passion For The Beauty Industry?...</td>\n",
       "      <td>Salon Coordinator</td>\n",
       "      <td>Part Time</td>\n",
       "      <td>ND</td>\n",
       "      <td>Other/Not Classified</td>\n",
       "      <td>...</td>\n",
       "      <td>NaN</td>\n",
       "      <td>Customer Support/Client Care</td>\n",
       "      <td>2f9e2894fbff2bddd6864444b9a81e75</td>\n",
       "      <td>True</td>\n",
       "      <td>False</td>\n",
       "      <td>Unknown</td>\n",
       "      <td>Fargo</td>\n",
       "      <td>None</td>\n",
       "      <td>ND</td>\n",
       "      <td></td>\n",
       "    </tr>\n",
       "  </tbody>\n",
       "</table>\n",
       "<p>2 rows × 21 columns</p>\n",
       "</div>"
      ],
      "text/plain": [
       "                     country country_code date_added has_expired  \\\n",
       "42  United States of America           US        NaN          No   \n",
       "69  United States of America           US        NaN          No   \n",
       "\n",
       "           job_board                                    job_description  \\\n",
       "42  jobs.monster.com  Job Description:Job Summarythe Office Administ...   \n",
       "69  jobs.monster.com  Do You Have A Passion For The Beauty Industry?...   \n",
       "\n",
       "                  job_title    job_type   location          organization  ...  \\\n",
       "42  Office Administrator -    Full Time   CO 80237  Other/Not Classified  ...   \n",
       "69       Salon Coordinator   Part Time          ND  Other/Not Classified  ...   \n",
       "\n",
       "             salary                        sector  \\\n",
       "42  Up to $32000.00     Experienced (Non-Manager)   \n",
       "69              NaN  Customer Support/Client Care   \n",
       "\n",
       "                             uniq_id IsEmployee  IsIntern  JobTerm    city  \\\n",
       "42  1f2da47e60173c6667395f081c048713      False     False  Unknown  Denver   \n",
       "69  2f9e2894fbff2bddd6864444b9a81e75       True     False  Unknown   Fargo   \n",
       "\n",
       "    drop state_code pincode  \n",
       "42  None         CO   80237  \n",
       "69  None         ND          \n",
       "\n",
       "[2 rows x 21 columns]"
      ]
     },
     "execution_count": 268,
     "metadata": {},
     "output_type": "execute_result"
    }
   ],
   "source": [
    "df[df['organization'].str.contains(r'^Other/Not Classified',na=False)].head(2)"
   ]
  },
  {
   "cell_type": "code",
   "execution_count": 269,
   "id": "9cf7f194",
   "metadata": {},
   "outputs": [],
   "source": [
    "df['organization'] = df[\"organization\"].str.replace(r'^Other/Not Classified|All\\b',\"Unknown\",regex=True)"
   ]
  },
  {
   "cell_type": "markdown",
   "id": "891d1baa",
   "metadata": {},
   "source": [
    "#### Some Values Are Of Location So, Swapping Them"
   ]
  },
  {
   "cell_type": "code",
   "execution_count": 270,
   "id": "cc35f7ba",
   "metadata": {},
   "outputs": [
    {
     "data": {
      "text/plain": [
       "'Sr. Process Engineer, Manufacturing'"
      ]
     },
     "execution_count": 270,
     "metadata": {},
     "output_type": "execute_result"
    }
   ],
   "source": [
    "df.loc[29,'organization'] "
   ]
  },
  {
   "cell_type": "code",
   "execution_count": 271,
   "id": "ce67cadc",
   "metadata": {},
   "outputs": [],
   "source": [
    "idx = df.organization.isin(list(df.location)) \n",
    "df.loc[idx,['location','organization']] = df.loc[idx,['organization','location']].values"
   ]
  },
  {
   "cell_type": "code",
   "execution_count": 272,
   "id": "fefaaf91",
   "metadata": {},
   "outputs": [
    {
     "data": {
      "text/plain": [
       "0                                                   NaN\n",
       "1                               Printing and Publishing\n",
       "2                       Personal and Household Services\n",
       "3                                      Altec Industries\n",
       "4                                                Retail\n",
       "                              ...                      \n",
       "21995                                               NaN\n",
       "21996    Construction - Residential & Commercial/Office\n",
       "21997                                               NaN\n",
       "21998                         Jernberg Industries, Inc.\n",
       "21999                                               NaN\n",
       "Name: organization, Length: 22000, dtype: object"
      ]
     },
     "execution_count": 272,
     "metadata": {},
     "output_type": "execute_result"
    }
   ],
   "source": [
    "df['organization']"
   ]
  },
  {
   "cell_type": "markdown",
   "id": "3fd0d5e7",
   "metadata": {},
   "source": [
    "## Cleaning page_url Column"
   ]
  },
  {
   "cell_type": "code",
   "execution_count": 273,
   "id": "4b016cd0",
   "metadata": {},
   "outputs": [
    {
     "data": {
      "text/plain": [
       "22000"
      ]
     },
     "execution_count": 273,
     "metadata": {},
     "output_type": "execute_result"
    }
   ],
   "source": [
    "df.page_url.notnull().sum() # no null"
   ]
  },
  {
   "cell_type": "code",
   "execution_count": 274,
   "id": "33be0d57",
   "metadata": {},
   "outputs": [
    {
     "data": {
      "text/plain": [
       "array(['http://jobview.monster.com/it-support-technician-job-madison-wi-us-167855963.aspx?mescoid=1500134001001&jobPosition=20',\n",
       "       'http://jobview.monster.com/business-reporter-editor-job-madison-wi-us-167830105.aspx?mescoid=2700437001001&jobPosition=7',\n",
       "       'http://jobview.monster.com/senior-training-leader-job-raynham-ma-us-177958678.aspx?mescoid=1100055001001&jobPosition=4',\n",
       "       ...,\n",
       "       'http://jobview.monster.com/AEM-CQ5-developer-Job-chicago-IL-US-165384644.aspx?mescoid=1500127001001&jobPosition=1',\n",
       "       'http://jobview.monster.com/Electrician-Experienced-Forging-Electrician-Job-Chicago-IL-US-160653991.aspx?mescoid=4700805001001&jobPosition=16',\n",
       "       'http://jobview.monster.com/Contract-Administrator-Job-Cincinnati-OH-US-164541784.aspx?mescoid=1300093001001&jobPosition=5'],\n",
       "      dtype=object)"
      ]
     },
     "execution_count": 274,
     "metadata": {},
     "output_type": "execute_result"
    }
   ],
   "source": [
    "df.page_url.unique()"
   ]
  },
  {
   "cell_type": "markdown",
   "id": "03e16e10",
   "metadata": {},
   "source": [
    "## Cleaning Sector Column"
   ]
  },
  {
   "cell_type": "code",
   "execution_count": 288,
   "id": "cfa79eee",
   "metadata": {},
   "outputs": [
    {
     "data": {
      "text/plain": [
       "0                      IT/Software Development\n",
       "1                                          NaN\n",
       "2                                          NaN\n",
       "3                    Experienced (Non-Manager)\n",
       "4                   Project/Program Management\n",
       "                         ...                  \n",
       "21995                                      NaN\n",
       "21996    Manager (Manager/Supervisor of Staff)\n",
       "21997                                      NaN\n",
       "21998          Installation/Maintenance/Repair\n",
       "21999                Experienced (Non-Manager)\n",
       "Name: sector, Length: 22000, dtype: object"
      ]
     },
     "execution_count": 288,
     "metadata": {},
     "output_type": "execute_result"
    }
   ],
   "source": [
    "df.sector"
   ]
  },
  {
   "cell_type": "code",
   "execution_count": 276,
   "id": "8ddc6746",
   "metadata": {},
   "outputs": [],
   "source": [
    "#has sector name\n",
    "#take some values from organization name\n",
    "#has some values of experience or requirements or prerquisites values"
   ]
  },
  {
   "cell_type": "code",
   "execution_count": 277,
   "id": "f5f3ebdd",
   "metadata": {},
   "outputs": [
    {
     "data": {
      "text/html": [
       "<div>\n",
       "<style scoped>\n",
       "    .dataframe tbody tr th:only-of-type {\n",
       "        vertical-align: middle;\n",
       "    }\n",
       "\n",
       "    .dataframe tbody tr th {\n",
       "        vertical-align: top;\n",
       "    }\n",
       "\n",
       "    .dataframe thead th {\n",
       "        text-align: right;\n",
       "    }\n",
       "</style>\n",
       "<table border=\"1\" class=\"dataframe\">\n",
       "  <thead>\n",
       "    <tr style=\"text-align: right;\">\n",
       "      <th></th>\n",
       "      <th>country</th>\n",
       "      <th>country_code</th>\n",
       "      <th>date_added</th>\n",
       "      <th>has_expired</th>\n",
       "      <th>job_board</th>\n",
       "      <th>job_description</th>\n",
       "      <th>job_title</th>\n",
       "      <th>job_type</th>\n",
       "      <th>location</th>\n",
       "      <th>organization</th>\n",
       "      <th>...</th>\n",
       "      <th>salary</th>\n",
       "      <th>sector</th>\n",
       "      <th>uniq_id</th>\n",
       "      <th>IsEmployee</th>\n",
       "      <th>IsIntern</th>\n",
       "      <th>JobTerm</th>\n",
       "      <th>city</th>\n",
       "      <th>drop</th>\n",
       "      <th>state_code</th>\n",
       "      <th>pincode</th>\n",
       "    </tr>\n",
       "  </thead>\n",
       "  <tbody>\n",
       "    <tr>\n",
       "      <th>3</th>\n",
       "      <td>United States of America</td>\n",
       "      <td>US</td>\n",
       "      <td>NaN</td>\n",
       "      <td>No</td>\n",
       "      <td>jobs.monster.com</td>\n",
       "      <td>Why Join Altec? If You’Re Considering A Career...</td>\n",
       "      <td>Engineer - Quality</td>\n",
       "      <td>Full Time</td>\n",
       "      <td>CA</td>\n",
       "      <td>Altec Industries</td>\n",
       "      <td>...</td>\n",
       "      <td>NaN</td>\n",
       "      <td>Experienced (Non-Manager)</td>\n",
       "      <td>58435fcab804439efdcaa7ecca0fd783</td>\n",
       "      <td>False</td>\n",
       "      <td>False</td>\n",
       "      <td>Unknown</td>\n",
       "      <td>Dixon</td>\n",
       "      <td>None</td>\n",
       "      <td>CA</td>\n",
       "      <td></td>\n",
       "    </tr>\n",
       "    <tr>\n",
       "      <th>5</th>\n",
       "      <td>United States of America</td>\n",
       "      <td>US</td>\n",
       "      <td>NaN</td>\n",
       "      <td>No</td>\n",
       "      <td>jobs.monster.com</td>\n",
       "      <td>Job Description Job #:  720298Apex Systems Has...</td>\n",
       "      <td>Construction Pm - Charlottesville</td>\n",
       "      <td>Full Time</td>\n",
       "      <td>VA</td>\n",
       "      <td>Computer/IT Services</td>\n",
       "      <td>...</td>\n",
       "      <td>NaN</td>\n",
       "      <td>Experienced (Non-Manager)</td>\n",
       "      <td>1e2637cb5f7a2c4615a99a26c0566c66</td>\n",
       "      <td>True</td>\n",
       "      <td>False</td>\n",
       "      <td>Unknown</td>\n",
       "      <td>Charlottesville</td>\n",
       "      <td>None</td>\n",
       "      <td>VA</td>\n",
       "      <td></td>\n",
       "    </tr>\n",
       "  </tbody>\n",
       "</table>\n",
       "<p>2 rows × 21 columns</p>\n",
       "</div>"
      ],
      "text/plain": [
       "                    country country_code date_added has_expired  \\\n",
       "3  United States of America           US        NaN          No   \n",
       "5  United States of America           US        NaN          No   \n",
       "\n",
       "          job_board                                    job_description  \\\n",
       "3  jobs.monster.com  Why Join Altec? If You’Re Considering A Career...   \n",
       "5  jobs.monster.com  Job Description Job #:  720298Apex Systems Has...   \n",
       "\n",
       "                            job_title    job_type location  \\\n",
       "3                 Engineer - Quality    Full Time       CA   \n",
       "5  Construction Pm - Charlottesville   Full Time        VA   \n",
       "\n",
       "           organization  ... salary                     sector  \\\n",
       "3      Altec Industries  ...    NaN  Experienced (Non-Manager)   \n",
       "5  Computer/IT Services  ...    NaN  Experienced (Non-Manager)   \n",
       "\n",
       "                            uniq_id IsEmployee  IsIntern  JobTerm  \\\n",
       "3  58435fcab804439efdcaa7ecca0fd783      False     False  Unknown   \n",
       "5  1e2637cb5f7a2c4615a99a26c0566c66       True     False  Unknown   \n",
       "\n",
       "              city  drop state_code pincode  \n",
       "3            Dixon  None         CA          \n",
       "5  Charlottesville  None         VA          \n",
       "\n",
       "[2 rows x 21 columns]"
      ]
     },
     "execution_count": 277,
     "metadata": {},
     "output_type": "execute_result"
    }
   ],
   "source": [
    "df[df['sector'].str.contains('Experienced',na=False)].head(2)"
   ]
  },
  {
   "cell_type": "code",
   "execution_count": 278,
   "id": "0d0cc695",
   "metadata": {},
   "outputs": [
    {
     "data": {
      "text/html": [
       "<div>\n",
       "<style scoped>\n",
       "    .dataframe tbody tr th:only-of-type {\n",
       "        vertical-align: middle;\n",
       "    }\n",
       "\n",
       "    .dataframe tbody tr th {\n",
       "        vertical-align: top;\n",
       "    }\n",
       "\n",
       "    .dataframe thead th {\n",
       "        text-align: right;\n",
       "    }\n",
       "</style>\n",
       "<table border=\"1\" class=\"dataframe\">\n",
       "  <thead>\n",
       "    <tr style=\"text-align: right;\">\n",
       "      <th></th>\n",
       "      <th>country</th>\n",
       "      <th>country_code</th>\n",
       "      <th>date_added</th>\n",
       "      <th>has_expired</th>\n",
       "      <th>job_board</th>\n",
       "      <th>job_description</th>\n",
       "      <th>job_title</th>\n",
       "      <th>job_type</th>\n",
       "      <th>location</th>\n",
       "      <th>organization</th>\n",
       "      <th>...</th>\n",
       "      <th>salary</th>\n",
       "      <th>sector</th>\n",
       "      <th>uniq_id</th>\n",
       "      <th>IsEmployee</th>\n",
       "      <th>IsIntern</th>\n",
       "      <th>JobTerm</th>\n",
       "      <th>city</th>\n",
       "      <th>drop</th>\n",
       "      <th>state_code</th>\n",
       "      <th>pincode</th>\n",
       "    </tr>\n",
       "  </thead>\n",
       "  <tbody>\n",
       "    <tr>\n",
       "      <th>13</th>\n",
       "      <td>United States of America</td>\n",
       "      <td>US</td>\n",
       "      <td>NaN</td>\n",
       "      <td>No</td>\n",
       "      <td>jobs.monster.com</td>\n",
       "      <td>Launch Your Teaching Career With The Leader In...</td>\n",
       "      <td>Primrose Private Preschool Teacher</td>\n",
       "      <td>Full Time</td>\n",
       "      <td>TX 77098</td>\n",
       "      <td>Education</td>\n",
       "      <td>...</td>\n",
       "      <td>9.00 - 13.00 $ /hour</td>\n",
       "      <td>Entry Level</td>\n",
       "      <td>b43c077756d5a326c4854e1399fd2464</td>\n",
       "      <td>False</td>\n",
       "      <td>False</td>\n",
       "      <td>Unknown</td>\n",
       "      <td>Houston</td>\n",
       "      <td>None</td>\n",
       "      <td>TX</td>\n",
       "      <td>77098</td>\n",
       "    </tr>\n",
       "    <tr>\n",
       "      <th>46</th>\n",
       "      <td>United States of America</td>\n",
       "      <td>US</td>\n",
       "      <td>NaN</td>\n",
       "      <td>No</td>\n",
       "      <td>jobs.monster.com</td>\n",
       "      <td>Adolfson &amp; Peterson (Ap), One Of The Nation’S ...</td>\n",
       "      <td>Project Engineer- Co</td>\n",
       "      <td>Full Time</td>\n",
       "      <td>CO 80011</td>\n",
       "      <td>Construction - Residential &amp; Commercial/Office</td>\n",
       "      <td>...</td>\n",
       "      <td>NaN</td>\n",
       "      <td>Entry Level</td>\n",
       "      <td>218b1fcde8264f6aa454aa823aa13780</td>\n",
       "      <td>False</td>\n",
       "      <td>False</td>\n",
       "      <td>Unknown</td>\n",
       "      <td>Aurora</td>\n",
       "      <td>None</td>\n",
       "      <td>CO</td>\n",
       "      <td>80011</td>\n",
       "    </tr>\n",
       "  </tbody>\n",
       "</table>\n",
       "<p>2 rows × 21 columns</p>\n",
       "</div>"
      ],
      "text/plain": [
       "                     country country_code date_added has_expired  \\\n",
       "13  United States of America           US        NaN          No   \n",
       "46  United States of America           US        NaN          No   \n",
       "\n",
       "           job_board                                    job_description  \\\n",
       "13  jobs.monster.com  Launch Your Teaching Career With The Leader In...   \n",
       "46  jobs.monster.com  Adolfson & Peterson (Ap), One Of The Nation’S ...   \n",
       "\n",
       "                              job_title   job_type   location  \\\n",
       "13  Primrose Private Preschool Teacher   Full Time   TX 77098   \n",
       "46                Project Engineer- Co   Full Time   CO 80011   \n",
       "\n",
       "                                      organization  ...                salary  \\\n",
       "13                                       Education  ...  9.00 - 13.00 $ /hour   \n",
       "46  Construction - Residential & Commercial/Office  ...                   NaN   \n",
       "\n",
       "         sector                           uniq_id IsEmployee  IsIntern  \\\n",
       "13  Entry Level  b43c077756d5a326c4854e1399fd2464      False     False   \n",
       "46  Entry Level  218b1fcde8264f6aa454aa823aa13780      False     False   \n",
       "\n",
       "    JobTerm     city  drop state_code pincode  \n",
       "13  Unknown  Houston  None         TX   77098  \n",
       "46  Unknown   Aurora  None         CO   80011  \n",
       "\n",
       "[2 rows x 21 columns]"
      ]
     },
     "execution_count": 278,
     "metadata": {},
     "output_type": "execute_result"
    }
   ],
   "source": [
    "df[df['sector'].str.contains('Entry Level',na=False)].head(2)"
   ]
  },
  {
   "cell_type": "code",
   "execution_count": 279,
   "id": "42a04708",
   "metadata": {},
   "outputs": [],
   "source": [
    "df['Experienced_level'] = df['sector'].mask(df['sector'].str.contains('Experienced').notnull(),'True',axis=0)"
   ]
  },
  {
   "cell_type": "code",
   "execution_count": 280,
   "id": "89a9a028",
   "metadata": {},
   "outputs": [],
   "source": [
    "df['Beginner_level'] = df['sector'].mask(df['sector'].str.contains('Entry Level').notnull(),'True',axis=0)"
   ]
  },
  {
   "cell_type": "markdown",
   "id": "5709b037",
   "metadata": {},
   "source": [
    "## No Cleaning For uniq_id "
   ]
  },
  {
   "cell_type": "code",
   "execution_count": 281,
   "id": "2ef5bdff",
   "metadata": {},
   "outputs": [
    {
     "data": {
      "text/plain": [
       "22000"
      ]
     },
     "execution_count": 281,
     "metadata": {},
     "output_type": "execute_result"
    }
   ],
   "source": [
    "df.uniq_id.notnull().sum() #no null values"
   ]
  },
  {
   "cell_type": "code",
   "execution_count": 282,
   "id": "7d9cf378",
   "metadata": {},
   "outputs": [
    {
     "data": {
      "text/plain": [
       "0"
      ]
     },
     "execution_count": 282,
     "metadata": {},
     "output_type": "execute_result"
    }
   ],
   "source": [
    "df.uniq_id.duplicated().sum() # all unique values"
   ]
  },
  {
   "cell_type": "markdown",
   "id": "3bc7be1e",
   "metadata": {},
   "source": [
    "## Final Cleaning"
   ]
  },
  {
   "cell_type": "code",
   "execution_count": 283,
   "id": "84f909e5",
   "metadata": {},
   "outputs": [
    {
     "data": {
      "text/html": [
       "<div>\n",
       "<style scoped>\n",
       "    .dataframe tbody tr th:only-of-type {\n",
       "        vertical-align: middle;\n",
       "    }\n",
       "\n",
       "    .dataframe tbody tr th {\n",
       "        vertical-align: top;\n",
       "    }\n",
       "\n",
       "    .dataframe thead th {\n",
       "        text-align: right;\n",
       "    }\n",
       "</style>\n",
       "<table border=\"1\" class=\"dataframe\">\n",
       "  <thead>\n",
       "    <tr style=\"text-align: right;\">\n",
       "      <th></th>\n",
       "      <th>country</th>\n",
       "      <th>country_code</th>\n",
       "      <th>date_added</th>\n",
       "      <th>has_expired</th>\n",
       "      <th>job_board</th>\n",
       "      <th>job_description</th>\n",
       "      <th>job_title</th>\n",
       "      <th>job_type</th>\n",
       "      <th>location</th>\n",
       "      <th>organization</th>\n",
       "      <th>...</th>\n",
       "      <th>uniq_id</th>\n",
       "      <th>IsEmployee</th>\n",
       "      <th>IsIntern</th>\n",
       "      <th>JobTerm</th>\n",
       "      <th>city</th>\n",
       "      <th>drop</th>\n",
       "      <th>state_code</th>\n",
       "      <th>pincode</th>\n",
       "      <th>Experienced_level</th>\n",
       "      <th>Beginner_level</th>\n",
       "    </tr>\n",
       "  </thead>\n",
       "  <tbody>\n",
       "    <tr>\n",
       "      <th>0</th>\n",
       "      <td>United States of America</td>\n",
       "      <td>US</td>\n",
       "      <td>NaN</td>\n",
       "      <td>No</td>\n",
       "      <td>jobs.monster.com</td>\n",
       "      <td>Teamsoft Is Seeing An It Support Specialist To...</td>\n",
       "      <td>It Support Technician</td>\n",
       "      <td>Full Time</td>\n",
       "      <td>WI 53702</td>\n",
       "      <td>NaN</td>\n",
       "      <td>...</td>\n",
       "      <td>11d599f229a80023d2f40e7c52cd941e</td>\n",
       "      <td>True</td>\n",
       "      <td>False</td>\n",
       "      <td>Unknown</td>\n",
       "      <td>Madison</td>\n",
       "      <td>None</td>\n",
       "      <td>WI</td>\n",
       "      <td>53702</td>\n",
       "      <td>True</td>\n",
       "      <td>True</td>\n",
       "    </tr>\n",
       "    <tr>\n",
       "      <th>1</th>\n",
       "      <td>United States of America</td>\n",
       "      <td>US</td>\n",
       "      <td>NaN</td>\n",
       "      <td>No</td>\n",
       "      <td>jobs.monster.com</td>\n",
       "      <td>The Wisconsin State Journal Is Seeking A Flexi...</td>\n",
       "      <td>Business Reporter/Editor</td>\n",
       "      <td>Full Time</td>\n",
       "      <td>WI 53708</td>\n",
       "      <td>Printing and Publishing</td>\n",
       "      <td>...</td>\n",
       "      <td>e4cbb126dabf22159aff90223243ff2a</td>\n",
       "      <td>False</td>\n",
       "      <td>False</td>\n",
       "      <td>Unknown</td>\n",
       "      <td>Madison</td>\n",
       "      <td>None</td>\n",
       "      <td>WI</td>\n",
       "      <td>53708</td>\n",
       "      <td>NaN</td>\n",
       "      <td>NaN</td>\n",
       "    </tr>\n",
       "  </tbody>\n",
       "</table>\n",
       "<p>2 rows × 23 columns</p>\n",
       "</div>"
      ],
      "text/plain": [
       "                    country country_code date_added has_expired  \\\n",
       "0  United States of America           US        NaN          No   \n",
       "1  United States of America           US        NaN          No   \n",
       "\n",
       "          job_board                                    job_description  \\\n",
       "0  jobs.monster.com  Teamsoft Is Seeing An It Support Specialist To...   \n",
       "1  jobs.monster.com  The Wisconsin State Journal Is Seeking A Flexi...   \n",
       "\n",
       "                   job_title    job_type   location             organization  \\\n",
       "0     It Support Technician   Full Time    WI 53702                      NaN   \n",
       "1  Business Reporter/Editor    Full Time   WI 53708  Printing and Publishing   \n",
       "\n",
       "   ...                           uniq_id IsEmployee IsIntern  JobTerm  \\\n",
       "0  ...  11d599f229a80023d2f40e7c52cd941e       True    False  Unknown   \n",
       "1  ...  e4cbb126dabf22159aff90223243ff2a      False    False  Unknown   \n",
       "\n",
       "      city  drop state_code pincode Experienced_level Beginner_level  \n",
       "0  Madison  None         WI   53702              True           True  \n",
       "1  Madison  None         WI   53708               NaN            NaN  \n",
       "\n",
       "[2 rows x 23 columns]"
      ]
     },
     "execution_count": 283,
     "metadata": {},
     "output_type": "execute_result"
    }
   ],
   "source": [
    "df.head(2)"
   ]
  },
  {
   "cell_type": "markdown",
   "id": "5fd50874",
   "metadata": {},
   "source": [
    "### Lets Drop Unnecessary Columns"
   ]
  },
  {
   "cell_type": "markdown",
   "id": "57491ae3",
   "metadata": {},
   "source": [
    "#### Country, Country code, has_expiired,job_board : (These Can be dropped if needed as they contain only one unique value each column, but as it depends on requirements i am leaving them as it is and dropping only those columns which have repeated information)"
   ]
  },
  {
   "cell_type": "markdown",
   "id": "c21849a3",
   "metadata": {},
   "source": [
    "#### Dropping columns : location( as i have divided location into city state and pincode), drop(this was a dummy column i have created)"
   ]
  },
  {
   "cell_type": "code",
   "execution_count": 284,
   "id": "cdee500d",
   "metadata": {},
   "outputs": [],
   "source": [
    "df.drop(\"location\",axis=1,inplace = True)\n",
    "df.drop(\"drop\",axis=1,inplace = True)"
   ]
  },
  {
   "cell_type": "code",
   "execution_count": 285,
   "id": "d476636a",
   "metadata": {},
   "outputs": [
    {
     "data": {
      "text/html": [
       "<div>\n",
       "<style scoped>\n",
       "    .dataframe tbody tr th:only-of-type {\n",
       "        vertical-align: middle;\n",
       "    }\n",
       "\n",
       "    .dataframe tbody tr th {\n",
       "        vertical-align: top;\n",
       "    }\n",
       "\n",
       "    .dataframe thead th {\n",
       "        text-align: right;\n",
       "    }\n",
       "</style>\n",
       "<table border=\"1\" class=\"dataframe\">\n",
       "  <thead>\n",
       "    <tr style=\"text-align: right;\">\n",
       "      <th></th>\n",
       "      <th>country</th>\n",
       "      <th>country_code</th>\n",
       "      <th>date_added</th>\n",
       "      <th>has_expired</th>\n",
       "      <th>job_board</th>\n",
       "      <th>job_description</th>\n",
       "      <th>job_title</th>\n",
       "      <th>job_type</th>\n",
       "      <th>organization</th>\n",
       "      <th>page_url</th>\n",
       "      <th>...</th>\n",
       "      <th>sector</th>\n",
       "      <th>uniq_id</th>\n",
       "      <th>IsEmployee</th>\n",
       "      <th>IsIntern</th>\n",
       "      <th>JobTerm</th>\n",
       "      <th>city</th>\n",
       "      <th>state_code</th>\n",
       "      <th>pincode</th>\n",
       "      <th>Experienced_level</th>\n",
       "      <th>Beginner_level</th>\n",
       "    </tr>\n",
       "  </thead>\n",
       "  <tbody>\n",
       "    <tr>\n",
       "      <th>0</th>\n",
       "      <td>United States of America</td>\n",
       "      <td>US</td>\n",
       "      <td>NaN</td>\n",
       "      <td>No</td>\n",
       "      <td>jobs.monster.com</td>\n",
       "      <td>Teamsoft Is Seeing An It Support Specialist To...</td>\n",
       "      <td>It Support Technician</td>\n",
       "      <td>Full Time</td>\n",
       "      <td>NaN</td>\n",
       "      <td>http://jobview.monster.com/it-support-technici...</td>\n",
       "      <td>...</td>\n",
       "      <td>IT/Software Development</td>\n",
       "      <td>11d599f229a80023d2f40e7c52cd941e</td>\n",
       "      <td>True</td>\n",
       "      <td>False</td>\n",
       "      <td>Unknown</td>\n",
       "      <td>Madison</td>\n",
       "      <td>WI</td>\n",
       "      <td>53702</td>\n",
       "      <td>True</td>\n",
       "      <td>True</td>\n",
       "    </tr>\n",
       "    <tr>\n",
       "      <th>1</th>\n",
       "      <td>United States of America</td>\n",
       "      <td>US</td>\n",
       "      <td>NaN</td>\n",
       "      <td>No</td>\n",
       "      <td>jobs.monster.com</td>\n",
       "      <td>The Wisconsin State Journal Is Seeking A Flexi...</td>\n",
       "      <td>Business Reporter/Editor</td>\n",
       "      <td>Full Time</td>\n",
       "      <td>Printing and Publishing</td>\n",
       "      <td>http://jobview.monster.com/business-reporter-e...</td>\n",
       "      <td>...</td>\n",
       "      <td>NaN</td>\n",
       "      <td>e4cbb126dabf22159aff90223243ff2a</td>\n",
       "      <td>False</td>\n",
       "      <td>False</td>\n",
       "      <td>Unknown</td>\n",
       "      <td>Madison</td>\n",
       "      <td>WI</td>\n",
       "      <td>53708</td>\n",
       "      <td>NaN</td>\n",
       "      <td>NaN</td>\n",
       "    </tr>\n",
       "  </tbody>\n",
       "</table>\n",
       "<p>2 rows × 21 columns</p>\n",
       "</div>"
      ],
      "text/plain": [
       "                    country country_code date_added has_expired  \\\n",
       "0  United States of America           US        NaN          No   \n",
       "1  United States of America           US        NaN          No   \n",
       "\n",
       "          job_board                                    job_description  \\\n",
       "0  jobs.monster.com  Teamsoft Is Seeing An It Support Specialist To...   \n",
       "1  jobs.monster.com  The Wisconsin State Journal Is Seeking A Flexi...   \n",
       "\n",
       "                   job_title    job_type             organization  \\\n",
       "0     It Support Technician   Full Time                       NaN   \n",
       "1  Business Reporter/Editor    Full Time  Printing and Publishing   \n",
       "\n",
       "                                            page_url  ...  \\\n",
       "0  http://jobview.monster.com/it-support-technici...  ...   \n",
       "1  http://jobview.monster.com/business-reporter-e...  ...   \n",
       "\n",
       "                    sector                           uniq_id IsEmployee  \\\n",
       "0  IT/Software Development  11d599f229a80023d2f40e7c52cd941e       True   \n",
       "1                      NaN  e4cbb126dabf22159aff90223243ff2a      False   \n",
       "\n",
       "   IsIntern  JobTerm     city state_code pincode Experienced_level  \\\n",
       "0     False  Unknown  Madison         WI   53702              True   \n",
       "1     False  Unknown  Madison         WI   53708               NaN   \n",
       "\n",
       "  Beginner_level  \n",
       "0           True  \n",
       "1            NaN  \n",
       "\n",
       "[2 rows x 21 columns]"
      ]
     },
     "execution_count": 285,
     "metadata": {},
     "output_type": "execute_result"
    }
   ],
   "source": [
    "df.head(2)"
   ]
  },
  {
   "cell_type": "markdown",
   "id": "0bb30622",
   "metadata": {},
   "source": [
    "### Rearranging Columns In Better Sequence"
   ]
  },
  {
   "cell_type": "code",
   "execution_count": 286,
   "id": "bd2cb28a",
   "metadata": {},
   "outputs": [],
   "source": [
    "df = df.reindex(columns= ['job_title' ,'organization','sector','job_type','IsEmployee','IsIntern','Experienced_level','Beginner_level','job_description','country','country_code','state_code','city','pincode','date_added','has_expired','job_board','page_url','uniq_id' ])"
   ]
  },
  {
   "cell_type": "code",
   "execution_count": 287,
   "id": "d613202c",
   "metadata": {},
   "outputs": [
    {
     "data": {
      "text/html": [
       "<div>\n",
       "<style scoped>\n",
       "    .dataframe tbody tr th:only-of-type {\n",
       "        vertical-align: middle;\n",
       "    }\n",
       "\n",
       "    .dataframe tbody tr th {\n",
       "        vertical-align: top;\n",
       "    }\n",
       "\n",
       "    .dataframe thead th {\n",
       "        text-align: right;\n",
       "    }\n",
       "</style>\n",
       "<table border=\"1\" class=\"dataframe\">\n",
       "  <thead>\n",
       "    <tr style=\"text-align: right;\">\n",
       "      <th></th>\n",
       "      <th>job_title</th>\n",
       "      <th>organization</th>\n",
       "      <th>sector</th>\n",
       "      <th>job_type</th>\n",
       "      <th>IsEmployee</th>\n",
       "      <th>IsIntern</th>\n",
       "      <th>Experienced_level</th>\n",
       "      <th>Beginner_level</th>\n",
       "      <th>job_description</th>\n",
       "      <th>country</th>\n",
       "      <th>country_code</th>\n",
       "      <th>state_code</th>\n",
       "      <th>city</th>\n",
       "      <th>pincode</th>\n",
       "      <th>date_added</th>\n",
       "      <th>has_expired</th>\n",
       "      <th>job_board</th>\n",
       "      <th>page_url</th>\n",
       "      <th>uniq_id</th>\n",
       "    </tr>\n",
       "  </thead>\n",
       "  <tbody>\n",
       "    <tr>\n",
       "      <th>0</th>\n",
       "      <td>It Support Technician</td>\n",
       "      <td>NaN</td>\n",
       "      <td>IT/Software Development</td>\n",
       "      <td>Full Time</td>\n",
       "      <td>True</td>\n",
       "      <td>False</td>\n",
       "      <td>True</td>\n",
       "      <td>True</td>\n",
       "      <td>Teamsoft Is Seeing An It Support Specialist To...</td>\n",
       "      <td>United States of America</td>\n",
       "      <td>US</td>\n",
       "      <td>WI</td>\n",
       "      <td>Madison</td>\n",
       "      <td>53702</td>\n",
       "      <td>NaN</td>\n",
       "      <td>No</td>\n",
       "      <td>jobs.monster.com</td>\n",
       "      <td>http://jobview.monster.com/it-support-technici...</td>\n",
       "      <td>11d599f229a80023d2f40e7c52cd941e</td>\n",
       "    </tr>\n",
       "    <tr>\n",
       "      <th>1</th>\n",
       "      <td>Business Reporter/Editor</td>\n",
       "      <td>Printing and Publishing</td>\n",
       "      <td>NaN</td>\n",
       "      <td>Full Time</td>\n",
       "      <td>False</td>\n",
       "      <td>False</td>\n",
       "      <td>NaN</td>\n",
       "      <td>NaN</td>\n",
       "      <td>The Wisconsin State Journal Is Seeking A Flexi...</td>\n",
       "      <td>United States of America</td>\n",
       "      <td>US</td>\n",
       "      <td>WI</td>\n",
       "      <td>Madison</td>\n",
       "      <td>53708</td>\n",
       "      <td>NaN</td>\n",
       "      <td>No</td>\n",
       "      <td>jobs.monster.com</td>\n",
       "      <td>http://jobview.monster.com/business-reporter-e...</td>\n",
       "      <td>e4cbb126dabf22159aff90223243ff2a</td>\n",
       "    </tr>\n",
       "  </tbody>\n",
       "</table>\n",
       "</div>"
      ],
      "text/plain": [
       "                   job_title             organization  \\\n",
       "0     It Support Technician                       NaN   \n",
       "1  Business Reporter/Editor   Printing and Publishing   \n",
       "\n",
       "                    sector    job_type  IsEmployee  IsIntern  \\\n",
       "0  IT/Software Development  Full Time         True     False   \n",
       "1                      NaN   Full Time       False     False   \n",
       "\n",
       "  Experienced_level Beginner_level  \\\n",
       "0              True           True   \n",
       "1               NaN            NaN   \n",
       "\n",
       "                                     job_description  \\\n",
       "0  Teamsoft Is Seeing An It Support Specialist To...   \n",
       "1  The Wisconsin State Journal Is Seeking A Flexi...   \n",
       "\n",
       "                    country country_code state_code     city pincode  \\\n",
       "0  United States of America           US         WI  Madison   53702   \n",
       "1  United States of America           US         WI  Madison   53708   \n",
       "\n",
       "  date_added has_expired         job_board  \\\n",
       "0        NaN          No  jobs.monster.com   \n",
       "1        NaN          No  jobs.monster.com   \n",
       "\n",
       "                                            page_url  \\\n",
       "0  http://jobview.monster.com/it-support-technici...   \n",
       "1  http://jobview.monster.com/business-reporter-e...   \n",
       "\n",
       "                            uniq_id  \n",
       "0  11d599f229a80023d2f40e7c52cd941e  \n",
       "1  e4cbb126dabf22159aff90223243ff2a  "
      ]
     },
     "execution_count": 287,
     "metadata": {},
     "output_type": "execute_result"
    }
   ],
   "source": [
    "df.head(2)"
   ]
  },
  {
   "cell_type": "code",
   "execution_count": null,
   "id": "b9461a02",
   "metadata": {},
   "outputs": [],
   "source": []
  }
 ],
 "metadata": {
  "kernelspec": {
   "display_name": "Python 3 (ipykernel)",
   "language": "python",
   "name": "python3"
  },
  "language_info": {
   "codemirror_mode": {
    "name": "ipython",
    "version": 3
   },
   "file_extension": ".py",
   "mimetype": "text/x-python",
   "name": "python",
   "nbconvert_exporter": "python",
   "pygments_lexer": "ipython3",
   "version": "3.10.9"
  }
 },
 "nbformat": 4,
 "nbformat_minor": 5
}
